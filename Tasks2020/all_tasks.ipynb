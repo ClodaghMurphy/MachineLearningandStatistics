{
 "cells": [
  {
   "cell_type": "markdown",
   "metadata": {},
   "source": [
    "### Tasks Assignment\n",
    "1. Write a Python function called `sqrt2` that calculates and prints to the screen the square root of 2 to 100 decimal places.   <br>Your code should not depend on any module from the standard library or otherwise. You should research the task first and include references and a description of your algorithm.  \n",
    "\n",
    "2. Use `scipy.stats` to verify the Chi-squared value of 24.16 for the table below (see section 2) and calculate the associated p value. You should include a short note with references justifying your analysis in a markdown cell.\n",
    "\n",
    "3. Research the STDEV.P and STDEV.S excel functions, writing a note in a Markdown cell about the difference between them. Then use `numpy` to perform a simulation demonstrating that the STDEV.S calculation is a better estimate for the standard\n",
    "deviation of a population when performed on a sample.\n",
    "\n",
    "4. Use `scikit-learn` to apply k-means clustering to Fisher’s famous Iris data set. Explain how your code works and how accurate it might be, and then explain how your model could be used to make predictions of species of iris."
   ]
  },
  {
   "cell_type": "markdown",
   "metadata": {},
   "source": [
    "<img src=\"banner_copyright_PeaLeafDesign.JPG\" style=\"width:900px;\">"
   ]
  },
  {
   "cell_type": "markdown",
   "metadata": {},
   "source": [
    "<b>---------------------------------------------------------------------------------------------------------------------------------------------------------\n",
    "## Task 1\n",
    "\n"
   ]
  },
  {
   "cell_type": "markdown",
   "metadata": {},
   "source": [
    "## Background\n",
    "###  $ \\sqrt{2} $ is about 1.41, so what is the big deal?"
   ]
  },
  {
   "cell_type": "markdown",
   "metadata": {},
   "source": [
    "The square root of $x$ is a number $r$ such that $r2=x$ <br>\n",
    "\n",
    "Simple examples are <br>\n",
    "square root of 9 = 3 (3 $*$ 3 = 9)<br>\n",
    "square root of 2916 = 54 (54 $*$ 54 =2916)<br>\n",
    "\n",
    "The square root of 2 is exciting because although it's \"roughly 1.41\" - in an attempt to quantify the decimal expansion in 2016 Ron Watkins estimated that there is 10 trillion digits after the decimal point.<br>\n",
    "\n",
    "That's because $ \\sqrt{2} $ is <b>irrational</b>. \n",
    "<br>\n",
    "A number is irrational when it cannot be expressed as a fraction, therefore their decimal expansions go on to infinity and never become periodic.<br>\n",
    "\n",
    "The implication, in terms of computing,  of irrationality is that the number cannot be stored as a variable - there are simply too many decimal places.<br>\n",
    "\n",
    "The challenge of this task is not only to figure it out without a python module but also to limit the number of decimal places to one hundred.<br>\n"
   ]
  },
  {
   "cell_type": "markdown",
   "metadata": {},
   "source": [
    "### What is a python function and how do they work?"
   ]
  },
  {
   "cell_type": "markdown",
   "metadata": {},
   "source": [
    "Functions in computing are an example of encapsulation where one or many lines of complex code and instructions can be wrapped up into one command. A function can be re-used between programmes, where the use of parameters can allow it to be used in different circumstances as required. <br>\n",
    "<br>\n",
    "To create a python function, define it with the keyword \"def\", followed by the name you are giving it.<br>\n",
    " **def sqrt(x):**<br>\n",
    "Brackets come immediately after the function name and specify the type of mandatory input the function accepts.<br>\n",
    "Then a description of what happens to the arguments passed into the function.<br>\n",
    "**ans=x **   0.5**<br>    \n",
    "Indentation is important because Python knows what code is related to a function by how it’s indented.<br>\n",
    "The return keyword is used in order to print the output from the function.<br>\n",
    "**return ans**<br>\n",
    "To call the function: type the name followed by (), the argument is typed between the brackets.<br>\n",
    "**sqrt(7)**<br>\n"
   ]
  },
  {
   "cell_type": "markdown",
   "metadata": {},
   "source": [
    "### Research carried out to produce sqrt2 function  "
   ]
  },
  {
   "cell_type": "markdown",
   "metadata": {},
   "source": [
    "Having established the syntax, the function needs an instruction of what to do.<br>\n",
    "I can divide the function to code into two separate parts (1) Calculate the square root (2) ensure decimal precision of 100 places and print them to the screen.<br> "
   ]
  },
  {
   "cell_type": "markdown",
   "metadata": {},
   "source": [
    "####  Calculate the square root\n",
    "The code needs to be a raw python statement (with no reference to a python library) in order to meet the requirements of the assignment.<br>\n",
    "\n",
    "To calculate the square root of $x$ <br>\n",
    "$x **   0.5$\n",
    "(Source: [Py Point youtube channel](https://www.youtube.com/watch?v=6red7dqIY-c) \"how to find square root in python without math\")"
   ]
  },
  {
   "cell_type": "code",
   "execution_count": 6,
   "metadata": {},
   "outputs": [
    {
     "data": {
      "text/plain": [
       "1.4142135623730951"
      ]
     },
     "execution_count": 6,
     "metadata": {},
     "output_type": "execute_result"
    }
   ],
   "source": [
    "2**0.5"
   ]
  },
  {
   "cell_type": "markdown",
   "metadata": {},
   "source": [
    "The accuracy of this calculation can be checked by calculating its inverse."
   ]
  },
  {
   "cell_type": "code",
   "execution_count": 4,
   "metadata": {},
   "outputs": [
    {
     "data": {
      "text/plain": [
       "2.0000000000000004"
      ]
     },
     "execution_count": 4,
     "metadata": {},
     "output_type": "execute_result"
    }
   ],
   "source": [
    "1.4142135623730951**2"
   ]
  },
  {
   "cell_type": "markdown",
   "metadata": {},
   "source": [
    "The fact that the answer is not exactly 2 is further proof of the irrationality of  $ \\sqrt{2} $"
   ]
  },
  {
   "cell_type": "markdown",
   "metadata": {},
   "source": [
    "#### Print to the screen to 100 decimal places"
   ]
  },
  {
   "cell_type": "markdown",
   "metadata": {},
   "source": [
    "It can be observed above that the default output is 16 digits after the decimal point.<br>\n",
    "This is because, in order for Python to manage the number of digits, only an approximation to the true decimal value of the binary approximation stored by the machine is printed to the screen.<br>\n",
    "How can I force a total of 100 to be printed?"
   ]
  },
  {
   "cell_type": "markdown",
   "metadata": {},
   "source": []
  },
  {
   "cell_type": "code",
   "execution_count": 6,
   "metadata": {},
   "outputs": [
    {
     "name": "stdout",
     "output_type": "stream",
     "text": [
      "Square root of 2 to 55 places 1.4142135623730951454746218587388284504413604736328125000\n"
     ]
    }
   ],
   "source": [
    "#The format() built-in function is useful up to a point as it prints out 51 decimal places but after that replaces the actual values with 0.\n",
    "def squareroot2():\n",
    "    x=(2**0.5)\n",
    "    return x\n",
    "#format(squareroot2(), '.55f')\n",
    "print(\"Square root of 2 to 55 places\",format(squareroot2(), '.55f'))"
   ]
  },
  {
   "cell_type": "code",
   "execution_count": 7,
   "metadata": {},
   "outputs": [
    {
     "name": "stdout",
     "output_type": "stream",
     "text": [
      "Square root of 2 to 100 places 1.4142135623730951454746218587388284504413604736328125000000000000000000000000000000000000000000000000\n"
     ]
    }
   ],
   "source": [
    "#Example of an attempt to use format() to print 100 decimals()\n",
    "#After 51 digits the actual values are replaced with 0\n",
    "#format(squareroot2(), '.100f')\n",
    "print(\"Square root of 2 to 100 places\",format(squareroot2(), '.100f'))"
   ]
  },
  {
   "cell_type": "markdown",
   "metadata": {},
   "source": [
    "#### Source a pre-exising algorithm that does both at once"
   ]
  },
  {
   "cell_type": "markdown",
   "metadata": {},
   "source": [
    "At this point, I concluded that there is a lot more to the task then simply formatting the output of $x **   0.5$<br>\n",
    "A more complex algorithm is required."
   ]
  },
  {
   "cell_type": "markdown",
   "metadata": {},
   "source": [
    "User casevh at [Stackoverflow.com](https://stackoverflow.com/questions/5187664/generating-digits-of-square-root-of-2) stackoverflow.com provides a code to generate the digits that make up the square root of an integer for any level of precision."
   ]
  },
  {
   "cell_type": "code",
   "execution_count": 39,
   "metadata": {},
   "outputs": [],
   "source": [
    "#code verbatim from https://stackoverflow.com/questions/5187664/generating-digits-of-square-root-of-2\n",
    "def sqroot(a, digits):\n",
    "    a = a * (10**(2*digits))\n",
    "    x_prev = 0\n",
    "    x_next = 1 * (10**digits)\n",
    "    while x_prev != x_next:\n",
    "        x_prev = x_next\n",
    "        x_next = (x_prev + (a // x_prev)) >> 1\n",
    "    return x_next"
   ]
  },
  {
   "cell_type": "markdown",
   "metadata": {},
   "source": [
    "#### Validate the answer"
   ]
  },
  {
   "cell_type": "markdown",
   "metadata": {},
   "source": [
    "Validate that the number produced by casvh's algorithm is correct by cross referencing it with another source.\n",
    "I chose the website [Astronomy Picture of the Day](https://apod.nasa.gov/htmltest/rjn_dig.html) a hobby website featuring some wonderful retro html published by two professional astronomers."
   ]
  },
  {
   "cell_type": "code",
   "execution_count": 13,
   "metadata": {},
   "outputs": [
    {
     "data": {
      "text/plain": [
       "0"
      ]
     },
     "execution_count": 13,
     "metadata": {},
     "output_type": "execute_result"
    }
   ],
   "source": [
    "x = sqroot(2,100)#casevh result\n",
    "y = 14142135623730950488016887242096980785696718753769480731766797379907324784621070388503875343276415727#apod 100digits\n",
    "#if there is no difference between the same number - they are equal!\n",
    "ans = x-y\n",
    "ans"
   ]
  },
  {
   "cell_type": "markdown",
   "metadata": {},
   "source": [
    "#### Formatting numbers with python"
   ]
  },
  {
   "cell_type": "markdown",
   "metadata": {},
   "source": [
    "Formatting the output as an integer will not work as previously noted.<br>\n",
    "The str() method is used to produce a string version of the number that I can manipulate using python string slicing."
   ]
  },
  {
   "cell_type": "code",
   "execution_count": 41,
   "metadata": {},
   "outputs": [],
   "source": [
    "my_100digits=str(sqroot(2,100))"
   ]
  },
  {
   "cell_type": "code",
   "execution_count": 42,
   "metadata": {},
   "outputs": [
    {
     "data": {
      "text/plain": [
       "'14142135623730950488016887242096980785696718753769480731766797379907324784621070388503875343276415727'"
      ]
     },
     "execution_count": 42,
     "metadata": {},
     "output_type": "execute_result"
    }
   ],
   "source": [
    "my_100digits"
   ]
  },
  {
   "cell_type": "code",
   "execution_count": 12,
   "metadata": {},
   "outputs": [
    {
     "name": "stdout",
     "output_type": "stream",
     "text": [
      "14142135623730950488016887242096980785696718753769480731766797379907324784621070388503875343276415727\n"
     ]
    }
   ],
   "source": [
    "print(my_100digits)"
   ]
  },
  {
   "cell_type": "markdown",
   "metadata": {},
   "source": [
    "Use of slicing to print symbol at index 0 a decimal point and then the rest of the numbers from index 0-101"
   ]
  },
  {
   "cell_type": "code",
   "execution_count": 26,
   "metadata": {},
   "outputs": [
    {
     "name": "stdout",
     "output_type": "stream",
     "text": [
      "1. 4142135623730950488016887242096980785696718753769480731766797379907324784621070388503875343276415727\n"
     ]
    }
   ],
   "source": [
    "print(my_100digits[:1]+\".\",my_100digits[1:101])"
   ]
  },
  {
   "cell_type": "markdown",
   "metadata": {},
   "source": [
    "I have found a series of methods that will print the square root of 2 to 100 decimal places to the screen. They now need to be assembled in a logical manner into a Python function called sqrt2. "
   ]
  },
  {
   "cell_type": "markdown",
   "metadata": {},
   "source": [
    "### Description of the algorithm\n",
    "### Python function called sqrt2 that calculates and prints to the screen the square root of 2 to 100 decimal places"
   ]
  },
  {
   "cell_type": "code",
   "execution_count": 36,
   "metadata": {},
   "outputs": [],
   "source": [
    "def sqrt2(a, digits):\n",
    "    a = a * (10**(2*digits))#calculate the integer square root of a after multiplying by 10 raised to the 2 x digits\n",
    "    x_prev = 0\n",
    "    x_next = 1 * (10**digits)\n",
    "    while x_prev != x_next:\n",
    "        x_prev = x_next\n",
    "        x_next = (x_prev + (a // x_prev)) >> 1\n",
    "        my_101digits=str(x_next)#stringify\n",
    "    return(my_101digits[:1]+\".\",my_101digits[1:101])#use of string slicing\n",
    "   #return x_next"
   ]
  },
  {
   "cell_type": "code",
   "execution_count": 37,
   "metadata": {},
   "outputs": [
    {
     "data": {
      "text/plain": [
       "('1.',\n",
       " '4142135623730950488016887242096980785696718753769480731766797379907324784621070388503875343276415727')"
      ]
     },
     "execution_count": 37,
     "metadata": {},
     "output_type": "execute_result"
    }
   ],
   "source": [
    "#Call the function with the parameters 2 and 100 to indicate the number required to be squared and the decimal precision required.\n",
    "sqrt2(2,100)"
   ]
  },
  {
   "cell_type": "markdown",
   "metadata": {},
   "source": [
    "## References Task 1"
   ]
  },
  {
   "cell_type": "markdown",
   "metadata": {},
   "source": [
    "Root 2 Video- Numberphile youtube channel [Online] https://www.youtube.com/watch?v=5sKah3pJnHI  Accessed October 11, 2020\n",
    "\n",
    "how to find square root in python without math||how to find square root in python Video on Py point youtube channel [Online] https://www.youtube.com/watch?v=6red7dqIY-c   Accessed October 11, 2020\n",
    "\n",
    "\n",
    "https://stackoverflow.com/questions/64295245/how-to-get-the-square-root-of-a-number-to-100-decimal-places-without-using-any-l[Online]   Accessed October 11, 2020\n",
    "\n",
    "   \n",
    "    \n",
    "https://en.wikipedia.org/wiki/Square_root_of_2   [Online]   Accessed October 11, 2020\n",
    "\n",
    "\n",
    "https://mathworld.wolfram.com/SquareRoot.html   [Online]   Accessed October 11, 2020\n",
    "\n",
    "\n",
    "https://mathworld.wolfram.com/IrrationalNumber.html  [Online]   Accessed October 11, 2020\n",
    "\n",
    "10,000 digits of Square Root of 2  [Online]\n",
    "https://nerdparadise.com/math/reference/2sqrt10000\n",
    "Accessed October 23, 2020\n",
    "\n",
    "How to find square root in python without math [Online]\n",
    "Available from Py Point: https://www.youtube.com/watch?v=6red7dqIY-c\n",
    "Accessed October 11, 2020\n",
    "\n",
    "User: casevh\n",
    "https://stackoverflow.com/questions/5187664/generating-digits-of-square-root-of-2 [Online]\n",
    "Accessed October 23, 2020\n",
    "\n",
    "MCLOUGHLIN, IAN 2020. Machine Learning and Statistics - Video Lectures [Online] Available from: https://learnonline.gmit.ie/\n",
    "\n",
    "RONQUILLO, ALEX. The Python Square Root Function [Online]\n",
    "https://realpython.com/python-square-root-function/\n",
    "Accessed October 23, 2020\n",
    "\n",
    "The Python Tutorial  [Online]\n",
    "https://docs.python.org/3/tutorial/index.html\n",
    "Accessed 17 October, 2020"
   ]
  },
  {
   "cell_type": "markdown",
   "metadata": {},
   "source": [
    "<b>---------------------------------------------------------------------------------------------------------------------------------------------------------\n",
    "## Task 2\n",
    "</b>"
   ]
  },
  {
   "cell_type": "markdown",
   "metadata": {},
   "source": [
    "## Background"
   ]
  },
  {
   "cell_type": "markdown",
   "metadata": {},
   "source": [
    "|   \t|   A\t|   B   |  \tC   | D\t|total |\n",
    "|---\t|---\t|---\t|---\t|---\t| |\n",
    "|  White collar \t|  90 \t|   60\t|   104\t|   95\t|349 |\n",
    "|  Blue collar \t|   30\t|   50\t|   51\t|   20\t|151 |\n",
    "|  No collar \t|   30\t|   40\t|   45\t|   35\t|150 |\n",
    "|  Total     |     150  |   150    |  200     |   150    | 650|"
   ]
  },
  {
   "cell_type": "markdown",
   "metadata": {},
   "source": [
    "The table above is from the Chi-squared test [wikipedia article](https://en.wikipedia.org/wiki/Chi-squared_test).  It is investigated in the article in order to explore and demonstrate\n",
    ">The null hypothesis ... that each person's neighborhood of residence is independent of the person's occupational classification\n",
    "\n",
    "The purpose of my task is to analyse the dataset using `scipy.stats` python package, reproduce that result (approximately 24.6) and calculate the associated $p$ value. "
   ]
  },
  {
   "cell_type": "markdown",
   "metadata": {},
   "source": [
    "## The Code\n",
    "Outputs result of approximately 24.6 and the $ p $ value"
   ]
  },
  {
   "cell_type": "code",
   "execution_count": 4,
   "metadata": {},
   "outputs": [
    {
     "name": "stdout",
     "output_type": "stream",
     "text": [
      "Scipy.stats chisquare Calculation is  Power_divergenceResult(statistic=24.570833837270943, pvalue=0.010529919253757828)\n"
     ]
    }
   ],
   "source": [
    "import scipy.stats\n",
    "from scipy.stats import chisquare\n",
    "#scipy.stats.chisquare(f_obs, f_exp=None, ddof=0, axis=0)\n",
    "#chisquare([90,30,30,60,50,40,104,51,45,95,20,35]) #first incomplete array\n",
    "#chisquare([90,30,30,60,50,40,104,51,45,95,20,35], f_exp=[80.54,34.85,34.61,80.54,34.85,34.61,107.38,46.46,46.15,80.54,34.85,34.61])\n",
    "print(\"Scipy.stats chisquare calculation is \",chisquare([90,30,30,60,50,40,104,51,45,95,20,35], f_exp=[80.54,34.85,34.61,80.54,34.85,34.61,107.38,46.46,46.15,80.54,34.85,34.61]))"
   ]
  },
  {
   "cell_type": "markdown",
   "metadata": {},
   "source": [
    "## Summary of Task 2"
   ]
  },
  {
   "cell_type": "markdown",
   "metadata": {},
   "source": [
    "SciPy.stats\n",
    "----\n",
    "SciPy documentation sets out that the chisquare() function will calculate a one-way chi-square test and return the $p$ value when the following parameters are passed in: *def chisquare(f_obs, f_exp=None, ddof=0, axis=0):*<br>\n",
    "<br>\n",
    "**Parameters**<br>\n",
    "f_obs : array_like.  Observed frequencies in each category.<br>\n",
    "f_exp : array_like, optional.  Expected frequencies in each category. <br> \n",
    "Delta degrees of freedom : int, optional.  Default is 0.<br> \n",
    "axis : int or None, optional. Default is 0.<br> \n",
    "**Returns**<br>\n",
    "chisq : float or ndarray. The chi-squared test statistic. <br>\n",
    "p : float or ndarray.  The p-value of the test. <br> \n",
    "<br>\n",
    "Input\n",
    "---\n",
    "The wikipedia table provides a random sample of recorded (observed) data but there are no \"expected frequencies\" available.<br>\n",
    "The \"Delta degrees of freedom\" are also not available and therefore set to default of 0.<br>\n",
    "In terms of the axis, when it is null, the values in the first array are treated as a single data set which is true for this example.<br>\n",
    "<br>\n",
    "Upon calling the function with only *f_obs* included, the result (156.6215384) was very different to that provided on the wiki page.<br> The *f_exp* parameter, while deemed optional in the function documentation is required to get an accurate result in this instance.<br>\n",
    "The original article provides an equation to estimate the expected figures of white collar workers in Neighbourhood A: <br> the total sample of residents in Neighbourhood A (150) <br>\n",
    "is multiplied by the total number of white collar workers in entire sample divided by the sample total (349/650)<br>\n",
    "![](formula.jpg)\n",
    "Then>>>>\n",
    "![](formula2.jpg)\n",
    "I used this formula to provide an array of expected frequencies <br>$[80.54,34.85,34.61,80.54,34.85,34.61,107.38,46.46,46.15,80.54,34.85,34.61] $<br>\n",
    "and passed them into the function.<br>\n",
    "Output\n",
    "---\n",
    "This additional data produced a statistic of 24.570833837270943.<br>\n",
    "My result corresponds with the one published on wikipedia.org.  This is a logical outcome because the chi-squared test is a standard in the study of statistics.\n",
    "\n",
    "The $p$ value, is low (0.01) which indicates the null hypothesis can be rejected. According to [Admond Lee](https://towardsdatascience.com/p-values-explained-by-data-scientist-f40a746cfc8)\n",
    "> The lower the p-value, the more surprising the evidence is, the more ridiculous our null hypothesis looks.\n",
    "\n",
    "In lectures covering t-tests and statistics as part of this module, an important principle put across by Dr Ian McLoughlin is that it is easy to run the code that produces statistics - the hard part for a data analyst is to really understand the input and interpret the output.<br>\n",
    "\n",
    "There is much more work that can be done on this data set, but that is a \"task\" for another day."
   ]
  },
  {
   "cell_type": "markdown",
   "metadata": {},
   "source": [
    "## References Task 2"
   ]
  },
  {
   "cell_type": "markdown",
   "metadata": {},
   "source": [
    "Chi-squared test https://en.wikipedia.org/wiki/Chi-squared_test [Online] Accessed November 08, 2020<br>\n",
    "MCLOUGHLIN, IAN 2020. Machine Learning and Statistics - From t-tests to ANOVA (Video Lecture) [Online] Available from: https://learnonline.gmit.ie/<br>\n",
    "LEE, ADMOND 2019. P-values Explained By Data Scientist https://towardsdatascience.com/p-values-explained-by-data-scientist-f40a746cfc8 [Online] Accessed November 08, 2020<br>\n",
    "scipy.stats.chisquare¶ https://docs.scipy.org/doc/scipy/reference/generated/scipy.stats.chisquare.html [Online] Accessed November 08, 2020<br>\n"
   ]
  },
  {
   "cell_type": "markdown",
   "metadata": {},
   "source": [
    "<b>---------------------------------------------------------------------------------------------------------------------------------------------------------\n",
    "## Task 3\n",
    "</b>"
   ]
  },
  {
   "cell_type": "markdown",
   "metadata": {},
   "source": [
    "### What are STDEV.P and STDEV.S excel functions, and what is the difference between them?"
   ]
  },
  {
   "cell_type": "markdown",
   "metadata": {},
   "source": [
    "In statistics, standard deviation refers to how much each value in the collection of data differs from the mean (or average value).  It is most useful when the sample values have a normal distribution, then well documented inferences can be made about the population as a whole.<br><br>\n",
    "The STDEV function was replaced with STDEV.P and STDEV.S in Microsoft Excel 2010.<br>\n",
    "STDEV.P returns the standard deviation calculation for a _population_ whereas STDEV.S returns the standard deviation calculation for a _sample_.<br>\n",
    "\n",
    "A population is the entire group being studied (it doesn't necessarily refer to inhabitants) and the sample is generally a smaller number that data has been collected from, it's the typical use case.<br>\n",
    "For example, if I wish to understand the prevalance of Cruciate Disease in Irish dogs with a population of approximately 455,000 I can study a sample collected from the canine clients of Suirside Veterinary Clinic, a precise number of 100.<br>\n",
    "Another study of Cruciate Disease at Suirside, the dataset with 100 entries is considered to be the population.\n",
    "<br><br>\n",
    "Samples are useful because there isn't always the time,resources or computing power to collect data for an entire population. As data scientists, we should consider what societal inequalities may be reinforced in our data samples and how this can effect the results e.g. all respondents from a particular age, gender or class demographic. <br><br>\n",
    "The two functions use a similar formula ![Image of stdev_p](stdev_p.jpg)<br>\n",
    "![Image of stdev_s](stdev_s.jpg) \n",
    "The difference is that STDEV.S uses the \"n-1\" method also referred to as Bessel's correction.<br>\n",
    "This is a method often used in statistics to reduce the bias present in a limited sample size and provide more accuracy.<br>\n",
    "\n",
    "Instead of inputting the denominator, the function subtracts 1 from it.<br>\n",
    "The effect of the correction impacts on the standard deviation - it makes it bigger. The calculation acknowledges that with a sample, less is known about the population as a whole and variances are underestimated.<br>\n",
    "\n",
    "To summarise, to ensure accuracy use stdev.p if your data is the complete population being studied and if it is just a sample of one use stdev.s"
   ]
  },
  {
   "cell_type": "markdown",
   "metadata": {},
   "source": [
    "### Use of numpy to perform a simulation demonstrating that the STDEV.S calculation is a better estimate for the standard deviation of a population when performed on a sample."
   ]
  },
  {
   "cell_type": "markdown",
   "metadata": {},
   "source": [
    "#### Create an array of numbers with a normal distribution to use in the demonstration\n",
    "I have used a normal distribution because standard deviation is most useful for this category.<br>\n",
    "Note: the array will be updated each time the cell calling it is ran."
   ]
  },
  {
   "cell_type": "code",
   "execution_count": 2,
   "metadata": {},
   "outputs": [],
   "source": [
    "import numpy as np\n",
    "array = np.random.randn(100) \n",
    "#print(\"Numpy Array filled with 100 random values : \\n\", array);\n",
    "#You can read about numpy's random function in more detail in a previous project \n",
    "#https://github.com/ClodaghMurphy/Assignment-2019-progda"
   ]
  },
  {
   "cell_type": "markdown",
   "metadata": {},
   "source": [
    "#### Simulate STDEV.P"
   ]
  },
  {
   "cell_type": "code",
   "execution_count": 11,
   "metadata": {},
   "outputs": [
    {
     "name": "stdout",
     "output_type": "stream",
     "text": [
      "Numpy Calculation of STDEV.P 1.0890876022442904\n"
     ]
    }
   ],
   "source": [
    "print(\"Numpy Calculation of STDEV.P\",np.std(array))"
   ]
  },
  {
   "cell_type": "markdown",
   "metadata": {},
   "source": [
    "#### Simulate STDEV.S"
   ]
  },
  {
   "cell_type": "code",
   "execution_count": 12,
   "metadata": {},
   "outputs": [
    {
     "name": "stdout",
     "output_type": "stream",
     "text": [
      "Numpy Calculation of STDEV.S 1.0945742243854955\n"
     ]
    }
   ],
   "source": [
    "print(\"Numpy Calculation of STDEV.S\",np.std(array, ddof=1))"
   ]
  },
  {
   "cell_type": "markdown",
   "metadata": {},
   "source": [
    "#### Visualisation of the data in (array)"
   ]
  },
  {
   "cell_type": "code",
   "execution_count": 13,
   "metadata": {},
   "outputs": [
    {
     "data": {
      "text/plain": [
       "<function matplotlib.pyplot.show(*args, **kw)>"
      ]
     },
     "execution_count": 13,
     "metadata": {},
     "output_type": "execute_result"
    },
    {
     "data": {
      "image/png": "[encoded data removed]",
      "text/plain": [
       "<Figure size 432x288 with 1 Axes>"
      ]
     },
     "metadata": {
      "needs_background": "light"
     },
     "output_type": "display_data"
    }
   ],
   "source": [
    "import matplotlib.pyplot as plt\n",
    "plt.hist(array)\n",
    "plt.show"
   ]
  },
  {
   "cell_type": "markdown",
   "metadata": {},
   "source": [
    "### Summary of Task 3\n",
    "\n",
    "The default numpy calculation of standard deviation<br> $ std = sqrt(mean(abs(x - x.mean())**2))$ <br>corresponds with Excel's STDEV.P  function and returns the standard deviation calculation for a population.  <br> <br>\n",
    "A small modification, achieved by passing in Delta Degrees of Freedom parameters $ ddof=1 $, is required in order to calculate the standard deviation for a sample thus mirroring Excel's STDEV.S function.<br>\n",
    "The latter will always return a larger number.\n",
    "<br>\n",
    "The mean and the standard deviation indicate where most of the values lie in the array produced above.  <br>\n",
    "The STDEV.S calculation can be said to be a better estimate of standard deviation because when a sample is reduced to n-1, the calculation provides an (artifically) larger value.  In data analysis, it is better practise to overestimate the variability of samples.<br>\n",
    "\n",
    "<br>\n",
    "It is interesting that the numpy documentation states that although the inclusion of a ddof value/Bessel's correction provides an unbiased estimator of the variance of an infinite population, the result of itself shouldn't be considered as an unbiased estimate of the standard deviation.\n",
    "\n",
    "The mention of unbiased or less biased estimates and the notion that we are interpreting a sample from a population reflects opinions expressed by Catherine D’Ignazio, Director of the Data + Feminism Lab that data cannot and should not be considered to be neutral or truthful input.\n",
    "\n",
    "A principle that I take away from this exercise is that excel can be used effectively to interrogate data.  This has a practical application in my own workplace because Microsoft Excel is a common software that everyone uses and (most) feel comforable using. <br>\n",
    "It's my opinion that as many people as possible in an organisation be brought along with IT advances.<br>  \n"
   ]
  },
  {
   "cell_type": "code",
   "execution_count": null,
   "metadata": {},
   "outputs": [],
   "source": []
  },
  {
   "cell_type": "markdown",
   "metadata": {},
   "source": [
    "## References Task 3\n",
    "\n",
    "Bessel's Correction https://en.wikipedia.org/wiki/Bessel%27s_correction [Online] Accessed November 18, 2020<br>\n",
    "CORBYN, ZOE, 2020. Interview with Catherine D'Ignazio [Online] https://www.theguardian.com/technology/2020/mar/21/catherine-dignazio-data-is-never-a-raw-truthful-input-and-it-is-never-neutral Accessed December 1,2020<br>\n",
    "NumPy v1.19 Manual https://numpy.org/doc/ [Online] Accessed November 19, 2020<br>\n",
    "\n",
    "STDEV.S function https://support.microsoft.com/en-us/office/stdev-s-function-7d69cf97-0c1f-4acf-be27-f3e83904cc23 [Online] Accessed November 18, 2020<br>\n",
    "STDEV.P function https://support.microsoft.com/en-us/office/stdev-p-function-6e917c05-31a0-496f-ade7-4f4e7462f285 [Online] Accessed November 18, 2020<br>\n",
    "Understanding and calculating standard deviation by Pritha Bhandari. https://www.scribbr.com/statistics/standard-deviation/ [online] Accessed November 19, 2020<br>\n",
    "What's the difference between stdev p, stdev s, and stdev? [Online] https://www.youtube.com/watch?v=wM4yjuTxQL4 Accessed November 18, 2020<br>"
   ]
  },
  {
   "cell_type": "markdown",
   "metadata": {},
   "source": [
    "<b>---------------------------------------------------------------------------------------------------------------------------------------------------------\n",
    "## Task 4\n",
    "</b>"
   ]
  },
  {
   "cell_type": "markdown",
   "metadata": {},
   "source": [
    "### Use of `scikit-learn` to apply k-means clustering to Fisher’s famous Iris data set."
   ]
  },
  {
   "cell_type": "code",
   "execution_count": null,
   "metadata": {},
   "outputs": [],
   "source": [
    "The kmeans clustering algorithm canbeused to quickly predict groupings from within a dataset\n",
    "\n",
    "It bases predictions on the number of cluster centres present and the nearest mean values\n",
    "\n",
    "It works best when variables are scaled (what DOES THAT MEAN?)\n",
    "and when you have an idea already about the number of cluster centres that exist in the data set - the k parameter is used in the algorithm.\n",
    "\n"
   ]
  },
  {
   "cell_type": "code",
   "execution_count": 4,
   "metadata": {},
   "outputs": [],
   "source": [
    "import numpy as np\n",
    "import pandas as pd\n",
    "import matplotlib.pyplot as plt\n",
    "\n",
    "import sklearn\n",
    "\n",
    "from sklearn.cluster import KMeans\n",
    "from mpl_toolkits.mplot3d import Axes3D\n",
    "from sklearn.preprocessing import scale\n",
    "\n",
    "import sklearn.metrics as sm\n",
    "from sklearn import datasets\n",
    "from sklearn.metrics import confusion_matrix,classification_report"
   ]
  },
  {
   "cell_type": "code",
   "execution_count": 8,
   "metadata": {},
   "outputs": [],
   "source": [
    "%matplotlib inline\n",
    "plt.rcParams['figure.figsize'] = 7,4"
   ]
  },
  {
   "cell_type": "code",
   "execution_count": 9,
   "metadata": {
    "scrolled": true
   },
   "outputs": [
    {
     "data": {
      "text/plain": [
       "array([[-0.90068117,  1.01900435, -1.34022653, -1.3154443 ],\n",
       "       [-1.14301691, -0.13197948, -1.34022653, -1.3154443 ],\n",
       "       [-1.38535265,  0.32841405, -1.39706395, -1.3154443 ],\n",
       "       [-1.50652052,  0.09821729, -1.2833891 , -1.3154443 ],\n",
       "       [-1.02184904,  1.24920112, -1.34022653, -1.3154443 ],\n",
       "       [-0.53717756,  1.93979142, -1.16971425, -1.05217993],\n",
       "       [-1.50652052,  0.78880759, -1.34022653, -1.18381211],\n",
       "       [-1.02184904,  0.78880759, -1.2833891 , -1.3154443 ],\n",
       "       [-1.74885626, -0.36217625, -1.34022653, -1.3154443 ],\n",
       "       [-1.14301691,  0.09821729, -1.2833891 , -1.44707648]])"
      ]
     },
     "execution_count": 9,
     "metadata": {},
     "output_type": "execute_result"
    }
   ],
   "source": [
    "\n",
    "iris = datasets.load_iris()\n",
    "\n",
    "X = scale(iris.data)\n",
    "y=pd.DataFrame(iris.target)\n",
    "variable_names = iris.feature_names\n",
    "#printout the first 10 records\n",
    "X[0:10,]"
   ]
  },
  {
   "cell_type": "code",
   "execution_count": null,
   "metadata": {},
   "outputs": [],
   "source": [
    "Building and running the model"
   ]
  },
  {
   "cell_type": "code",
   "execution_count": 11,
   "metadata": {},
   "outputs": [
    {
     "data": {
      "text/plain": [
       "KMeans(n_clusters=3, random_state=5)"
      ]
     },
     "execution_count": 11,
     "metadata": {},
     "output_type": "execute_result"
    }
   ],
   "source": [
    "clustering = KMeans(n_clusters=3, random_state=5)\n",
    "clustering.fit(X)"
   ]
  },
  {
   "cell_type": "code",
   "execution_count": null,
   "metadata": {},
   "outputs": [],
   "source": [
    "Plot Model Outputs"
   ]
  },
  {
   "cell_type": "code",
   "execution_count": 13,
   "metadata": {},
   "outputs": [],
   "source": [
    "iris_df=pd.DataFrame(iris.data)\n",
    "\n",
    "iris_df.columns = ['Sepal_Length', 'Sepal_Width', 'Petal_Length', 'Petal_Width']\n",
    "y.columns= ['Targets']"
   ]
  },
  {
   "cell_type": "code",
   "execution_count": 17,
   "metadata": {},
   "outputs": [
    {
     "data": {
      "text/plain": [
       "<matplotlib.collections.PathCollection at 0x14e35117ca0>"
      ]
     },
     "execution_count": 17,
     "metadata": {},
     "output_type": "execute_result"
    },
    {
     "data": {
      "image/png": "[encoded data removed]",
      "text/plain": [
       "<Figure size 504x288 with 2 Axes>"
      ]
     },
     "metadata": {
      "needs_background": "light"
     },
     "output_type": "display_data"
    }
   ],
   "source": [
    "color_theme = np.array(['red', 'gold', 'green'])\n",
    "plt.subplot(1,2,1)\n",
    "\n",
    "plt.scatter(x=iris_df.Petal_Length, y=iris_df.Petal_Width, c=color_theme[iris.target], s=50)\n",
    "plt.title('Ground Truth Classification')\n",
    "\n",
    "plt.subplot(1,2,2)\n",
    "\n",
    "plt.scatter(x=iris_df.Petal_Length, y=iris_df.Petal_Width, c=color_theme[clustering.labels_], s=50)\n",
    "plt.title('K Means Classification')\n",
    "#the clusters have been predicted very well but labelled inaccurately\n",
    "#easy to fix with numpy choose function"
   ]
  },
  {
   "cell_type": "code",
   "execution_count": 22,
   "metadata": {},
   "outputs": [
    {
     "data": {
      "text/plain": [
       "Text(0.5, 1.0, 'K Means Classification')"
      ]
     },
     "execution_count": 22,
     "metadata": {},
     "output_type": "execute_result"
    },
    {
     "data": {
      "image/png": "[encoded data removed]",
      "text/plain": [
       "<Figure size 504x288 with 2 Axes>"
      ]
     },
     "metadata": {
      "needs_background": "light"
     },
     "output_type": "display_data"
    }
   ],
   "source": [
    "relabel= np.choose(clustering.labels_,[2,0,1]).astype(np.int64)\n",
    "color_theme = np.array(['red', 'gold', 'green'])\n",
    "plt.subplot(1,2,1)\n",
    "\n",
    "plt.scatter(x=iris_df.Petal_Length, y=iris_df.Petal_Width, c=color_theme[iris.target], s=50)\n",
    "plt.title('Ground Truth Classification')\n",
    "\n",
    "plt.subplot(1,2,2)\n",
    "\n",
    "plt.scatter(x=iris_df.Petal_Length, y=iris_df.Petal_Width, c=color_theme[clustering.labels_], s=50)\n",
    "plt.title('K Means Classification')"
   ]
  },
  {
   "cell_type": "code",
   "execution_count": null,
   "metadata": {},
   "outputs": [],
   "source": [
    "Evaluate Cluster Results - verify qualativitely by use of scikit learn classification report to score the model"
   ]
  },
  {
   "cell_type": "code",
   "execution_count": 23,
   "metadata": {},
   "outputs": [
    {
     "name": "stdout",
     "output_type": "stream",
     "text": [
      "              precision    recall  f1-score   support\n",
      "\n",
      "           0       1.00      1.00      1.00        50\n",
      "           1       0.23      0.22      0.23        50\n",
      "           2       0.26      0.28      0.27        50\n",
      "\n",
      "    accuracy                           0.50       150\n",
      "   macro avg       0.50      0.50      0.50       150\n",
      "weighted avg       0.50      0.50      0.50       150\n",
      "\n"
     ]
    }
   ],
   "source": [
    "print(classification_report(y, relabel))\n",
    "#labels 0,1 and 2 are listed"
   ]
  },
  {
   "cell_type": "code",
   "execution_count": null,
   "metadata": {},
   "outputs": [],
   "source": [
    "### Explain how your code works and how accurate it might be, ."
   ]
  },
  {
   "cell_type": "code",
   "execution_count": null,
   "metadata": {},
   "outputs": [],
   "source": [
    "### Explain how your model could be used to make predictions of species of iris"
   ]
  },
  {
   "cell_type": "markdown",
   "metadata": {},
   "source": [
    "## References Task 4\n",
    "\n",
    "K-Means Clustering - Methods using Scikit-learn in Python - Tutorial 23 in Jupyter Notebook [Online] Available from The Engineering World https://www.youtube.com/watch?v=ikt0sny_ImY Accessed December 03, 2020\n",
    "MCLOUGHLIN, IAN 2020. Machine Learning and Statistics - Video Lectures [Online] Available from: https://learnonline.gmit.ie/"
   ]
  },
  {
   "cell_type": "markdown",
   "metadata": {},
   "source": []
  }
 ],
 "metadata": {
  "kernelspec": {
   "display_name": "Python 3",
   "language": "python",
   "name": "python3"
  },
  "language_info": {
   "codemirror_mode": {
    "name": "ipython",
    "version": 3
   },
   "file_extension": ".py",
   "mimetype": "text/x-python",
   "name": "python",
   "nbconvert_exporter": "python",
   "pygments_lexer": "ipython3",
   "version": "3.8.3"
  }
 },
 "nbformat": 4,
 "nbformat_minor": 4
}

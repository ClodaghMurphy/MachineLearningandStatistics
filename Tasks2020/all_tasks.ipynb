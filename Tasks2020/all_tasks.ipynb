{
 "cells": [
  {
   "cell_type": "markdown",
   "metadata": {},
   "source": [
    "### Tasks Assignment\n",
    "1. Write a Python function called sqrt2 that calculates and prints to the screen the square root of 2 to 100 decimal places.   <br>Your code should not depend on any module from the standard library or otherwise. You should research the task first and include references and a description of your algorithm  \n",
    "\n",
    "2. Use scipy.stats to verify the Chi-squared value of 24.16 for the table below (see section 2) and calculate the associated p value. You should include a short note with references justifying your analysis in a markdown cell.\n",
    "\n",
    "3. Research the STDEV.P and STDEV.S excel functions, writing a note in a Markdown cell about the difference between them. Then use numpy to perform a simulation demonstrating that the STDEV.S calculation is a better estimate for the standard\n",
    "deviation of a population when performed on a sample."
   ]
  },
  {
   "cell_type": "markdown",
   "metadata": {},
   "source": [
    "<img src=\"banner_copyright_PeaLeafDesign.JPG\" style=\"width:900px;\">"
   ]
  },
  {
   "cell_type": "markdown",
   "metadata": {},
   "source": [
    "<b>---------------------------------------------------------------------------------------------------------------------------------------------------------\n",
    "## Task 1\n",
    "</b>"
   ]
  },
  {
   "cell_type": "markdown",
   "metadata": {},
   "source": [
    "## Background"
   ]
  },
  {
   "cell_type": "markdown",
   "metadata": {},
   "source": [
    "###  $ \\sqrt{2} $ is about 1.41, so what is the big deal?"
   ]
  },
  {
   "cell_type": "markdown",
   "metadata": {},
   "source": [
    "The square root of $x$ is a number $r$ such that $r2=x$ <br>\n",
    "\n",
    "Simple examples are <br>\n",
    "square root of 9 = 3 (3 $*$ 3 = 9)<br>\n",
    "square root of 2916 = 54 (54 $*$ 54 =2916)<br>\n",
    "\n",
    "The square root of 2 is exciting because although it's \"roughly 1.41\" - in an attempt to quantify the decimal expansion in 2016 Ron Watkins estimated that there is 10 trillion digits after the decimal point.<br>\n",
    "\n",
    "That's because $ \\sqrt{2} $ is <b>irrational</b>. \n",
    "<br>\n",
    "A number is irrational when it cannot be expressed as a fraction, therefore their decimal expansions go on to infinity and never become periodic.<br>\n",
    "\n",
    "The implication, in terms of computing,  of irrationality is that the number cannot be stored as a variable - there are simply too many decimal places.<br>\n",
    "\n",
    "The challenge of this task is not only to figure it out without a python module but also to limit the number of decimal places to one hundred.<br>\n"
   ]
  },
  {
   "cell_type": "markdown",
   "metadata": {},
   "source": [
    "### What is a python function and how do they work?"
   ]
  },
  {
   "cell_type": "markdown",
   "metadata": {},
   "source": [
    "Functions in computing are an example of encapsulation where one or many lines of complex code and instructions can be wrapped up into one command. A function can be re-used between programmes, where the use of parameters can allow it to be used in different circumstances as required. <br>\n",
    "<br>\n",
    "To create a python function, define it with the keyword \"def\", followed by the name you are giving it.<br>\n",
    " **def sqrt(x):**<br>\n",
    "Brackets come immediately after the function name and specify the type of mandatory input the function accepts.<br>\n",
    "Then a description of what happens to the arguments passed into the function.<br>\n",
    "**ans=x **   0.5**<br>    \n",
    "Indentation is important because Python knows what code is related to a function by how it’s indented.<br>\n",
    "The return keyword is used in order to print the output from the function.<br>\n",
    "**return ans**<br>\n",
    "To call the function type the name followed by (), the argument is typed between the brackets.<br>\n",
    "**sqrt(7)**<br>\n"
   ]
  },
  {
   "cell_type": "markdown",
   "metadata": {},
   "source": [
    "### Research carried out to produce sqrt2 function  "
   ]
  },
  {
   "cell_type": "markdown",
   "metadata": {},
   "source": [
    "Having established the syntax, the function needs an instruction of what to do.<br>\n",
    "I can divide the function to code into two separate parts (1) Calculate the square root (2) ensure decimal precision of 100 places and print them to the screen.<br> "
   ]
  },
  {
   "cell_type": "markdown",
   "metadata": {},
   "source": [
    "####  Calculate the square root\n",
    "The code needs to be a raw python statement (with no reference to a python library) in order to meet the requirements of the assignment.<br>\n",
    "\n",
    "To calculate the square root of $x$ <br>\n",
    "$x **   0.5$\n",
    "(Source: [Py Point youtube channel](https://www.youtube.com/watch?v=6red7dqIY-c) \"how to find square root in python without math\")"
   ]
  },
  {
   "cell_type": "code",
   "execution_count": 6,
   "metadata": {},
   "outputs": [
    {
     "data": {
      "text/plain": [
       "1.4142135623730951"
      ]
     },
     "execution_count": 6,
     "metadata": {},
     "output_type": "execute_result"
    }
   ],
   "source": [
    "2**0.5"
   ]
  },
  {
   "cell_type": "code",
   "execution_count": null,
   "metadata": {},
   "outputs": [],
   "source": [
    "The accuracy of this calculation can be checked by calculating its inverse."
   ]
  },
  {
   "cell_type": "code",
   "execution_count": 4,
   "metadata": {},
   "outputs": [
    {
     "data": {
      "text/plain": [
       "2.0000000000000004"
      ]
     },
     "execution_count": 4,
     "metadata": {},
     "output_type": "execute_result"
    }
   ],
   "source": [
    "1.4142135623730951**2"
   ]
  },
  {
   "cell_type": "markdown",
   "metadata": {},
   "source": [
    "The fact that the answer is not exactly 2 is further proof of the irrationality of  $ \\sqrt{2} $"
   ]
  },
  {
   "cell_type": "markdown",
   "metadata": {},
   "source": [
    "#### Print to the screen to 100 decimal places"
   ]
  },
  {
   "cell_type": "markdown",
   "metadata": {},
   "source": [
    "It can be observed above that the default output is 16 digits after the decimal point.<br>\n",
    "This is because, in order for Python to manage the number of digits, only an approximation to the true decimal value of the binary approximation stored by the machine is printed to the screen.<br>\n",
    "How can I force a total of 100 to be printed?"
   ]
  },
  {
   "cell_type": "markdown",
   "metadata": {},
   "source": [
    "The format() built-in function is useful up to a point as it prints out 51 decimal places but after that replaces the actual values with 0."
   ]
  },
  {
   "cell_type": "code",
   "execution_count": 17,
   "metadata": {},
   "outputs": [
    {
     "data": {
      "text/plain": [
       "'1.41421356237309514547462185873882845044136047363281'"
      ]
     },
     "execution_count": 17,
     "metadata": {},
     "output_type": "execute_result"
    }
   ],
   "source": [
    "format(sqrt2(), '.50f')"
   ]
  },
  {
   "cell_type": "code",
   "execution_count": 31,
   "metadata": {},
   "outputs": [
    {
     "data": {
      "text/plain": [
       "'1.4142135623730951454746218587388284504413604736328125000000000000000000000000000000000000000000000000'"
      ]
     },
     "execution_count": 31,
     "metadata": {},
     "output_type": "execute_result"
    }
   ],
   "source": [
    "#Example of an attempt to use format() to print 100 decimals()\n",
    "#After 51 digits the actual values are replaced with 0\n",
    "format(sqrt2(), '.100f')"
   ]
  },
  {
   "cell_type": "markdown",
   "metadata": {},
   "source": [
    "#### Source a pre-exising algorithm that does both at once"
   ]
  },
  {
   "cell_type": "markdown",
   "metadata": {},
   "source": [
    "At this point, I concluded that there is a lot more to the task then simply formatting the output of $x **   0.5$<br>\n",
    "A more complex algorithm is required."
   ]
  },
  {
   "cell_type": "markdown",
   "metadata": {},
   "source": [
    "User casevh at [Stackoverflow.com](https://stackoverflow.com/questions/5187664/generating-digits-of-square-root-of-2) stackoverflow.com provides a code to generate the digits that make up the square root of an integer for any level of precision."
   ]
  },
  {
   "cell_type": "code",
   "execution_count": 39,
   "metadata": {},
   "outputs": [],
   "source": [
    "#code verbatim from https://stackoverflow.com/questions/5187664/generating-digits-of-square-root-of-2\n",
    "def sqroot(a, digits):\n",
    "    a = a * (10**(2*digits))\n",
    "    x_prev = 0\n",
    "    x_next = 1 * (10**digits)\n",
    "    while x_prev != x_next:\n",
    "        x_prev = x_next\n",
    "        x_next = (x_prev + (a // x_prev)) >> 1\n",
    "    return x_next"
   ]
  },
  {
   "cell_type": "markdown",
   "metadata": {},
   "source": [
    "It can be observed below that the function produces the digits but further manipulation is required for them to appear in the correct format."
   ]
  },
  {
   "cell_type": "code",
   "execution_count": 40,
   "metadata": {},
   "outputs": [
    {
     "data": {
      "text/plain": [
       "14142135623730950488016887242096980785696718753769480731766797379907324784621070388503875343276415727"
      ]
     },
     "execution_count": 40,
     "metadata": {},
     "output_type": "execute_result"
    }
   ],
   "source": [
    "sqroot(2,100)"
   ]
  },
  {
   "cell_type": "markdown",
   "metadata": {},
   "source": [
    "#### Validate the answer"
   ]
  },
  {
   "cell_type": "markdown",
   "metadata": {},
   "source": [
    "Validate that the number produced by casvh's algorithm is correct by cross referencing it with another source.\n",
    "I chose the website [Astronomy Picture of the Day](https://apod.nasa.gov/htmltest/rjn_dig.html) a hobby website featuring some wonderful retro html published by two professional astronomers."
   ]
  },
  {
   "cell_type": "code",
   "execution_count": 13,
   "metadata": {},
   "outputs": [
    {
     "data": {
      "text/plain": [
       "0"
      ]
     },
     "execution_count": 13,
     "metadata": {},
     "output_type": "execute_result"
    }
   ],
   "source": [
    "x = sqroot(2,100)#casevh result\n",
    "y = 14142135623730950488016887242096980785696718753769480731766797379907324784621070388503875343276415727#apod 100digits\n",
    "ans = x-y\n",
    "ans"
   ]
  },
  {
   "cell_type": "markdown",
   "metadata": {},
   "source": [
    "#### Formatting numbers with python"
   ]
  },
  {
   "cell_type": "markdown",
   "metadata": {},
   "source": [
    "Formatting the output as an integer will not work as previously noted.<br>\n",
    "The str() method is used to produce a string version of the number that I can manipulate using python string slicing."
   ]
  },
  {
   "cell_type": "code",
   "execution_count": 41,
   "metadata": {},
   "outputs": [],
   "source": [
    "my_100digits=str(sqroot(2,100))"
   ]
  },
  {
   "cell_type": "code",
   "execution_count": 42,
   "metadata": {},
   "outputs": [
    {
     "data": {
      "text/plain": [
       "'14142135623730950488016887242096980785696718753769480731766797379907324784621070388503875343276415727'"
      ]
     },
     "execution_count": 42,
     "metadata": {},
     "output_type": "execute_result"
    }
   ],
   "source": [
    "my_100digits"
   ]
  },
  {
   "cell_type": "code",
   "execution_count": 12,
   "metadata": {},
   "outputs": [
    {
     "name": "stdout",
     "output_type": "stream",
     "text": [
      "14142135623730950488016887242096980785696718753769480731766797379907324784621070388503875343276415727\n"
     ]
    }
   ],
   "source": [
    "print(my_100digits)"
   ]
  },
  {
   "cell_type": "markdown",
   "metadata": {},
   "source": [
    "Use of slicing to print symbol at index 0 a decimal point and then the rest of the numbers from index 0-101"
   ]
  },
  {
   "cell_type": "code",
   "execution_count": 26,
   "metadata": {},
   "outputs": [
    {
     "name": "stdout",
     "output_type": "stream",
     "text": [
      "1. 4142135623730950488016887242096980785696718753769480731766797379907324784621070388503875343276415727\n"
     ]
    }
   ],
   "source": [
    "print(my_100digits[:1]+\".\",my_100digits[1:101])"
   ]
  },
  {
   "cell_type": "markdown",
   "metadata": {},
   "source": [
    "I have found a series of methods that will print the square root of 2 to 100 decimal places to the screen. They now need to be assembled in a logical manner into a Python function called sqrt2. "
   ]
  },
  {
   "cell_type": "markdown",
   "metadata": {},
   "source": [
    "### Description of the algorithm"
   ]
  },
  {
   "cell_type": "code",
   "execution_count": 36,
   "metadata": {},
   "outputs": [],
   "source": [
    "def sqrt2(a, digits):\n",
    "    a = a * (10**(2*digits))#calculate the integer square root of a after multiplying by 10 raised to the 2 x digits\n",
    "    x_prev = 0\n",
    "    x_next = 1 * (10**digits)\n",
    "    while x_prev != x_next:\n",
    "        x_prev = x_next\n",
    "        x_next = (x_prev + (a // x_prev)) >> 1\n",
    "        my_101digits=str(x_next)#stringify\n",
    "    return(my_101digits[:1]+\".\",my_101digits[1:101])#use of string slicing\n",
    "   #return x_next"
   ]
  },
  {
   "cell_type": "code",
   "execution_count": 37,
   "metadata": {},
   "outputs": [
    {
     "data": {
      "text/plain": [
       "('1.',\n",
       " '4142135623730950488016887242096980785696718753769480731766797379907324784621070388503875343276415727')"
      ]
     },
     "execution_count": 37,
     "metadata": {},
     "output_type": "execute_result"
    }
   ],
   "source": [
    "#Call the function with the parameters 2 and 100 to indicate the number required to be squared and the decimal precision required.\n",
    "sqrt2(2,100)"
   ]
  },
  {
   "cell_type": "markdown",
   "metadata": {},
   "source": [
    "## References Task 1"
   ]
  },
  {
   "cell_type": "markdown",
   "metadata": {},
   "source": [
    "Root 2 Video- Numberphile youtube channel [Online] https://www.youtube.com/watch?v=5sKah3pJnHI  Accessed October 11, 2020\n",
    "\n",
    "how to find square root in python without math||how to find square root in python Video on Py point youtube channel [Online] https://www.youtube.com/watch?v=6red7dqIY-c   Accessed October 11, 2020\n",
    "\n",
    "\n",
    "https://stackoverflow.com/questions/64295245/how-to-get-the-square-root-of-a-number-to-100-decimal-places-without-using-any-l[Online]   Accessed October 11, 2020\n",
    "\n",
    "   \n",
    "    \n",
    "https://en.wikipedia.org/wiki/Square_root_of_2   [Online]   Accessed October 11, 2020\n",
    "\n",
    "\n",
    "https://mathworld.wolfram.com/SquareRoot.html   [Online]   Accessed October 11, 2020\n",
    "\n",
    "\n",
    "https://mathworld.wolfram.com/IrrationalNumber.html  [Online]   Accessed October 11, 2020\n",
    "\n",
    "10,000 digits of Square Root of 2  [Online]\n",
    "https://nerdparadise.com/math/reference/2sqrt10000\n",
    "Accessed October 23, 2020\n",
    "\n",
    "How to find square root in python without math [Online]\n",
    "Available from Py Point: https://www.youtube.com/watch?v=6red7dqIY-c\n",
    "Accessed October 11, 2020\n",
    "\n",
    "User: casevh\n",
    "https://stackoverflow.com/questions/5187664/generating-digits-of-square-root-of-2 [Online]\n",
    "Accessed October 23, 2020\n",
    "\n",
    "MCLOUGHLIN, IAN 2020. Machine Learning and Statistics - Functions in functions (Video Lecture) [Online] \n",
    "Available from: https://learnonline.gmit.ie/\n",
    "\n",
    "RONQUILLO, ALEX. The Python Square Root Function [Online]\n",
    "https://realpython.com/python-square-root-function/\n",
    "Accessed October 23, 2020\n",
    "\n",
    "The Python Tutorial  [Online]\n",
    "https://docs.python.org/3/tutorial/index.html\n",
    "Accessed 17 October, 2020"
   ]
  },
  {
   "cell_type": "markdown",
   "metadata": {},
   "source": [
    "<b>---------------------------------------------------------------------------------------------------------------------------------------------------------\n",
    "## Task 2\n",
    "</b>"
   ]
  },
  {
   "cell_type": "markdown",
   "metadata": {},
   "source": [
    "|   \t|   A\t|   B   |  \tC   | D\t|total |\n",
    "|---\t|---\t|---\t|---\t|---\t| |\n",
    "|  White collar \t|  90 \t|   60\t|   104\t|   95\t|349 |\n",
    "|  Blue collar \t|   30\t|   50\t|   51\t|   20\t|151 |\n",
    "|  No collar \t|   30\t|   40\t|   45\t|   35\t|150 |\n",
    "|  Total     |     150  |   150    |  200     |   150    | 650|"
   ]
  },
  {
   "cell_type": "markdown",
   "metadata": {},
   "source": [
    "![](table.jpg)"
   ]
  },
  {
   "cell_type": "markdown",
   "metadata": {},
   "source": [
    "## Background"
   ]
  },
  {
   "cell_type": "markdown",
   "metadata": {},
   "source": [
    "The table above is from the Chi-squared test [wikipedia article](https://en.wikipedia.org/wiki/Chi-squared_test).  It is investigated in the article in order to explore and demonstrate\n",
    ">The null hypothesis ... that each person's neighborhood of residence is independent of the person's occupational classification\n",
    "\n",
    "The purpose of my task is to analyse the dataset using `scipy.stats` python package, reproduce that result (approximately 24.6) and calculate the associated $p$ value. "
   ]
  },
  {
   "cell_type": "markdown",
   "metadata": {},
   "source": [
    "## The Code"
   ]
  },
  {
   "cell_type": "code",
   "execution_count": 4,
   "metadata": {},
   "outputs": [
    {
     "data": {
      "text/plain": [
       "Power_divergenceResult(statistic=24.570833837270943, pvalue=0.010529919253757828)"
      ]
     },
     "execution_count": 4,
     "metadata": {},
     "output_type": "execute_result"
    }
   ],
   "source": [
    "import scipy.stats\n",
    "from scipy.stats import chisquare\n",
    "#scipy.stats.chisquare(f_obs, f_exp=None, ddof=0, axis=0)\n",
    "#chisquare([90,30,30,60,50,40,104,51,45,95,20,35]) #first incomplete array\n",
    "chisquare([90,30,30,60,50,40,104,51,45,95,20,35], f_exp=[80.54,34.85,34.61,80.54,34.85,34.61,107.38,46.46,46.15,80.54,34.85,34.61])\n"
   ]
  },
  {
   "cell_type": "markdown",
   "metadata": {},
   "source": [
    "## Summary of Task 2"
   ]
  },
  {
   "cell_type": "markdown",
   "metadata": {},
   "source": [
    "SciPy.stats\n",
    "----\n",
    "SciPy documentation sets out that the chisquare() function will calculate a one-way chi-square test and return the $p$ value when the following parameters are passed in: *def chisquare(f_obs, f_exp=None, ddof=0, axis=0):*<br>\n",
    "<br>\n",
    "**Parameters**<br>\n",
    "f_obs : array_like.  Observed frequencies in each category.<br>\n",
    "f_exp : array_like, optional.  Expected frequencies in each category. <br> \n",
    "ddof : int, optional.  Default is 0.<br> \n",
    "axis : int or None, optional. Default is 0.<br> \n",
    "**Returns**<br>\n",
    "chisq : float or ndarray. The chi-squared test statistic. <br>\n",
    "p : float or ndarray.  The p-value of the test. <br> \n",
    "<br>\n",
    "Input\n",
    "---\n",
    "The wikipedia table provides a random sample of recorded (observed) data but there is no expected frequencies available.<br>\n",
    "The \"Delta degrees of freedom\" are also not available and therefore set to default of 0.<br>\n",
    "In terms of the axis, when it is null, the values in the first array are treated as a single data set which is true for this example.<br>\n",
    "<br>\n",
    "Upon calling the function with only *f_obs*, included the result (156.6215384) was very different to that provided on the wiki page.<br> The *f_exp* parameter, while deemed optional in the function documentation is required to get an accurate result in this instance.<br>\n",
    "The original article provides an equation to estimate the expected figures of white collar workers in Neighbourhood A: <br> the total sample of residents in Neighbourhood A (150) <br>\n",
    "is multiplied by the total number of white collar workers in entire sample divided by the sample total (349/650)<br>\n",
    "![](formula.jpg)\n",
    "I used this formula to provide an array of expected frequencies <br>[80.54,34.85,34.61,80.54,34.85,34.61,107.38,46.46,46.15,80.54,34.85,34.61] <br>and passed them into the function.<br>\n",
    "Output\n",
    "---\n",
    "This additional data produced a statistic of 24.570833837270943.<br>\n",
    "My result corresponds with the one published on wikipedia.org.  This is a logical outcome because the chi-squared test is a standard in the study of statistics.\n",
    "\n",
    "The $p$ value, is low (0.01) which indicates the null hypothesis can be rejected. According to [Admond Lee](https://towardsdatascience.com/p-values-explained-by-data-scientist-f40a746cfc8)\n",
    "> The lower the p-value, the more surprising the evidence is, the more ridiculous our null hypothesis looks.\n",
    "\n",
    "In lectures covering t-tests and statistics as part of this module, an important principle put across by Dr Ian McLoughlin is that it is easy to run the code that produces statistics - the hard part for a data analyst is to really understand the input and interpret the output.<br>\n",
    "\n",
    "There is much more work that can be done on this data set, but that is a \"task\" for another day."
   ]
  },
  {
   "cell_type": "markdown",
   "metadata": {},
   "source": [
    "## References Task 2"
   ]
  },
  {
   "cell_type": "markdown",
   "metadata": {},
   "source": [
    "Chi-squared test https://en.wikipedia.org/wiki/Chi-squared_test [Online] Accessed November 08, 2020<br>\n",
    "MCLOUGHLIN, IAN 2020. Machine Learning and Statistics - From t-tests to ANOVA (Video Lecture) [Online] Available from: https://learnonline.gmit.ie/<br>\n",
    "LEE, ADMOND 2019. P-values Explained By Data Scientist https://towardsdatascience.com/p-values-explained-by-data-scientist-f40a746cfc8 [Online] Accessed November 08, 2020<br>\n",
    "scipy.stats.chisquare¶ https://docs.scipy.org/doc/scipy/reference/generated/scipy.stats.chisquare.html [Online] Accessed November 08, 2020<br>\n"
   ]
  },
  {
   "cell_type": "markdown",
   "metadata": {},
   "source": [
    "<b>---------------------------------------------------------------------------------------------------------------------------------------------------------\n",
    "## Task 3\n",
    "</b>"
   ]
  },
  {
   "cell_type": "markdown",
   "metadata": {},
   "source": [
    "### What are STDEV.P and STDEV.S excel functions, and what is the difference between them?"
   ]
  },
  {
   "cell_type": "markdown",
   "metadata": {},
   "source": [
    "The STDEV function in Microsoft excel was replaced with STDEV.P and STDEV.S in Excel 2010."
   ]
  },
  {
   "cell_type": "markdown",
   "metadata": {},
   "source": [
    "### Use of numpy to perform a simulation demonstrating that the STDEV.S calculation is a better estimate for the standard deviation of a population when performed on a sample."
   ]
  },
  {
   "cell_type": "markdown",
   "metadata": {},
   "source": [
    "## References Task 3\n",
    "\n",
    "STDEV.S function https://support.microsoft.com/en-us/office/stdev-s-function-7d69cf97-0c1f-4acf-be27-f3e83904cc23 [Online] Accessed November 18, 2020\n",
    "STDEV.P function https://support.microsoft.com/en-us/office/stdev-p-function-6e917c05-31a0-496f-ade7-4f4e7462f285 [Online] Accessed November 18, 2020"
   ]
  },
  {
   "cell_type": "markdown",
   "metadata": {},
   "source": [
    "<b>---------------------------------------------------------------------------------------------------------------------------------------------------------\n",
    "## Task 4\n",
    "</b>"
   ]
  },
  {
   "cell_type": "markdown",
   "metadata": {},
   "source": []
  }
 ],
 "metadata": {
  "kernelspec": {
   "display_name": "Python 3",
   "language": "python",
   "name": "python3"
  },
  "language_info": {
   "codemirror_mode": {
    "name": "ipython",
    "version": 3
   },
   "file_extension": ".py",
   "mimetype": "text/x-python",
   "name": "python",
   "nbconvert_exporter": "python",
   "pygments_lexer": "ipython3",
   "version": "3.8.3"
  }
 },
 "nbformat": 4,
 "nbformat_minor": 4
}

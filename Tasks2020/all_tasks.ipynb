{
 "cells": [
  {
   "cell_type": "markdown",
   "metadata": {},
   "source": [
    "### Assignment\n",
    "Write a Python function called sqrt2 that calculates and prints to the screen the square root of 2 to 100 decimal places. \n",
    "\n",
    "Your code should not depend on any module from the standard library or otherwise. \n",
    "\n",
    "You should research the task first and include references and a description of your algorithm."
   ]
  },
  {
   "cell_type": "markdown",
   "metadata": {},
   "source": [
    "<b>----------------------------------------------------------------------------------------------------------------------</b>"
   ]
  },
  {
   "cell_type": "markdown",
   "metadata": {},
   "source": [
    "## Background"
   ]
  },
  {
   "cell_type": "markdown",
   "metadata": {},
   "source": [
    "###  $ \\sqrt{2} $ is about 1.41, so what is the big deal?"
   ]
  },
  {
   "cell_type": "markdown",
   "metadata": {},
   "source": [
    "The square root of $x$ is a number $r$ such that $r2=x$ <br>\n",
    "\n",
    "Simple examples are <br>\n",
    "square root of 9 = 3 (3 $*$ 3 = 9)<br>\n",
    "square root of 2916 = 54 (54 $*$ 54 =2916)<br>\n",
    "\n",
    "The square root of 2 is exciting because although it's \"roughly 1.41\" - in an attempt to quantify the decimal expansion in 2016 Ron Watkins estimated that there is 10 trillion digits after the decimal point.<br>\n",
    "\n",
    "That's because $ \\sqrt{2} $ is <b>irrational</b>. \n",
    "<br>\n",
    "A number is irrational when it cannot be expressed as a fraction, therefore their decimal expansions go on to infinity and never become periodic.<br>\n",
    "\n",
    "The implication, in terms of computing,  of irrationality is that the number cannot be stored as a variable - there are simply too many decimal places.<br>\n",
    "\n",
    "The challenge of this task is not only to figure it out without a python module but also to limit the number of decimal places to one hundred.<br>\n"
   ]
  },
  {
   "cell_type": "markdown",
   "metadata": {},
   "source": [
    "### What is a python function and how do they work?"
   ]
  },
  {
   "cell_type": "markdown",
   "metadata": {},
   "source": [
    "Functions in computing are an example of encapsulation where one or many lines of complex code and instructions can be wrapped up into one command. A function can be re-used between programmes, the use of parameters can allow it to be used in different circumstances as required. <br>\n",
    "<br>\n",
    "To create a python function, define it with the keyword \"def\", followed by the name you are giving it.<br>\n",
    "Brackets come immediately after the function name and specify the tye of input the function accepts.<br>\n",
    "\n",
    "EXAMPLE FROM sqrt(2)\n",
    "#keyword\n",
    "#name\n",
    "#input\n",
    "#return statement\n",
    "#output\n",
    "#indentation Python knows what code is related to a function by how it’s indented.\n",
    "\n",
    "The return keyword is used in order to print the output from the function.<br>\n",
    "\n",
    "To call the function type the name followed by (), the argument is typed between the brackets.<br>\n"
   ]
  },
  {
   "cell_type": "markdown",
   "metadata": {},
   "source": [
    "### Research carried out to produce sqrt2 funcion  "
   ]
  },
  {
   "cell_type": "markdown",
   "metadata": {},
   "source": [
    "Having established the syntax, the function needs an instruction of what to do.<br>\n",
    "I need to code the separate parts (1) Calculate the square root (2) ensure decimal precision of 100 places and print them to the screen.<br> "
   ]
  },
  {
   "cell_type": "markdown",
   "metadata": {},
   "source": [
    "#### (1) Calculate the square root\n",
    "The code needs to be a raw python statement (with no reference to a python library) in order to meet the requirements of the assignment.<br>\n",
    "\n",
    "To calculate the square root of $x$ <br>\n",
    "$x **   0.5$\n",
    "(Source: [Py Point youtube channel](https://www.youtube.com/watch?v=6red7dqIY-c) \"how to find square root in python without math\")"
   ]
  },
  {
   "cell_type": "code",
   "execution_count": 6,
   "metadata": {},
   "outputs": [
    {
     "data": {
      "text/plain": [
       "1.4142135623730951"
      ]
     },
     "execution_count": 6,
     "metadata": {},
     "output_type": "execute_result"
    }
   ],
   "source": [
    "2**0.5"
   ]
  },
  {
   "cell_type": "code",
   "execution_count": null,
   "metadata": {},
   "outputs": [],
   "source": [
    "The accuracy of this calculation can be checked by calculating its inverse."
   ]
  },
  {
   "cell_type": "code",
   "execution_count": 4,
   "metadata": {},
   "outputs": [
    {
     "data": {
      "text/plain": [
       "2.0000000000000004"
      ]
     },
     "execution_count": 4,
     "metadata": {},
     "output_type": "execute_result"
    }
   ],
   "source": [
    "1.4142135623730951**2"
   ]
  },
  {
   "cell_type": "markdown",
   "metadata": {},
   "source": [
    "The fact that the answer is not exactly 2 is further proof of the irrationality of  $ \\sqrt{2} $"
   ]
  },
  {
   "cell_type": "markdown",
   "metadata": {},
   "source": [
    "#### (2) Print to the screen to 100 decimal places"
   ]
  },
  {
   "cell_type": "markdown",
   "metadata": {},
   "source": [
    "It can be observed above that the default output is 16 digits after the decimal point.<br>\n",
    "This is because, in order for Python to manage the number of digits, only an approximation to the true decimal value of the binary approximation stored by the machine is printed to the screen.<br>\n",
    "How can I force a total of 100 to be printed?"
   ]
  },
  {
   "cell_type": "markdown",
   "metadata": {},
   "source": [
    "The format() built-in function is useful up to a point as it prints out 51 decimal places but after that replaces the actual values with 0."
   ]
  },
  {
   "cell_type": "code",
   "execution_count": 17,
   "metadata": {},
   "outputs": [
    {
     "data": {
      "text/plain": [
       "'1.41421356237309514547462185873882845044136047363281'"
      ]
     },
     "execution_count": 17,
     "metadata": {},
     "output_type": "execute_result"
    }
   ],
   "source": [
    "format(sqrt2(), '.50f')"
   ]
  },
  {
   "cell_type": "code",
   "execution_count": 31,
   "metadata": {},
   "outputs": [
    {
     "data": {
      "text/plain": [
       "'1.4142135623730951454746218587388284504413604736328125000000000000000000000000000000000000000000000000'"
      ]
     },
     "execution_count": 31,
     "metadata": {},
     "output_type": "execute_result"
    }
   ],
   "source": [
    "#Example of an attempt to use format() to print 100 decimals()\n",
    "#After 51 digits the actual values are replaced with 0\n",
    "format(sqrt2(), '.100f')"
   ]
  },
  {
   "cell_type": "markdown",
   "metadata": {},
   "source": [
    "At this point in my research I concluded that there is a lot more to the task then simply formatting the output of $x **   0.5$<br>\n",
    "A more complex algorithm is required."
   ]
  },
  {
   "cell_type": "markdown",
   "metadata": {},
   "source": [
    "User casevh at [Stackoverflow.com](https://stackoverflow.com/questions/5187664/generating-digits-of-square-root-of-2) stackoverflow.com provides a code to generate the digits that make up the square root of an integer for a particular level of precision.<br>\n",
    ">\"It works by finding the integer square root of a after multiplying by 10 raised to the 2 x digits\"\n"
   ]
  },
  {
   "cell_type": "code",
   "execution_count": 8,
   "metadata": {},
   "outputs": [],
   "source": [
    "#code verbatim from https://stackoverflow.com/questions/5187664/generating-digits-of-square-root-of-2\n",
    "def sqroot(a, digits):\n",
    "    a = a * (10**(2*digits))\n",
    "    x_prev = 0\n",
    "    x_next = 1 * (10**digits)\n",
    "    while x_prev != x_next:\n",
    "        x_prev = x_next\n",
    "        x_next = (x_prev + (a // x_prev)) >> 1\n",
    "    return x_next"
   ]
  },
  {
   "cell_type": "markdown",
   "metadata": {},
   "source": [
    "It can be observed below that the function produces the digits but further manipulation is required for them to appear in the correct format."
   ]
  },
  {
   "cell_type": "code",
   "execution_count": 9,
   "metadata": {},
   "outputs": [
    {
     "data": {
      "text/plain": [
       "14142135623730950488016887242096980785696718753769480731766797379907324784621070388503875343276415727"
      ]
     },
     "execution_count": 9,
     "metadata": {},
     "output_type": "execute_result"
    }
   ],
   "source": [
    "sqroot(2,100)"
   ]
  },
  {
   "cell_type": "markdown",
   "metadata": {},
   "source": [
    "Formatting the output as an integer will not work as previously noted because decimal approximation only will be printed, therefore the output should be stringified and then a decimal point inserted.<br>\n",
    "The str() method is used to produce a string version of the number that I can manipulate using python string slicing."
   ]
  },
  {
   "cell_type": "code",
   "execution_count": 10,
   "metadata": {},
   "outputs": [],
   "source": [
    "my_100digits=str(sqroot(2,100))"
   ]
  },
  {
   "cell_type": "code",
   "execution_count": 11,
   "metadata": {},
   "outputs": [
    {
     "data": {
      "text/plain": [
       "'14142135623730950488016887242096980785696718753769480731766797379907324784621070388503875343276415727'"
      ]
     },
     "execution_count": 11,
     "metadata": {},
     "output_type": "execute_result"
    }
   ],
   "source": [
    "my_100digits"
   ]
  },
  {
   "cell_type": "code",
   "execution_count": 12,
   "metadata": {},
   "outputs": [
    {
     "name": "stdout",
     "output_type": "stream",
     "text": [
      "14142135623730950488016887242096980785696718753769480731766797379907324784621070388503875343276415727\n"
     ]
    }
   ],
   "source": [
    "print(my_100digits)"
   ]
  },
  {
   "cell_type": "markdown",
   "metadata": {},
   "source": [
    "Use of slicing to print symbol at index 0 a decimal point and then the rest of the numbers from index 0-101"
   ]
  },
  {
   "cell_type": "code",
   "execution_count": 101,
   "metadata": {},
   "outputs": [
    {
     "name": "stdout",
     "output_type": "stream",
     "text": [
      "1. 4142135623730950488016887242096980785696718753769480731766797379907324784621070388503875343276415727\n"
     ]
    }
   ],
   "source": [
    "print(my_100digits[:1]+\".\",my_100digits[1:101])"
   ]
  },
  {
   "cell_type": "markdown",
   "metadata": {},
   "source": [
    "I have found a series of methods that will print the square root of 2 to 100 decimal places to the screen. They now need to be assembled in a logical manner into a Python function called sqrt2. "
   ]
  },
  {
   "cell_type": "code",
   "execution_count": null,
   "metadata": {},
   "outputs": [],
   "source": []
  },
  {
   "cell_type": "markdown",
   "metadata": {},
   "source": [
    "### Description of the algorithm"
   ]
  },
  {
   "cell_type": "code",
   "execution_count": null,
   "metadata": {},
   "outputs": [],
   "source": []
  },
  {
   "cell_type": "code",
   "execution_count": null,
   "metadata": {},
   "outputs": [],
   "source": [
    "def sqroot(a, digits):\n",
    "    a = a * (10**(2*digits))\n",
    "    x_prev = 0\n",
    "    x_next = 1 * (10**digits)\n",
    "    while x_prev != x_next:\n",
    "        x_prev = x_next\n",
    "        x_next = (x_prev + (a // x_prev)) >> 1\n",
    "    return x_next\n",
    "\n",
    "my_100digits=str(sqroot(2,100))\n",
    "print(my_100digits[:1]+\".\",my_100digits[1:101])"
   ]
  },
  {
   "cell_type": "code",
   "execution_count": 16,
   "metadata": {},
   "outputs": [],
   "source": [
    "def sqrt2(a, digits):\n",
    "    a = a * (10**(2*digits))\n",
    "    x_prev = 0\n",
    "    x_next = 1 * (10**digits)\n",
    "    while x_prev != x_next:\n",
    "        x_prev = x_next\n",
    "        x_next = (x_prev + (a // x_prev)) >> 1\n",
    "    return str(x_next)\n",
    "        #my_101digits=str(x_next)\n",
    "    #return (my_101digits[:1]+\".\",my_101digits[1:101])"
   ]
  },
  {
   "cell_type": "code",
   "execution_count": 17,
   "metadata": {},
   "outputs": [
    {
     "data": {
      "text/plain": [
       "'14142135623730950488016887242096980785696718753769480731766797379907324784621070388503875343276415727'"
      ]
     },
     "execution_count": 17,
     "metadata": {},
     "output_type": "execute_result"
    }
   ],
   "source": [
    "sqrt2(2,100)"
   ]
  },
  {
   "cell_type": "code",
   "execution_count": null,
   "metadata": {},
   "outputs": [],
   "source": [
    "\n"
   ]
  },
  {
   "cell_type": "code",
   "execution_count": null,
   "metadata": {},
   "outputs": [],
   "source": []
  },
  {
   "cell_type": "code",
   "execution_count": null,
   "metadata": {},
   "outputs": [],
   "source": []
  },
  {
   "cell_type": "code",
   "execution_count": null,
   "metadata": {},
   "outputs": [],
   "source": [
    "\n"
   ]
  },
  {
   "cell_type": "code",
   "execution_count": null,
   "metadata": {},
   "outputs": [],
   "source": []
  },
  {
   "cell_type": "code",
   "execution_count": null,
   "metadata": {},
   "outputs": [],
   "source": [
    "\n"
   ]
  },
  {
   "cell_type": "code",
   "execution_count": 59,
   "metadata": {},
   "outputs": [],
   "source": []
  },
  {
   "cell_type": "code",
   "execution_count": null,
   "metadata": {},
   "outputs": [],
   "source": []
  },
  {
   "cell_type": "code",
   "execution_count": null,
   "metadata": {},
   "outputs": [],
   "source": []
  },
  {
   "cell_type": "code",
   "execution_count": null,
   "metadata": {},
   "outputs": [],
   "source": []
  },
  {
   "cell_type": "code",
   "execution_count": null,
   "metadata": {},
   "outputs": [],
   "source": [
    "## References"
   ]
  },
  {
   "cell_type": "markdown",
   "metadata": {},
   "source": [
    "Root 2 Video- Numberphile youtube channel https://www.youtube.com/watch?v=5sKah3pJnHI\n",
    "\n",
    "how to find square root in python without math||how to find square root in python Video on Py point youtube channel https://www.youtube.com/watch?v=6red7dqIY-c\n",
    "\n",
    "\n",
    "https://stackoverflow.com/questions/64295245/how-to-get-the-square-root-of-a-number-to-100-decimal-places-without-using-any-l\n",
    "\n",
    "   \n",
    "    \n",
    "https://en.wikipedia.org/wiki/Square_root_of_2\n",
    "\n",
    "\n",
    "https://mathworld.wolfram.com/SquareRoot.html\n",
    "\n",
    "\n",
    "https://mathworld.wolfram.com/IrrationalNumber.html\n",
    "\n",
    "10,000 digits of Square Root of 2\n",
    "https://nerdparadise.com/math/reference/2sqrt10000\n",
    "Accessed October 23, 2020\n",
    "\n",
    "How to find square root in python without math [Online]\n",
    "Available from Py Point: https://www.youtube.com/watch?v=6red7dqIY-c\n",
    "Accessed October 11, 2020\n",
    "\n",
    "User: casevh\n",
    "https://stackoverflow.com/questions/5187664/generating-digits-of-square-root-of-2\n",
    "Accessed October 23, 2020\n",
    "\n",
    "MCLOUGHLIN, IAN 2020. Machine Learning and Statistics - Functions in functions (Video Lecture) [Online] \n",
    "Available from: https://learnonline.gmit.ie/\n",
    "\n",
    "RONQUILLO, ALEX. The Python Square Root Function [Online]\n",
    "https://realpython.com/python-square-root-function/\n",
    "Accessed October 23, 2020\n",
    "\n",
    "The Python Tutorial\n",
    "https://docs.python.org/3/tutorial/index.html\n",
    "Accessed 17 October, 2020"
   ]
  },
  {
   "cell_type": "code",
   "execution_count": 8,
   "metadata": {},
   "outputs": [],
   "source": [
    "## Python function called sqrt2"
   ]
  },
  {
   "cell_type": "code",
   "execution_count": 5,
   "metadata": {},
   "outputs": [],
   "source": [
    "def sqrt2():\n",
    "    ans = 2**0.5\n",
    "    \n",
    "    return ans"
   ]
  },
  {
   "cell_type": "code",
   "execution_count": 6,
   "metadata": {},
   "outputs": [
    {
     "data": {
      "text/plain": [
       "1.4142135623730951"
      ]
     },
     "execution_count": 6,
     "metadata": {},
     "output_type": "execute_result"
    }
   ],
   "source": [
    "sqrt2()"
   ]
  },
  {
   "cell_type": "code",
   "execution_count": 16,
   "metadata": {},
   "outputs": [
    {
     "data": {
      "text/plain": [
       "'1.4142135623730951454746218587388284504413604736328125000000000000000000000000000000000000000000000000'"
      ]
     },
     "execution_count": 16,
     "metadata": {},
     "output_type": "execute_result"
    }
   ],
   "source": [
    "format(sqrt2(), '.100f')\n",
    "#51 digits then 00000"
   ]
  },
  {
   "cell_type": "markdown",
   "metadata": {},
   "source": []
  }
 ],
 "metadata": {
  "kernelspec": {
   "display_name": "Python 3",
   "language": "python",
   "name": "python3"
  },
  "language_info": {
   "codemirror_mode": {
    "name": "ipython",
    "version": 3
   },
   "file_extension": ".py",
   "mimetype": "text/x-python",
   "name": "python",
   "nbconvert_exporter": "python",
   "pygments_lexer": "ipython3",
   "version": "3.8.3"
  }
 },
 "nbformat": 4,
 "nbformat_minor": 4
}

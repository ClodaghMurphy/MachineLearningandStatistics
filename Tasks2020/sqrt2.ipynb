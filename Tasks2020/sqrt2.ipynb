{
 "cells": [
  {
   "cell_type": "markdown",
   "metadata": {},
   "source": [
    "### Assignment\n",
    "Write a Python function called sqrt2 that calculates and prints to the screen the square root of 2 to 100 decimal places. \n",
    "\n",
    "Your code should not depend on any module from the standard library or otherwise. \n",
    "\n",
    "You should research the task first and include references and a description of your algorithm."
   ]
  },
  {
   "cell_type": "markdown",
   "metadata": {},
   "source": [
    "<b>----------------------------------------------------------------------------------------------------------------------</b>"
   ]
  },
  {
   "cell_type": "markdown",
   "metadata": {},
   "source": [
    "## Background"
   ]
  },
  {
   "cell_type": "markdown",
   "metadata": {},
   "source": [
    "###  $ \\sqrt{2} $ is about 1.41, so what is the big deal?"
   ]
  },
  {
   "cell_type": "markdown",
   "metadata": {},
   "source": [
    "The square root of $x$ is a number $r$ such that $r2=x$\n",
    "\n",
    "Simple examples are \n",
    "square root of 9 = 3 (3 $*$ 3 = 9)\n",
    "square root of 2916 = 54 (54 $*$ 54 =2916)\n",
    "\n",
    "The square root of 2 is exciting because although it's \"roughly 1.41\" - in an attempt to quantify the decimal expansion in 2016 Ron Watkins estimated that there is 10 trillion digits after the decimal point.\n",
    "\n",
    "That's because $ \\sqrt{2} $ is <b>irrational</b>. \n",
    "\n",
    "A number is irrational when it cannot be expressed as a fraction, therefore their decimal expansions go on to infinity and never become periodic.\n",
    "\n",
    "The implication, in terms of computing,  of irrationality is that the number cannot be stored as a variable - there are simply too many decimal places.\n",
    "\n",
    "The challenge of this task is not only to figure it out without a python module but also to limit the number of decimal places to one hundred.\n"
   ]
  },
  {
   "cell_type": "markdown",
   "metadata": {},
   "source": [
    "### What is a python function and how does it work?"
   ]
  },
  {
   "cell_type": "markdown",
   "metadata": {},
   "source": [
    "Functions in computing are an example of encapsulation where one or many lines of code and instructions can be \"encapsulated\" into one command.\n",
    "\n",
    "To create a python function, define it with the keyword \"def\", followed by the name you are giving it.\n",
    "Brackets come immediately after the function name and specify the tye of input the function accepts.\n",
    "\n",
    "EXAMPLE FROM sqrt(2)\n",
    "#keyword\n",
    "#name\n",
    "#input\n",
    "#return statement\n",
    "#output\n",
    "#indentation Python knows what code is related to a function by how it’s indented.\n",
    "\n",
    "The return keyword is used in order to print the output from the function.\n",
    "\n",
    "To call the function type the name followed by (), the argument is typed between the brackets.\n"
   ]
  },
  {
   "cell_type": "markdown",
   "metadata": {},
   "source": []
  },
  {
   "cell_type": "markdown",
   "metadata": {},
   "source": [
    "Explaining  "
   ]
  },
  {
   "cell_type": "code",
   "execution_count": null,
   "metadata": {},
   "outputs": [],
   "source": [
    "## Description of the algorithm"
   ]
  },
  {
   "cell_type": "markdown",
   "metadata": {},
   "source": [
    "Having established the syntax, the function needs an instruction of what to do.\n",
    "\n",
    "The code needs to be a raw python statement (with no reference to a python library) in order to meet the requirements of the assignment.\n",
    "\n",
    "To calculate the square root of $x$ \n",
    "\n",
    "$x **   0.5$\n",
    "\n",
    "** is the exponential symbol\n"
   ]
  },
  {
   "cell_type": "code",
   "execution_count": null,
   "metadata": {},
   "outputs": [],
   "source": [
    "## References"
   ]
  },
  {
   "cell_type": "markdown",
   "metadata": {},
   "source": [
    "Root 2 Video on- Numberphile youtube channel https://www.youtube.com/watch?v=5sKah3pJnHI\n",
    "\n",
    "how to find square root in python without math||how to find square root in python Video on Py point youtube channel https://www.youtube.com/watch?v=6red7dqIY-c\n",
    "\n",
    "\n",
    "https://stackoverflow.com/questions/64295245/how-to-get-the-square-root-of-a-number-to-100-decimal-places-without-using-any-l\n",
    "\n",
    "    Python's floating point can't hold 100 decimal places of accuracy\n",
    "    \n",
    "https://en.wikipedia.org/wiki/Square_root_of_2\n",
    "\n",
    "\n",
    "https://mathworld.wolfram.com/SquareRoot.html\n",
    "\n",
    "\n",
    "https://mathworld.wolfram.com/IrrationalNumber.html\n",
    "\n",
    "How to find square root in python without math [Online]\n",
    "Available from Py Point: https://www.youtube.com/watch?v=6red7dqIY-c\n",
    "Accessed October 11, 2020\n",
    "\n",
    "\n",
    "MCLOUGHLIN, IAN 2020. Machine Learning and Statistics - Functions in functions (Video Lecture) [Online] \n",
    "Available from: https://learnonline.gmit.ie/"
   ]
  },
  {
   "cell_type": "code",
   "execution_count": 8,
   "metadata": {},
   "outputs": [],
   "source": [
    "## Python function called sqrt2"
   ]
  },
  {
   "cell_type": "code",
   "execution_count": 9,
   "metadata": {},
   "outputs": [
    {
     "ename": "SyntaxError",
     "evalue": "invalid syntax (<ipython-input-9-eaf0adfce808>, line 4)",
     "output_type": "error",
     "traceback": [
      "\u001b[1;36m  File \u001b[1;32m\"<ipython-input-9-eaf0adfce808>\"\u001b[1;36m, line \u001b[1;32m4\u001b[0m\n\u001b[1;33m    return print(\"The square root of 2 to 100 decimal places is\") ans\u001b[0m\n\u001b[1;37m                                                                  ^\u001b[0m\n\u001b[1;31mSyntaxError\u001b[0m\u001b[1;31m:\u001b[0m invalid syntax\n"
     ]
    }
   ],
   "source": [
    "def sqrt2():\n",
    "    ans = 2**0.5\n",
    "    \n",
    "    return ans"
   ]
  },
  {
   "cell_type": "code",
   "execution_count": 6,
   "metadata": {},
   "outputs": [
    {
     "data": {
      "text/plain": [
       "1.4142135623730951"
      ]
     },
     "execution_count": 6,
     "metadata": {},
     "output_type": "execute_result"
    }
   ],
   "source": [
    "sqrt2()"
   ]
  },
  {
   "cell_type": "code",
   "execution_count": null,
   "metadata": {},
   "outputs": [],
   "source": []
  }
 ],
 "metadata": {
  "kernelspec": {
   "display_name": "Python 3",
   "language": "python",
   "name": "python3"
  },
  "language_info": {
   "codemirror_mode": {
    "name": "ipython",
    "version": 3
   },
   "file_extension": ".py",
   "mimetype": "text/x-python",
   "name": "python",
   "nbconvert_exporter": "python",
   "pygments_lexer": "ipython3",
   "version": "3.8.3"
  }
 },
 "nbformat": 4,
 "nbformat_minor": 4
}

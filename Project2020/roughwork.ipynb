{
 "cells": [
  {
   "cell_type": "markdown",
   "metadata": {},
   "source": [
    "__References___ \n",
    "\n",
    "https://seaborn.pydata.org/tutorial/regression.html <br>\n",
    "\n",
    "J.M.K.C. Donev et al. (2020). Energy Education - Wind power [Online]. \n",
    "Available: https://energyeducation.ca/encyclopedia/Wind_power. [Accessed: December 12, 2020].<br>\n",
    "\n",
    "A Clifton et al (2013) Using machine learning to predict wind turbine power output [Online] Available: https://iopscience.iop.org/article/10.1088/1748-9326/8/2/024009. [Accessed: December 12, 2020].<br>\n",
    "\n",
    "Ayush Pant (2019)Introduction to Linear Regression and Polynomial Regression [Online] Available:\n",
    "https://towardsdatascience.com/introduction-to-linear-regression-and-polynomial-regression-f8adc96f31cb. [Accessed: December 12, 2020].<br>\n",
    "\n",
    "Polynomial regression using scikit-learn [Online] Available: https://iq.opengenus.org/polynomial-regression-using-scikit-learn/ . [Accessed: December 12, 2020].<br>\n",
    "\n",
    "Using Flask to serve a machine learning model as a RESTful webservice https://www.youtube.com/watch?v=s-i6nzXQF3g  [Accessed: December 15, 2020]\n",
    "\n",
    "Deploy Machine Learning model Flask on web page https://www.youtube.com/watch?v=i3RMlrx4ol4 [Accessed: December 17, 2020]\n",
    "\n",
    "Python Pickle Tutorial datacamp.com https://www.datacamp.com/community/tutorials/pickle-python-tutorial [Accessed: December 17, 2020]\n",
    "\n",
    "Sayak Paul (2018) Turning Machine Learning Models into APIs in Python https://www.datacamp.com/community/tutorials/machine-learning-models-api-python [Accessed: December 15, 2020]\n"
   ]
  },
  {
   "cell_type": "code",
   "execution_count": 8,
   "metadata": {},
   "outputs": [],
   "source": [
    "import pandas as pd\n",
    "import sklearn as sklearn\n",
    "import seaborn as sns\n",
    "import numpy as numpy\n",
    "import sklearn.linear_model as lin"
   ]
  },
  {
   "cell_type": "code",
   "execution_count": 9,
   "metadata": {},
   "outputs": [],
   "source": [
    "#stackoverflow chat suggests that you can't import an external dataset into seaborn, use pandas instead??!!\n",
    "#It's as though if it's not here >>>https://github.com/mwaskom/seaborn<<< seaborn doesn't want to know.\n",
    "powerproduction=pd.read_csv(\"powerproduction.csv\")\n",
    "#powerproduction.describe()\n",
    "#print(powerproduction)"
   ]
  },
  {
   "cell_type": "markdown",
   "metadata": {},
   "source": [
    "### Analysis 1"
   ]
  },
  {
   "cell_type": "code",
   "execution_count": 3,
   "metadata": {},
   "outputs": [],
   "source": [
    "#sns.pairplot(powerproduction)"
   ]
  },
  {
   "cell_type": "markdown",
   "metadata": {},
   "source": [
    "#### Functions to draw linear regression models"
   ]
  },
  {
   "cell_type": "code",
   "execution_count": 4,
   "metadata": {},
   "outputs": [
    {
     "data": {
      "image/png": "[encoded data removed]",
      "text/plain": [
       "<Figure size 432x288 with 1 Axes>"
      ]
     },
     "metadata": {
      "needs_background": "light"
     },
     "output_type": "display_data"
    }
   ],
   "source": [
    "sns.regplot(x=\"speed\", y=\"power\", data=powerproduction);\n",
    "#sns.regplot(x=\"power\", y=\"speed\", data=powerproduction);\n",
    "#a blue line appears as a suggestion"
   ]
  },
  {
   "cell_type": "markdown",
   "metadata": {},
   "source": [
    "Source: https://seaborn.pydata.org/tutorial/regression.html\n",
    "You should note that the resulting plots are identical, except that the figure shapes are different.\n",
    "regplot() accepts the x and y variables in a variety of formats including simple numpy arrays, pandas Series objects, or as references to variables in a pandas DataFrame object passed to data. In contrast, lmplot() has data as a required parameter and the x and y variables must be specified as strings. This data format is called “long-form” or “tidy” data. Other than this input flexibility, regplot() possesses a subset of lmplot()’s features, so we will demonstrate them using the latter.\n",
    "\n",
    "Observations on these graphs\n",
    "The curve shape corresponds with graphs at https://energyeducation.ca/encyclopedia/Wind_power It is logical, it takes a reasonable amount of wind to get the turbine going and then when it's moving and the wind drops...it will still rotate and come to a stop eventually.\n",
    "The cut off point seems to be around speed 24.5 kmph.\n",
    "\n",
    "Turbines are designed to operate within a specific range of wind speeds. The limits of the range are known as the cut-in speed and cut-out speed.The cut-in speed is the point at which the wind turbine is able to generate power. The cut-out speed is the point at which the turbine must be shut down to avoid damage to the equipment. The cut-in and cut-out speeds are related to the turbine design and size and are decided on prior to construction.\n"
   ]
  },
  {
   "cell_type": "markdown",
   "metadata": {},
   "source": [
    "#### Train\n",
    "Attempt to automate the prediction, find relationships between the paired data."
   ]
  },
  {
   "cell_type": "code",
   "execution_count": 10,
   "metadata": {},
   "outputs": [],
   "source": [
    "import sklearn.linear_model as lin #manipulate the two lists of numbers x = flipper[\"body_mass_g\"].to_numpy() y = flipper[\"flipper_length_mm\"].to_numpy() #even though you've only one input value, you must reshape as if there are more. It is ascikit learm thing.... x = x.reshape(-1, 1) #use sckitlearn to give numbers pertaining to the suggested blue line above model = lin.LinearRegression() model.fit(x, y)#tells skcitlearn where the values are r = model.score(x, y)#find out the r value, how well the lines fits the data set p = [model.intercept_, model.coef_[0]]#provide the intercept\n",
    "\n",
    "powerproduction=pd.read_csv(\"powerproduction.csv\")\n",
    "#manipulate the two lists of numbers\n"
   ]
  },
  {
   "cell_type": "code",
   "execution_count": 11,
   "metadata": {},
   "outputs": [],
   "source": [
    "#x=powerproduction[\"speed\"].to_numpy()\n",
    "speed=powerproduction[\"speed\"].to_numpy()\n",
    "y=powerproduction[\"power\"].to_numpy()\n",
    "#y = data[\"power\"].to_numpy()\n",
    "#X (windspeed) is the independent variable and y (power generated) is the dependent one\n",
    "x = speed.reshape(-1, 1)\n",
    "model = lin.LinearRegression()\n",
    "model.fit(x, y)#tells skcitlearn where the values are\n",
    "r = model.score(x, y)#find out the r value, how well the lines fits the data set\n",
    "p = [model.intercept_, model.coef_[0]]#provide the intercept"
   ]
  },
  {
   "cell_type": "code",
   "execution_count": 12,
   "metadata": {},
   "outputs": [
    {
     "data": {
      "text/plain": [
       "0.7289360258564072"
      ]
     },
     "execution_count": 12,
     "metadata": {},
     "output_type": "execute_result"
    }
   ],
   "source": [
    "r\n",
    "#In statistics, the correlation coefficient r measures the strength \n",
    "#and direction of a linear relationship between two variables on a scatterplot.\n",
    "#.72 is not too bad of a fit"
   ]
  },
  {
   "cell_type": "code",
   "execution_count": null,
   "metadata": {},
   "outputs": [],
   "source": [
    "p\n",
    "#The Importance of Intercept\n",
    "#https://www.analyticsinsight.net/why-is-intercept-important-in-regression-analysis/\n",
    "#The intercept (often labeled as constant) is the point where the function crosses the y-axis. \n",
    "#In some analysis, the regression model only becomes significant \n",
    "#when we remove the intercept, and the regression line reduces to Y = bX + error."
   ]
  },
  {
   "cell_type": "markdown",
   "metadata": {},
   "source": [
    "### Predict"
   ]
  },
  {
   "cell_type": "code",
   "execution_count": null,
   "metadata": {},
   "outputs": [],
   "source": [
    "def f(x, p):\n",
    "# x is the input, p is the parameter/s e.g. a list of values somehow trained on a dataset already\n",
    "# p can be used to help us make predictions in the case of x\n",
    " return p[0] + x * p[1]\n",
    "#this function is designed to provide linear results\n",
    "#that is correct because the dataset is linear"
   ]
  },
  {
   "cell_type": "code",
   "execution_count": null,
   "metadata": {},
   "outputs": [],
   "source": [
    "#per Ian..... the calculations are straightforward,our ideas behind them are important. \n",
    "#the functions might be deterministic maybe the input becomes part of the function (not external data anymore)\n",
    "f(7, p)\n",
    "#we can use the p values above where 7 windspeed, how much power is generated?\n",
    "#we trained p on the dataset, it is a model\n"
   ]
  },
  {
   "cell_type": "code",
   "execution_count": null,
   "metadata": {},
   "outputs": [],
   "source": [
    "#you could define another function using p also , see below."
   ]
  },
  {
   "cell_type": "code",
   "execution_count": null,
   "metadata": {},
   "outputs": [],
   "source": [
    "def predict(x):\n",
    "    return f(x, p)\n",
    "\n",
    "predict(2.9)\n",
    "#0.3611247991539184"
   ]
  },
  {
   "cell_type": "markdown",
   "metadata": {},
   "source": [
    "The web service needs to get input into the function. The function needs to reject amounts higher than 24.399 \n",
    "The function needs to reject amounts lower than 0.325\n",
    "#### Breakthrough!\n",
    "When I leave the dataset as it is , the figures are skewed.\n",
    "Remove the problematic values to train it properly\n"
   ]
  },
  {
   "cell_type": "code",
   "execution_count": 14,
   "metadata": {},
   "outputs": [
    {
     "data": {
      "text/html": [
       "<div>\n",
       "<style scoped>\n",
       "    .dataframe tbody tr th:only-of-type {\n",
       "        vertical-align: middle;\n",
       "    }\n",
       "\n",
       "    .dataframe tbody tr th {\n",
       "        vertical-align: top;\n",
       "    }\n",
       "\n",
       "    .dataframe thead th {\n",
       "        text-align: right;\n",
       "    }\n",
       "</style>\n",
       "<table border=\"1\" class=\"dataframe\">\n",
       "  <thead>\n",
       "    <tr style=\"text-align: right;\">\n",
       "      <th></th>\n",
       "      <th>speed</th>\n",
       "      <th>power</th>\n",
       "    </tr>\n",
       "  </thead>\n",
       "  <tbody>\n",
       "    <tr>\n",
       "      <th>5</th>\n",
       "      <td>0.325</td>\n",
       "      <td>4.331</td>\n",
       "    </tr>\n",
       "    <tr>\n",
       "      <th>6</th>\n",
       "      <td>0.400</td>\n",
       "      <td>5.186</td>\n",
       "    </tr>\n",
       "    <tr>\n",
       "      <th>7</th>\n",
       "      <td>0.450</td>\n",
       "      <td>3.826</td>\n",
       "    </tr>\n",
       "    <tr>\n",
       "      <th>8</th>\n",
       "      <td>0.501</td>\n",
       "      <td>1.048</td>\n",
       "    </tr>\n",
       "    <tr>\n",
       "      <th>9</th>\n",
       "      <td>0.526</td>\n",
       "      <td>5.553</td>\n",
       "    </tr>\n",
       "    <tr>\n",
       "      <th>...</th>\n",
       "      <td>...</td>\n",
       "      <td>...</td>\n",
       "    </tr>\n",
       "    <tr>\n",
       "      <th>485</th>\n",
       "      <td>24.249</td>\n",
       "      <td>103.700</td>\n",
       "    </tr>\n",
       "    <tr>\n",
       "      <th>486</th>\n",
       "      <td>24.299</td>\n",
       "      <td>93.694</td>\n",
       "    </tr>\n",
       "    <tr>\n",
       "      <th>487</th>\n",
       "      <td>24.349</td>\n",
       "      <td>93.078</td>\n",
       "    </tr>\n",
       "    <tr>\n",
       "      <th>488</th>\n",
       "      <td>24.374</td>\n",
       "      <td>98.223</td>\n",
       "    </tr>\n",
       "    <tr>\n",
       "      <th>489</th>\n",
       "      <td>24.399</td>\n",
       "      <td>95.117</td>\n",
       "    </tr>\n",
       "  </tbody>\n",
       "</table>\n",
       "<p>451 rows × 2 columns</p>\n",
       "</div>"
      ],
      "text/plain": [
       "      speed    power\n",
       "5     0.325    4.331\n",
       "6     0.400    5.186\n",
       "7     0.450    3.826\n",
       "8     0.501    1.048\n",
       "9     0.526    5.553\n",
       "..      ...      ...\n",
       "485  24.249  103.700\n",
       "486  24.299   93.694\n",
       "487  24.349   93.078\n",
       "488  24.374   98.223\n",
       "489  24.399   95.117\n",
       "\n",
       "[451 rows x 2 columns]"
      ]
     },
     "execution_count": 14,
     "metadata": {},
     "output_type": "execute_result"
    }
   ],
   "source": [
    "powerproduction=pd.read_csv(\"powerproduction.csv\")\n",
    "#Code adapted from https://stackoverflow.com/questions/22649693/drop-rows-with-all-zeros-in-pandas-data-frame\n",
    "df=powerproduction\n",
    "#print (df.sort_values('power', ascending=True))\n",
    "new_df = df[df.loc[:]!=0].dropna()\n",
    "#df.drop(0,111,110,105,89) #this does not work - only deletes index 0\n",
    "#print(df.drop(['speed'], axis=1))\n",
    "new_df\n",
    "#451 rows × 2 columns"
   ]
  },
  {
   "cell_type": "code",
   "execution_count": 15,
   "metadata": {},
   "outputs": [
    {
     "data": {
      "text/html": [
       "<div>\n",
       "<style scoped>\n",
       "    .dataframe tbody tr th:only-of-type {\n",
       "        vertical-align: middle;\n",
       "    }\n",
       "\n",
       "    .dataframe tbody tr th {\n",
       "        vertical-align: top;\n",
       "    }\n",
       "\n",
       "    .dataframe thead th {\n",
       "        text-align: right;\n",
       "    }\n",
       "</style>\n",
       "<table border=\"1\" class=\"dataframe\">\n",
       "  <thead>\n",
       "    <tr style=\"text-align: right;\">\n",
       "      <th></th>\n",
       "      <th>speed</th>\n",
       "      <th>power</th>\n",
       "    </tr>\n",
       "  </thead>\n",
       "  <tbody>\n",
       "    <tr>\n",
       "      <th>count</th>\n",
       "      <td>451.000000</td>\n",
       "      <td>451.000000</td>\n",
       "    </tr>\n",
       "    <tr>\n",
       "      <th>mean</th>\n",
       "      <td>13.004302</td>\n",
       "      <td>53.231246</td>\n",
       "    </tr>\n",
       "    <tr>\n",
       "      <th>std</th>\n",
       "      <td>6.835979</td>\n",
       "      <td>40.522055</td>\n",
       "    </tr>\n",
       "    <tr>\n",
       "      <th>min</th>\n",
       "      <td>0.325000</td>\n",
       "      <td>0.067000</td>\n",
       "    </tr>\n",
       "    <tr>\n",
       "      <th>25%</th>\n",
       "      <td>7.344500</td>\n",
       "      <td>8.543500</td>\n",
       "    </tr>\n",
       "    <tr>\n",
       "      <th>50%</th>\n",
       "      <td>13.038000</td>\n",
       "      <td>58.168000</td>\n",
       "    </tr>\n",
       "    <tr>\n",
       "      <th>75%</th>\n",
       "      <td>18.781500</td>\n",
       "      <td>94.725500</td>\n",
       "    </tr>\n",
       "    <tr>\n",
       "      <th>max</th>\n",
       "      <td>24.399000</td>\n",
       "      <td>113.556000</td>\n",
       "    </tr>\n",
       "  </tbody>\n",
       "</table>\n",
       "</div>"
      ],
      "text/plain": [
       "            speed       power\n",
       "count  451.000000  451.000000\n",
       "mean    13.004302   53.231246\n",
       "std      6.835979   40.522055\n",
       "min      0.325000    0.067000\n",
       "25%      7.344500    8.543500\n",
       "50%     13.038000   58.168000\n",
       "75%     18.781500   94.725500\n",
       "max     24.399000  113.556000"
      ]
     },
     "execution_count": 15,
     "metadata": {},
     "output_type": "execute_result"
    }
   ],
   "source": [
    "#new_df.to_csv(index=False)\n",
    "newdf_csv_data = new_df.to_csv('new_df.csv', index = False) \n",
    "new_df.describe()"
   ]
  },
  {
   "cell_type": "markdown",
   "metadata": {},
   "source": [
    "#### Analysis 2\n",
    "Start again with this better dataset\n",
    "\n"
   ]
  },
  {
   "cell_type": "code",
   "execution_count": null,
   "metadata": {},
   "outputs": [],
   "source": [
    "sns.pairplot(new_df)"
   ]
  },
  {
   "cell_type": "code",
   "execution_count": null,
   "metadata": {},
   "outputs": [],
   "source": [
    "sns.lmplot(x=\"speed\", y=\"power\", data=new_df);\n"
   ]
  },
  {
   "cell_type": "code",
   "execution_count": 16,
   "metadata": {},
   "outputs": [],
   "source": [
    "import sklearn.linear_model as lin\n",
    "powerproduction=pd.read_csv(\"new_df.csv\")\n",
    "#manipulate the two lists of numbers\n",
    "#x=powerproduction[\"speed\"].to_numpy()\n",
    "#X (windspeed) is the independent variable and y (power generated) is the dependent v\n",
    "speed=powerproduction[\"speed\"].to_numpy()\n",
    "y=powerproduction[\"power\"].to_numpy()\n",
    "#y = data[\"power\"].to_numpy()\n",
    "\n",
    "x = speed.reshape(-1, 1)\n",
    "model = lin.LinearRegression()\n",
    "model.fit(x, y)#tells skcitlearn where the values are\n",
    "r = model.score(x, y)#find out the r value, how well the lines fits the data set\n",
    "p = [model.intercept_, model.coef_[0]]#provide the intercept"
   ]
  },
  {
   "cell_type": "code",
   "execution_count": 17,
   "metadata": {},
   "outputs": [
    {
     "data": {
      "text/plain": [
       "0.8984832870534454"
      ]
     },
     "execution_count": 17,
     "metadata": {},
     "output_type": "execute_result"
    }
   ],
   "source": [
    "r"
   ]
  },
  {
   "cell_type": "code",
   "execution_count": null,
   "metadata": {},
   "outputs": [],
   "source": [
    "p"
   ]
  },
  {
   "cell_type": "code",
   "execution_count": null,
   "metadata": {},
   "outputs": [],
   "source": [
    "def f(x, p):\n",
    "# x is the input, p is the parameter/s e.g. a list of values somehow trained on a dataset already\n",
    "# p can be used to help us make predictions in the case of x\n",
    "    return p[0] + x * p[1]\n",
    "#this function is designed to provide linear results"
   ]
  },
  {
   "cell_type": "code",
   "execution_count": null,
   "metadata": {},
   "outputs": [],
   "source": [
    "f(7, p)"
   ]
  },
  {
   "cell_type": "code",
   "execution_count": null,
   "metadata": {},
   "outputs": [],
   "source": [
    "def predict(x):\n",
    "    return f(x, p)"
   ]
  },
  {
   "cell_type": "code",
   "execution_count": null,
   "metadata": {},
   "outputs": [],
   "source": [
    "predict(2.9)"
   ]
  },
  {
   "cell_type": "markdown",
   "metadata": {},
   "source": [
    "#### A thought"
   ]
  },
  {
   "cell_type": "markdown",
   "metadata": {},
   "source": [
    "What if the relationship isn't LINEAR, the plot is certainly trying to tell me this.\n",
    "Also - I'm not doing groundbreaking research here surely someone has done this before??!!\n",
    "And has figured out the regression."
   ]
  },
  {
   "cell_type": "markdown",
   "metadata": {},
   "source": [
    "A Clifton et al in 2013 carried out indepth research to conclude that :\n",
    "The power output from the turbine is not a linear function of wind speed, it is a complex non-linear function of hub height wind speed, turbulence intensity, and rotor disk shear.\n",
    "They instead proposed a machine learning technique called 'regression trees'that is implemented in MATLAB\n",
    "The regression tree method predicts wind turbine energy capture with two to three times more accuracy than the industry-standard power curve method.<br>\n",
    "#### Not so good\n",
    "I tried various sample codes to do a regression tree method and they are not working.\n",
    "They all need two inputs to predict - it appears to work best at classification rather than prediction."
   ]
  },
  {
   "cell_type": "code",
   "execution_count": null,
   "metadata": {},
   "outputs": [],
   "source": [
    "#Adapted from https://www.codespeedy.com/decision-tree-regression-in-python-using-scikit-learn/\n",
    "import pandas as pd\n",
    "import sklearn\n",
    "from sklearn import tree\n",
    "from sklearn.tree import DecisionTreeRegressor"
   ]
  },
  {
   "cell_type": "code",
   "execution_count": 19,
   "metadata": {},
   "outputs": [
    {
     "data": {
      "text/plain": [
       "Index(['speed', 'power'], dtype='object')"
      ]
     },
     "execution_count": 19,
     "metadata": {},
     "output_type": "execute_result"
    }
   ],
   "source": [
    "cleanpowerproduction_df = pd.read_csv(\"new_df.csv\")\n",
    "cleanpowerproduction_df.columns"
   ]
  },
  {
   "cell_type": "code",
   "execution_count": 21,
   "metadata": {},
   "outputs": [
    {
     "ename": "NameError",
     "evalue": "name 'DecisionTreeRegressor' is not defined",
     "output_type": "error",
     "traceback": [
      "\u001b[1;31m---------------------------------------------------------------------------\u001b[0m",
      "\u001b[1;31mNameError\u001b[0m                                 Traceback (most recent call last)",
      "\u001b[1;32m<ipython-input-21-b481272c8483>\u001b[0m in \u001b[0;36m<module>\u001b[1;34m\u001b[0m\n\u001b[0;32m     14\u001b[0m \u001b[1;33m\u001b[0m\u001b[0m\n\u001b[0;32m     15\u001b[0m \u001b[1;31m# Defining. model.\u001b[0m\u001b[1;33m\u001b[0m\u001b[1;33m\u001b[0m\u001b[1;33m\u001b[0m\u001b[0m\n\u001b[1;32m---> 16\u001b[1;33m \u001b[0mcleanpowerproduction_model\u001b[0m \u001b[1;33m=\u001b[0m \u001b[0mDecisionTreeRegressor\u001b[0m\u001b[1;33m(\u001b[0m\u001b[0mrandom_state\u001b[0m\u001b[1;33m=\u001b[0m\u001b[1;36m42\u001b[0m\u001b[1;33m)\u001b[0m\u001b[1;33m\u001b[0m\u001b[1;33m\u001b[0m\u001b[0m\n\u001b[0m\u001b[0;32m     17\u001b[0m \u001b[1;33m\u001b[0m\u001b[0m\n\u001b[0;32m     18\u001b[0m \u001b[1;31m# Fit the model\u001b[0m\u001b[1;33m\u001b[0m\u001b[1;33m\u001b[0m\u001b[1;33m\u001b[0m\u001b[0m\n",
      "\u001b[1;31mNameError\u001b[0m: name 'DecisionTreeRegressor' is not defined"
     ]
    }
   ],
   "source": [
    "#Now we call our target value for which prediction is to be made.\n",
    "#hgt = data.Height.values.reshape(-1,1)\n",
    "#wgt = data.Weight.values.reshape(-1,1)\n",
    "y = cleanpowerproduction_df.power.values.reshape(-1,1)\n",
    "\n",
    "#The columns that out inputted into our model are known as 'features.\n",
    "#These columns are used to determine the home price.\n",
    "\n",
    "#For now, we will build our model for only a few features.\n",
    "\n",
    "cleanpowerproduction_features = ['speed', 'power']\n",
    "\n",
    "X = cleanpowerproduction_df[cleanpowerproduction_features]\n",
    "\n",
    "# Defining. model.\n",
    "cleanpowerproduction_model = DecisionTreeRegressor(random_state=42)\n",
    "\n",
    "# Fit the model\n",
    "cleanpowerproduction_model.fit(X, y)"
   ]
  },
  {
   "cell_type": "code",
   "execution_count": null,
   "metadata": {},
   "outputs": [],
   "source": [
    "#r = cleanpowerproduction_model.score(X, y)#find out the r value, how well the lines fits the data set\n",
    "#p = [model.intercept_, model.coef_[0]]#provide the intercept"
   ]
  },
  {
   "cell_type": "code",
   "execution_count": 20,
   "metadata": {},
   "outputs": [
    {
     "name": "stdout",
     "output_type": "stream",
     "text": [
      "The predictions for following following 5 houses:\n"
     ]
    },
    {
     "ename": "NameError",
     "evalue": "name 'X' is not defined",
     "output_type": "error",
     "traceback": [
      "\u001b[1;31m---------------------------------------------------------------------------\u001b[0m",
      "\u001b[1;31mNameError\u001b[0m                                 Traceback (most recent call last)",
      "\u001b[1;32m<ipython-input-20-d37d6b2ef5e0>\u001b[0m in \u001b[0;36m<module>\u001b[1;34m\u001b[0m\n\u001b[0;32m      2\u001b[0m \u001b[1;33m\u001b[0m\u001b[0m\n\u001b[0;32m      3\u001b[0m \u001b[0mprint\u001b[0m\u001b[1;33m(\u001b[0m\u001b[1;34m\"The predictions for following following 5 houses:\"\u001b[0m\u001b[1;33m)\u001b[0m\u001b[1;33m\u001b[0m\u001b[1;33m\u001b[0m\u001b[0m\n\u001b[1;32m----> 4\u001b[1;33m \u001b[0mprint\u001b[0m\u001b[1;33m(\u001b[0m\u001b[0mX\u001b[0m\u001b[1;33m.\u001b[0m\u001b[0mtail\u001b[0m\u001b[1;33m(\u001b[0m\u001b[1;33m)\u001b[0m\u001b[1;33m)\u001b[0m\u001b[1;33m\u001b[0m\u001b[1;33m\u001b[0m\u001b[0m\n\u001b[0m\u001b[0;32m      5\u001b[0m \u001b[0mprint\u001b[0m\u001b[1;33m(\u001b[0m\u001b[1;34m\"The predictions made for houses are : \"\u001b[0m\u001b[1;33m)\u001b[0m\u001b[1;33m\u001b[0m\u001b[1;33m\u001b[0m\u001b[0m\n\u001b[0;32m      6\u001b[0m \u001b[0mprint\u001b[0m\u001b[1;33m(\u001b[0m\u001b[0mcleanpowerproduction_model\u001b[0m\u001b[1;33m.\u001b[0m\u001b[0mpredict\u001b[0m\u001b[1;33m(\u001b[0m\u001b[0mX\u001b[0m\u001b[1;33m.\u001b[0m\u001b[0mtail\u001b[0m\u001b[1;33m(\u001b[0m\u001b[1;33m)\u001b[0m\u001b[1;33m)\u001b[0m\u001b[1;33m)\u001b[0m\u001b[1;33m\u001b[0m\u001b[1;33m\u001b[0m\u001b[0m\n",
      "\u001b[1;31mNameError\u001b[0m: name 'X' is not defined"
     ]
    }
   ],
   "source": [
    "#We make predictions of Price for first 5 houses using Decision Tree regressor\n",
    "\n",
    "print(\"The predictions for following following 5 houses:\")\n",
    "print(X.tail())\n",
    "print(\"The predictions made for houses are : \")\n",
    "print(cleanpowerproduction_model.predict(X.tail()))\n",
    "#print(cleanpowerproduction_model.predict(X.all()))"
   ]
  },
  {
   "cell_type": "code",
   "execution_count": null,
   "metadata": {},
   "outputs": [],
   "source": [
    "#cleanpowerproduction_model.predict(X.tail())\n",
    "#cleanpowerproduction_model.predict([[17,1]])\n",
    "#cleanpowerproduction_model.predict([[17]])\n"
   ]
  },
  {
   "cell_type": "code",
   "execution_count": null,
   "metadata": {},
   "outputs": [],
   "source": [
    "#Adapted from https://www.geeksforgeeks.org/python-decision-tree-regression-using-sklearn/\n",
    "# import numpy package for arrays and stuff \n",
    "import numpy as np  \n",
    "# import matplotlib.pyplot for plotting our result \n",
    "import matplotlib.pyplot as plt \n",
    "# import pandas for importing csv files  \n",
    "import pandas as pd "
   ]
  },
  {
   "cell_type": "code",
   "execution_count": null,
   "metadata": {},
   "outputs": [],
   "source": [
    "#Step 2: Initialize and print the Dataset.\n",
    "# import dataset \n",
    "dataset = pd.read_csv(\"new_df.csv\") "
   ]
  },
  {
   "cell_type": "code",
   "execution_count": null,
   "metadata": {},
   "outputs": [],
   "source": [
    "# print the dataset \n",
    "print(dataset) "
   ]
  },
  {
   "cell_type": "code",
   "execution_count": null,
   "metadata": {},
   "outputs": [],
   "source": [
    "#Step 3: Select all the rows and column 1 from dataset to “X”"
   ]
  },
  {
   "cell_type": "code",
   "execution_count": null,
   "metadata": {},
   "outputs": [],
   "source": [
    "# select all rows by : and column 1 \n",
    "# by 1:2 representing features \n",
    "#X = dataset[:, 1:2].astype(int) \n",
    "X = dataset.power.astype(int) \n",
    "\n",
    "#X = dataset[dataset_features] \n",
    "# print X \n",
    "print(X)"
   ]
  },
  {
   "cell_type": "code",
   "execution_count": null,
   "metadata": {},
   "outputs": [],
   "source": [
    "#Step 4: Select all of the rows and column 2 from dataset to “y\"\n",
    "# select all rows by : and column 2 \n",
    "# by 2 to Y representing labels \n",
    "#y = dataset[:, 1].astype(int)  \n",
    "y = dataset.speed\n",
    "#y.reshape(-1, 1)\n",
    "# print y \n",
    "#print(y)"
   ]
  },
  {
   "cell_type": "code",
   "execution_count": null,
   "metadata": {},
   "outputs": [],
   "source": [
    "# create a regressor object \n",
    "#regressor = DecisionTreeRegressor(random_state = 0)  \n",
    "  \n",
    "# fit the regressor with X and Y data \n",
    "#regressor.fit(X, y) \n",
    "\n",
    "# predicting a new value \n",
    "\n",
    "# test the output by changing values, like 3750 \n",
    "#y_pred = regressor.predict([[8]]) \n",
    "\n",
    "# print the predicted price \n",
    "#print(\"Predicted price: % d\\n\"% y_pred) "
   ]
  },
  {
   "cell_type": "markdown",
   "metadata": {},
   "source": [
    "#### Maybe polynomial is a better fit"
   ]
  },
  {
   "cell_type": "markdown",
   "metadata": {},
   "source": [
    "What is Regression?\n",
    "Using the relationship between variables to find the best fit line or the regression equation that can be used to make predictions”. (https://towardsdatascience.com/introduction-to-linear-regression-and-polynomial-regression-f8adc96f31cb)\n",
    "Polynomial Regression\n",
    "Polynomial Regression is a form of linear regression in which the relationship between the independent variable x and dependent variable y is not linear but it is the nth degree of polynomial.\n",
    "adapted from https://iq.opengenus.org/polynomial-regression-using-scikit-learn/\n",
    "In this example we will apply linear regression as well as polynomial regression on the same dataset and will see the results of both the models."
   ]
  },
  {
   "cell_type": "code",
   "execution_count": 22,
   "metadata": {},
   "outputs": [],
   "source": [
    "#Adapted from https://iq.opengenus.org/polynomial-regression-using-scikit-learn/\n",
    "#importing the libraries\n",
    "import numpy as np\n",
    "import pandas as pd\n",
    "import matplotlib.pyplot as plt\n",
    "%matplotlib inline"
   ]
  },
  {
   "cell_type": "code",
   "execution_count": 23,
   "metadata": {},
   "outputs": [],
   "source": [
    "#importing the dataset\n",
    "polydataset=pd.read_csv('new_df.csv')\n",
    "#polydataset.info"
   ]
  },
  {
   "cell_type": "code",
   "execution_count": 24,
   "metadata": {},
   "outputs": [],
   "source": [
    "#Now we divide the dataset into X and y,where X is the independent variable (windspeed) and y (power produced) is the dependent variable .\n",
    "#X=dataset.iloc[:,1:2].values\n",
    "#y=dataset.iloc[:,2].values\n",
    "#X = polydataset.speed.reshape(-1, 1)\n",
    "#This numpy array and reshaping stuff is to avoid errors later on.\n",
    "speed = polydataset.speed.to_numpy()\n",
    "y = polydataset.power.to_numpy()\n",
    "\n",
    "\n",
    "#speed=powerproduction[\"speed\"].to_numpy()\n",
    "#y=powerproduction[\"power\"].to_numpy()\n",
    "#y = data[\"power\"].to_numpy()\n",
    "X = speed.reshape(-1, 1)\n",
    "#model = lin.LinearRegression()"
   ]
  },
  {
   "cell_type": "code",
   "execution_count": 35,
   "metadata": {},
   "outputs": [
    {
     "data": {
      "text/plain": [
       "LinearRegression()"
      ]
     },
     "execution_count": 35,
     "metadata": {},
     "output_type": "execute_result"
    }
   ],
   "source": [
    "#fitting the linear regression model to the dataset\n",
    "from sklearn.linear_model import LinearRegression\n",
    "lin_reg=LinearRegression()\n",
    "lin_reg.fit(X,y)\n",
    "\n",
    "r = lin_reg.score(X,y)#find out the r value, how well the lines fits the data set\n",
    "#p = [lin_reg.intercept_, lin_reg2.coef_[0]]#provide the intercept\n",
    "\n",
    "#Adapted from Machine Learning Tutorial Python - 7: Training and Testing Data\n",
    "#https://www.youtube.com/watch?v=fwY9Qv96DJY\n",
    "from sklearn.model_selection import train_test_split\n",
    "X_train, X_test, y_train, y_test = train_test_split(X, y, test_size = 0.3)\n",
    "len(y_test)\n",
    "from sklearn.linear_model import LinearRegression\n",
    "classifier=LinearRegression()\n",
    "classifier.fit(X_train, y_train)"
   ]
  },
  {
   "cell_type": "code",
   "execution_count": 40,
   "metadata": {},
   "outputs": [
    {
     "data": {
      "text/plain": [
       "array([ 1.17177864e+02,  9.76415774e+01, -5.18608345e+00,  1.13331017e+02,\n",
       "       -1.87383850e+01,  8.00999524e+01,  5.58562640e+01,  8.79418225e+01,\n",
       "        1.08766091e+02,  4.70113641e+01,  1.99124599e+01, -1.55982176e+01,\n",
       "        1.12612938e+02, -4.18875259e+00, -1.27430018e+01,  6.52653683e+01,\n",
       "       -1.90233367e+01, -7.63633479e-01,  4.82936466e+01,  4.55866057e+01,\n",
       "        9.64280164e+00, -1.19106099e+00,  4.65614735e+00, -1.74504035e+01,\n",
       "        2.53322408e+01,  6.59777475e+01,  2.93272632e+01,  7.88176699e+01,\n",
       "        2.51331077e+00,  1.23102824e+00,  1.06053351e+02,  1.89151291e+01,\n",
       "        7.80995917e+01,  7.38253166e+01,  2.27676757e+01,  6.61202233e+01,\n",
       "        3.58868508e+01,  5.01515315e+01,  9.56469157e+01, -4.47370427e+00,\n",
       "        3.24617316e+01,  6.55503200e+01,  3.73116091e+01, -1.58831693e+01,\n",
       "        1.11900559e+02,  5.49957100e+01,  6.84055357e+01,  3.63142783e+01,\n",
       "        1.04201165e+02,  3.65992299e+01,  4.23039625e+01,  8.80842983e+01,\n",
       "        1.12903589e+02,  6.45529891e+01,  1.52050583e+01,  3.22568995e+00,\n",
       "        1.12157349e+01,  1.05340972e+02,  8.58046849e+01,  9.03696107e+01,\n",
       "        7.91026216e+01,  4.51591782e+01, -1.80203068e+01,  1.02491455e+02,\n",
       "        2.39074824e+01,  2.00549358e+01,  2.24827240e+01,  1.01060998e+02,\n",
       "        1.23555416e+01,  2.54747166e+01,  8.55197333e+01,  9.39315067e+01,\n",
       "       -5.89846263e+00, -6.61084182e+00,  1.26404932e+01,  8.85117258e+01,\n",
       "        1.08623615e+02,  5.92756841e+01,  7.53925508e+01, -1.77353552e+01,\n",
       "        2.20552965e+01, -1.90913921e+00,  5.87057808e+01,  4.87210741e+01,\n",
       "        6.98302941e+01,  1.09905897e+02,  1.00918522e+02,  4.07367282e+01,\n",
       "        4.60140332e+01,  7.93309160e+00,  5.05789590e+01,  7.92450974e+01,\n",
       "        4.67264124e+01,  1.03203834e+02,  1.02206503e+02, -3.90380092e+00,\n",
       "       -1.83052585e+01,  4.35862450e+01, -7.18644420e+00,  2.17703449e+01,\n",
       "        7.31129374e+01,  6.48379408e+01,  1.01203473e+02, -3.04894590e+00,\n",
       "        5.84208291e+01,  7.59624541e+01,  6.65080907e+00,  8.56622091e+01,\n",
       "        5.21461933e+01,  4.72963158e+01,  6.01305391e+01,  6.72657290e+01,\n",
       "        3.36816579e+00,  8.43799266e+01,  1.63505640e+01,  4.14491074e+01,\n",
       "        8.30919450e+01,  3.94544457e+01,  4.81511708e+01,  8.73719191e+01,\n",
       "       -1.50283143e+01,  9.17943691e+01, -5.12542949e-02,  1.10475801e+02,\n",
       "        5.45682825e+01,  6.69750783e+01,  8.35193725e+01,  1.15753106e+02,\n",
       "        3.70266575e+01,  4.62989849e+01,  1.97699841e+01,  5.20037174e+01,\n",
       "        1.08855240e+00,  1.15325678e+02,  5.95606358e+01, -1.93730132e-01])"
      ]
     },
     "execution_count": 40,
     "metadata": {},
     "output_type": "execute_result"
    }
   ],
   "source": [
    "classifier.predict(X_test)"
   ]
  },
  {
   "cell_type": "code",
   "execution_count": 39,
   "metadata": {},
   "outputs": [
    {
     "data": {
      "text/plain": [
       "0.9037129828246961"
      ]
     },
     "execution_count": 39,
     "metadata": {},
     "output_type": "execute_result"
    }
   ],
   "source": [
    "classifier.score(X_test,y_test)"
   ]
  },
  {
   "cell_type": "code",
   "execution_count": 26,
   "metadata": {},
   "outputs": [
    {
     "data": {
      "text/plain": [
       "0.8984832870534454"
      ]
     },
     "execution_count": 26,
     "metadata": {},
     "output_type": "execute_result"
    }
   ],
   "source": [
    "r"
   ]
  },
  {
   "cell_type": "code",
   "execution_count": 27,
   "metadata": {},
   "outputs": [
    {
     "data": {
      "text/plain": [
       "[-19.837685452108403, 5.618827837778542]"
      ]
     },
     "execution_count": 27,
     "metadata": {},
     "output_type": "execute_result"
    }
   ],
   "source": [
    "p"
   ]
  },
  {
   "cell_type": "code",
   "execution_count": 28,
   "metadata": {},
   "outputs": [],
   "source": [
    "#### test and train today\n",
    "#Adapted from Machine Learning Tutorial Python - 7: Training and Testing Data\n",
    "from sklearn.model_selection import train_test_split\n",
    "#Training data and test data are two important concepts in machine learning.\n",
    "#The training data consists of observations (one observed input and one output variable in this case).\n",
    "#the algorithm uses training data to learn. \n",
    "#The test set is a different set of observations used to evaluate the performance of the model.\n",
    "#Ensure that the test set does contain examples from the training set, it will be difficult to assess whether the algorithm is working correctly.\n",
    "#It is common to partition a single set of supervised observations into training and test sets.\n",
    "\n",
    "# Split the data set observations into 70 % train 30% test\n",
    "X_train, X_test, y_train, y_test = train_test_split(X, y, test_size = 0.3)\n",
    "#len(X_train)\n",
    "\n",
    "##fit the polynomial regression model to the training dataset\n",
    "\n",
    "from sklearn.preprocessing import PolynomialFeatures\n",
    "from sklearn import model_selection\n",
    "poly_reg=PolynomialFeatures(degree=4)\n",
    "X_trainpoly=poly_reg.fit_transform(X_train)\n",
    "polyreg=LinearRegression()\n",
    "polyreg.fit(X_trainpoly, y_train)\n",
    "\n",
    "X_test_poly = poly_reg.fit_transform(X_test)\n",
    "\n",
    "y_predict_poly = polyreg.predict(X_test_poly)\n"
   ]
  },
  {
   "cell_type": "code",
   "execution_count": 29,
   "metadata": {},
   "outputs": [
    {
     "ename": "AttributeError",
     "evalue": "'PolynomialFeatures' object has no attribute 'score'",
     "output_type": "error",
     "traceback": [
      "\u001b[1;31m---------------------------------------------------------------------------\u001b[0m",
      "\u001b[1;31mAttributeError\u001b[0m                            Traceback (most recent call last)",
      "\u001b[1;32m<ipython-input-29-73094f4be0ec>\u001b[0m in \u001b[0;36m<module>\u001b[1;34m\u001b[0m\n\u001b[1;32m----> 1\u001b[1;33m \u001b[0mpoly_reg\u001b[0m\u001b[1;33m.\u001b[0m\u001b[0mscore\u001b[0m\u001b[1;33m(\u001b[0m\u001b[0mX_test\u001b[0m\u001b[1;33m,\u001b[0m \u001b[0my_test\u001b[0m\u001b[1;33m)\u001b[0m\u001b[1;33m\u001b[0m\u001b[1;33m\u001b[0m\u001b[0m\n\u001b[0m",
      "\u001b[1;31mAttributeError\u001b[0m: 'PolynomialFeatures' object has no attribute 'score'"
     ]
    }
   ],
   "source": [
    "poly_reg.score(X_test, y_test)"
   ]
  },
  {
   "cell_type": "code",
   "execution_count": null,
   "metadata": {},
   "outputs": [],
   "source": [
    "#fitting the polynomial regression model to the dataset\n",
    "from sklearn.preprocessing import PolynomialFeatures\n",
    "poly_reg=PolynomialFeatures(degree=4)\n",
    "X_poly=poly_reg.fit_transform(X)\n",
    "poly_reg.fit(X_poly,y)\n",
    "polyreg=LinearRegression()\n",
    "polyreg.fit(X_poly,y)\n",
    "\n",
    "\n",
    "r = polyreg.score(X_poly,y)#find out the r value, how well the lines fits the data set\n",
    "p = [polyreg.intercept_, polyreg.coef_[0]]#provide the intercept"
   ]
  },
  {
   "cell_type": "code",
   "execution_count": null,
   "metadata": {},
   "outputs": [],
   "source": [
    "r\n",
    "#the best possible score is 1.0"
   ]
  },
  {
   "cell_type": "code",
   "execution_count": null,
   "metadata": {},
   "outputs": [],
   "source": [
    "polyp = [polyreg.intercept_, polyreg.coef_[0]]#provide the intercept\n",
    "polyp"
   ]
  },
  {
   "cell_type": "code",
   "execution_count": null,
   "metadata": {},
   "outputs": [],
   "source": []
  },
  {
   "cell_type": "code",
   "execution_count": null,
   "metadata": {},
   "outputs": [],
   "source": [
    "#Visualising the linear regression model results\n",
    "plt.subplot(1,2,1)\n",
    "plt.scatter(X,y,color='seagreen')\n",
    "plt.plot(X,lin_reg.predict(X),color='darkgrey')\n",
    "plt.title('Linear Regression')\n",
    "plt.xlabel('Power')\n",
    "plt.ylabel('Speed')\n",
    "\n",
    "#Visualising the polynomial regression model results\n",
    "plt.subplot(1,2,2)#2 is passed in so that this subplot will appear as the second one\n",
    "X_grid=np.arange(min(X),max(X),0.1)\n",
    "X_grid=X_grid.reshape((len(X_grid),1))\n",
    "plt.scatter(X,y,color='seagreen')\n",
    "plt.plot(X,polyreg.predict(poly_reg.fit_transform(X)),color='darkgrey')\n",
    "plt.title('Polynomial Regression')\n",
    "plt.xlabel('Power')\n",
    "plt.ylabel('Speed')\n",
    "plt.tight_layout()\n",
    "plt.subplots_adjust(top=0.88)\n",
    "plt.suptitle('Power Production')\n",
    "\n"
   ]
  },
  {
   "cell_type": "code",
   "execution_count": null,
   "metadata": {},
   "outputs": [],
   "source": [
    "#Visualising the pollynomial regression model results\n",
    "#plt.subplot(1,2,2)\n",
    "#X_grid=np.arange(min(X),max(X),0.1)\n",
    "#X_grid=X_grid.reshape((len(X_grid),1))\n",
    "#plt.scatter(X,y,color='green')\n",
    "#plt.plot(X,lin_reg2.predict(poly_reg.fit_transform(X)),color='blue')\n",
    "#plt.title('Power Production(Polynomial Regression)')\n",
    "#plt.xlabel('Power')\n",
    "#plt.ylabel('Speed')\n",
    "#plt.show()"
   ]
  },
  {
   "cell_type": "code",
   "execution_count": null,
   "metadata": {},
   "outputs": [],
   "source": [
    "#oh yes that is a sweet looking fit!"
   ]
  },
  {
   "cell_type": "code",
   "execution_count": null,
   "metadata": {},
   "outputs": [],
   "source": [
    "#predicting the result of linear regression model.\n",
    "lin_reg.predict( ([ [20.5] ]) )"
   ]
  },
  {
   "cell_type": "code",
   "execution_count": null,
   "metadata": {},
   "outputs": [],
   "source": [
    "#predicting the result of polynomial regression.\n",
    "polyreg.predict( poly_reg.fit_transform(([ [20.5] ]) ))"
   ]
  },
  {
   "cell_type": "markdown",
   "metadata": {},
   "source": []
  },
  {
   "cell_type": "code",
   "execution_count": null,
   "metadata": {},
   "outputs": [],
   "source": []
  },
  {
   "cell_type": "code",
   "execution_count": null,
   "metadata": {},
   "outputs": [],
   "source": []
  },
  {
   "cell_type": "markdown",
   "metadata": {},
   "source": [
    "#### Turn the code into a function"
   ]
  },
  {
   "cell_type": "markdown",
   "metadata": {},
   "source": [
    "As above and in the \"Functions and models\" video tutorial, the co-efficent value can be fed into function\n",
    "Make sure the right p value is passed in."
   ]
  },
  {
   "cell_type": "markdown",
   "metadata": {},
   "source": [
    "### predictlinear()\n",
    "Is it possible to use the P value that I have figured out and simply do a calculation to return a linear prediction?<br>\n",
    "$f(x,p)$"
   ]
  },
  {
   "cell_type": "code",
   "execution_count": null,
   "metadata": {},
   "outputs": [],
   "source": [
    "def f(x, p):\n",
    "# x is the input, p is the parameter/s e.g. a list of values somehow trained on a dataset already\n",
    "# p can be used to help us make predictions in the case of x\n",
    "    return p[0] + x * p[1]\n",
    "#this function is designed to provide linear results\n",
    "\n",
    "f(6.5,p)"
   ]
  },
  {
   "cell_type": "code",
   "execution_count": null,
   "metadata": {},
   "outputs": [],
   "source": [
    "def predict(x):\n",
    "    return f(x, p)\n",
    "#this version probably easier to use in flask app file...?"
   ]
  },
  {
   "cell_type": "code",
   "execution_count": null,
   "metadata": {},
   "outputs": [],
   "source": [
    "predict(6.5)"
   ]
  },
  {
   "cell_type": "code",
   "execution_count": null,
   "metadata": {},
   "outputs": [],
   "source": [
    "#https://github.com/ianmcloughlin/jupyter-teaching-notebooks/blob/master/keras-linear.ipynb\n",
    "# Let's set f to a polynomial instead.\n",
    "#f = lambda x: 2.0 * x**2 + 3.0 * x + 4.0"
   ]
  },
  {
   "cell_type": "code",
   "execution_count": null,
   "metadata": {},
   "outputs": [],
   "source": [
    "def predictpoly(g):\n",
    "    import cmath\n",
    "    p = [polyreg.intercept_, polyreg.coef_[0]]#provide the intercept\n",
    "    return (2.0 * p**2) + (3.0 * p + 4.0)"
   ]
  },
  {
   "cell_type": "code",
   "execution_count": null,
   "metadata": {},
   "outputs": [],
   "source": [
    "predict()\n",
    "def f(x, p):\n",
    "# x is the input, p is the parameter/s e.g. a list of values somehow trained on a dataset already\n",
    "# p can be used to help us make predictions in the case of x\n",
    "    return p[0] + x * p[1]\n",
    "#this function is designed to provide linear results\n",
    "\n",
    "f(8.5,p)\n"
   ]
  },
  {
   "cell_type": "markdown",
   "metadata": {},
   "source": [
    "## get the web service to use the function and dataset directly"
   ]
  },
  {
   "cell_type": "markdown",
   "metadata": {},
   "source": [
    "#### Saving the model: Serialization and Deserialization using sklearn’s joblib\n",
    "https://www.datacamp.com/community/tutorials/machine-learning-models-api-python\n",
    "joblib.dump(value, filename, compress=0, protocol=None, cache_size=None)<br>\n",
    "Persist an arbitrary Python object into one file.\n",
    "\n",
    "Returns:\t\n",
    "filenames: list of strings\n",
    "The list of file names in which the data is stored. If compress is false, each array is stored in a different file."
   ]
  },
  {
   "cell_type": "code",
   "execution_count": null,
   "metadata": {},
   "outputs": [],
   "source": [
    "import joblib\n",
    "#from sklearn.externals import joblib\n",
    "#joblib.dump(lr, 'model.pkl')\n",
    "joblib.dump(polyreg, 'model.pkl')\n",
    "#print(\"Model dumped!\")"
   ]
  },
  {
   "cell_type": "code",
   "execution_count": null,
   "metadata": {},
   "outputs": [],
   "source": [
    "The Logistic Regression model is now \"persisted\". \n",
    "Perist in this context means having it available for future use without having to retrain.\n",
    "You can load this model into memory with a single line of code. \n",
    "Loading the model back into your workspace is known as Deserialization."
   ]
  },
  {
   "cell_type": "code",
   "execution_count": null,
   "metadata": {},
   "outputs": [],
   "source": [
    "lr = joblib.load('model.pkl')\n",
    "#You’re now ready to use Flask to serve your persisted model."
   ]
  },
  {
   "cell_type": "code",
   "execution_count": null,
   "metadata": {},
   "outputs": [],
   "source": []
  },
  {
   "cell_type": "markdown",
   "metadata": {},
   "source": [
    "Creating an API from a machine learning model using Flask<br>\n",
    "For serving your model with Flask, you will do the following two things:\n",
    "\n",
    "1. Load the already persisted model into memory when the application starts,\n",
    "2. Create an API endpoint that takes input variables, transforms them into the appropriate format, and returns predictions."
   ]
  },
  {
   "cell_type": "code",
   "execution_count": null,
   "metadata": {},
   "outputs": [],
   "source": [
    "Let's write a function predict() which will do:\n",
    "\n",
    "Load the persisted model into memory when the application starts,\n",
    "Create an API endpoint that takes input variables, transforms them into the appropriate format, and returns predictions.\n",
    "You have already seen how to load a persisted model. Now, you will focus on how you can use it for predicting upon receiving inputs."
   ]
  },
  {
   "cell_type": "code",
   "execution_count": null,
   "metadata": {},
   "outputs": [],
   "source": [
    "from flask import Flask, jsonify\n",
    "app = Flask(__name__)\n",
    "@app.route('/predict', methods=['POST'])\n",
    "def predict():\n",
    "     json_ = request.json\n",
    "     query_df = pd.DataFrame(json_)\n",
    "     query = pd.get_dummies(query_df)\n",
    "     prediction = lr.predict(query)\n",
    "     return jsonify({'prediction': list(prediction)})"
   ]
  },
  {
   "cell_type": "code",
   "execution_count": null,
   "metadata": {},
   "outputs": [],
   "source": []
  },
  {
   "cell_type": "code",
   "execution_count": null,
   "metadata": {},
   "outputs": [],
   "source": [
    "#https://developer.ibm.com/technologies/artificial-intelligence/tutorials/deploy-a-python-machine-learning-model-as-a-web-service/\n",
    "#Use pickle to export our model object as a binary, which can be used by the web service that will be created in the next step:\n",
    "#import pickle\n",
    "# pickle.dump(lm, open(\"../deploy/linearmodel.pkl\",\"wb\"))\n",
    "#pickle.dump(lin_reg2, open(\"lin_reg2.pkl\",\"wb\"))\n"
   ]
  },
  {
   "cell_type": "code",
   "execution_count": null,
   "metadata": {},
   "outputs": [],
   "source": [
    "#https://developer.ibm.com/technologies/artificial-intelligence/tutorials/deploy-a-python-machine-learning-model-as-a-web-service/\n",
    "import pickle\n",
    "import flask\n",
    "import os\n",
    "\n",
    "app = flask.Flask(__name__)\n",
    "\n",
    "#port = int(os.getenv(\"PORT\", 9099))\n",
    "\n",
    "#Import the model file that was created previously:model = pickle.load(open(\"linearmodel.pkl\",\"rb\"))\n",
    "model= pickle.load(open(\"lin_reg2.pkl\",\"rb\"))\n",
    "#pickle.dump(lin_reg2, open(\"lin_reg2.pkl\",\"wb\"))\n",
    "@app.route(\"/\")\n",
    "def hello():\n",
    "    return \"this is where the machine learning model gets API-ed!\"\n",
    "\n",
    "#Add a route that will allow you to send a JSON body of features and will return a prediction:\n",
    "@app.route('/index', methods=['POST'])\n",
    "def predict():\n",
    "\n",
    "    features = flask.request.get_json(force=True)['features']\n",
    "    prediction = model.predict([features])[0,0]\n",
    "    response = {'prediction': prediction}\n",
    "\n",
    "    return flask.jsonify(response)\n",
    "\n",
    "if __name__ == '__main__':\n",
    "    app.run(debug=True)\n",
    " #    app.run(host='0.0.0.0', port=port)"
   ]
  },
  {
   "cell_type": "code",
   "execution_count": null,
   "metadata": {},
   "outputs": [],
   "source": []
  },
  {
   "cell_type": "markdown",
   "metadata": {},
   "source": []
  }
 ],
 "metadata": {
  "kernelspec": {
   "display_name": "Python 3",
   "language": "python",
   "name": "python3"
  },
  "language_info": {
   "codemirror_mode": {
    "name": "ipython",
    "version": 3
   },
   "file_extension": ".py",
   "mimetype": "text/x-python",
   "name": "python",
   "nbconvert_exporter": "python",
   "pygments_lexer": "ipython3",
   "version": "3.8.5"
  }
 },
 "nbformat": 4,
 "nbformat_minor": 4
}

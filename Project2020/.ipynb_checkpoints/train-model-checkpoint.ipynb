{
 "cells": [
  {
   "cell_type": "markdown",
   "metadata": {},
   "source": [
    "#### *Step by Step implementation of a training model*"
   ]
  },
  {
   "cell_type": "markdown",
   "metadata": {},
   "source": [
    "______________________________________________________________________________________________________________\n"
   ]
  },
  {
   "cell_type": "markdown",
   "metadata": {},
   "source": [
    "#### Contents (click to link)<br>\n",
    "\n",
    "[Import the required libraries](#import_id)\n",
    "\n",
    "[Import and investigate the dataset](#investigate_id)\n",
    "\n",
    "[Observations](#observations_id)\n",
    "\n",
    "[Clean the data](#clean_id)\n",
    "\n",
    "[Train the model, Score it and Analyze the accuracy](#train_id)\n",
    "\n",
    "[Fit linear and polynomial regressions to the data](#fit_id)\n",
    "\n",
    "[Analyse the accuracy using sklearn features](#score_id)\n",
    "\n",
    "[Plot and Visualise Model Outputs](#plot_id)\n",
    "\n",
    "[Predict](#predict_id)\n",
    "\n",
    "[Saving the model: Serialisation and Deserialisation using sklearn’s joblib](#pickle_id)\n",
    "\n",
    "[References](#references_id)"
   ]
  },
  {
   "cell_type": "markdown",
   "metadata": {},
   "source": [
    "#### Import the required libraries <a id='import_id'></a>"
   ]
  },
  {
   "cell_type": "code",
   "execution_count": 1,
   "metadata": {},
   "outputs": [],
   "source": [
    "# import numpy package for arrays,lists of lists of numbers\n",
    "import numpy as numpy\n",
    "# pandas \"excel for python\", good for spreadsheets and dataframes\n",
    "import pandas as pd\n",
    "#sklearn the library for data mining\n",
    "import sklearn as sklearn\n",
    "import sklearn.linear_model as lin\n",
    "from sklearn.linear_model import LinearRegression\n",
    "from sklearn.preprocessing import PolynomialFeatures\n",
    "import seaborn as sns\n",
    "# import matplotlib.pyplot for plotting  \n",
    "import matplotlib.pyplot as plt \n",
    "#magic function, renders the plots in this notebook\n",
    "%matplotlib inline\n",
    "\n",
    " "
   ]
  },
  {
   "cell_type": "markdown",
   "metadata": {},
   "source": [
    "#### Import and investigate the dataset\n",
    "<a id='investigate_id'></a>"
   ]
  },
  {
   "cell_type": "code",
   "execution_count": 2,
   "metadata": {},
   "outputs": [
    {
     "data": {
      "text/html": [
       "<div>\n",
       "<style scoped>\n",
       "    .dataframe tbody tr th:only-of-type {\n",
       "        vertical-align: middle;\n",
       "    }\n",
       "\n",
       "    .dataframe tbody tr th {\n",
       "        vertical-align: top;\n",
       "    }\n",
       "\n",
       "    .dataframe thead th {\n",
       "        text-align: right;\n",
       "    }\n",
       "</style>\n",
       "<table border=\"1\" class=\"dataframe\">\n",
       "  <thead>\n",
       "    <tr style=\"text-align: right;\">\n",
       "      <th></th>\n",
       "      <th>speed</th>\n",
       "      <th>power</th>\n",
       "    </tr>\n",
       "  </thead>\n",
       "  <tbody>\n",
       "    <tr>\n",
       "      <th>count</th>\n",
       "      <td>500.000000</td>\n",
       "      <td>500.000000</td>\n",
       "    </tr>\n",
       "    <tr>\n",
       "      <th>mean</th>\n",
       "      <td>12.590398</td>\n",
       "      <td>48.014584</td>\n",
       "    </tr>\n",
       "    <tr>\n",
       "      <th>std</th>\n",
       "      <td>7.224991</td>\n",
       "      <td>41.614572</td>\n",
       "    </tr>\n",
       "    <tr>\n",
       "      <th>min</th>\n",
       "      <td>0.000000</td>\n",
       "      <td>0.000000</td>\n",
       "    </tr>\n",
       "    <tr>\n",
       "      <th>25%</th>\n",
       "      <td>6.324750</td>\n",
       "      <td>5.288000</td>\n",
       "    </tr>\n",
       "    <tr>\n",
       "      <th>50%</th>\n",
       "      <td>12.550500</td>\n",
       "      <td>41.645500</td>\n",
       "    </tr>\n",
       "    <tr>\n",
       "      <th>75%</th>\n",
       "      <td>18.775250</td>\n",
       "      <td>93.537000</td>\n",
       "    </tr>\n",
       "    <tr>\n",
       "      <th>max</th>\n",
       "      <td>25.000000</td>\n",
       "      <td>113.556000</td>\n",
       "    </tr>\n",
       "  </tbody>\n",
       "</table>\n",
       "</div>"
      ],
      "text/plain": [
       "            speed       power\n",
       "count  500.000000  500.000000\n",
       "mean    12.590398   48.014584\n",
       "std      7.224991   41.614572\n",
       "min      0.000000    0.000000\n",
       "25%      6.324750    5.288000\n",
       "50%     12.550500   41.645500\n",
       "75%     18.775250   93.537000\n",
       "max     25.000000  113.556000"
      ]
     },
     "execution_count": 2,
     "metadata": {},
     "output_type": "execute_result"
    }
   ],
   "source": [
    "powerproduction=pd.read_csv(\"powerproduction.csv\")\n",
    "powerproduction.describe()\n",
    "#print(powerproduction)"
   ]
  },
  {
   "cell_type": "code",
   "execution_count": 3,
   "metadata": {},
   "outputs": [
    {
     "data": {
      "text/plain": [
       "<seaborn.axisgrid.PairGrid at 0x180c9585340>"
      ]
     },
     "execution_count": 3,
     "metadata": {},
     "output_type": "execute_result"
    },
    {
     "data": {
      "image/png": "[encoded data removed]",
      "text/plain": [
       "<Figure size 360x360 with 6 Axes>"
      ]
     },
     "metadata": {
      "needs_background": "light"
     },
     "output_type": "display_data"
    }
   ],
   "source": [
    "sns.pairplot(powerproduction)"
   ]
  },
  {
   "cell_type": "markdown",
   "metadata": {},
   "source": [
    "#### Observations\n",
    "<a id='observations_id'></a>"
   ]
  },
  {
   "cell_type": "markdown",
   "metadata": {},
   "source": [
    "I can observe several null values in the dataset and the pairplot.  \n",
    " \n",
    "Wind turbines are designed to operate within particular parameters. The \"cut-in\" and \"cut-out\" speeds are decided on prior to construction.  It takes a particular wind speed to maintain the movement of the rotor blades and generate power.  A high wind speed will cause damage to the mechanisms.\n",
    "\n",
    "While missing values in a data set can be meaningful, I have decided that the best way to accurately predict is to remove the null values.  This is because the majority of these fall on either side of the cut in/cut out values. The other more randomly distributed null values can be there for arbitrary reasons. To include this outlying data will take away from the overall upward trajectory - wind blows fast and turbine goes fast too.<br>\n",
    "This graph from University of Calgary's [Energy Education pages](https://energyeducation.ca/encyclopedia/Wind_power) supports this theory.\n",
    "![](WindPowerCurve.jpg)"
   ]
  },
  {
   "cell_type": "markdown",
   "metadata": {},
   "source": [
    "#### Clean the data\n",
    "<a id='clean_id'></a>"
   ]
  },
  {
   "cell_type": "code",
   "execution_count": null,
   "metadata": {},
   "outputs": [],
   "source": [
    "#Code adapted from https://stackoverflow.com/questions/22649693/drop-rows-with-all-zeros-in-pandas-data-frame\n",
    "df=powerproduction\n",
    "cleanpower = df[df.loc[:]!=0].dropna()\n",
    "#cleanpower\n",
    "cleanpower_csv_data = cleanpower.to_csv('cleanpower.csv', index = False) \n",
    "cleanpower.describe()"
   ]
  },
  {
   "cell_type": "markdown",
   "metadata": {},
   "source": [
    "#### Train the model, Score it and Analyze the accuracy\n",
    "<a id='train_id'></a>\n",
    "Training data and test data are two important concepts in machine learning and it is common to partition a single set of supervised observations into training and test sets. I will demonstrate the technique.\n",
    "\n",
    "The training data consists of observations (one observed input windspeed and one output variable of power in this case).\n",
    "The algorithm uses training data to learn and the test set is a different set of observations used to evaluate the performance of the model.\n",
    "\n",
    "It's important to make sure that the test set does not contain examples from the training set because that makes it difficult to assess whether the algorithm is working correctly."
   ]
  },
  {
   "cell_type": "code",
   "execution_count": 7,
   "metadata": {},
   "outputs": [],
   "source": [
    "#Divide the data set into X and y where X (windspeed) is the independent variable and y (power generated) is the dependent variable.\n",
    "#This breakdown is applicable for both regression styles\n",
    "speed = cleanpower.speed.to_numpy()\n",
    "y = cleanpower.power.to_numpy()\n",
    "#even though you've only one input value it must be reshaped when using scikit learn\n",
    "X = speed.reshape(-1, 1)\n"
   ]
  },
  {
   "cell_type": "markdown",
   "metadata": {},
   "source": [
    "#### Fit linear and polynomial regressions to the data.\n",
    "<a id='fit_id'></a>"
   ]
  },
  {
   "cell_type": "markdown",
   "metadata": {},
   "source": [
    "##### Regression\n",
    "In this step, I'll introduce regression - a fundamental concept in Machine Learning.\n",
    "Regression is where the relationship between variables is interrogated to reveal the line that best describes it.  Once this can be ascertained, a pre-existing equation can be used to make predictions. <br>\n",
    "This might be surprising to somebody who comes to ML believing it to be technology native to the 21st century and their dataset which they believe to be unique.  <br>\n",
    "Machine Learning is built upon hundreds years of academic explorations in maths and statistics where the theory of numbers and the behaviour of their distributions is well established.  <br>\n",
    "\n",
    "A style of regression is chosen and the corresponding modelling from scikit learn can be applied to the data and used to test the hypothesis.\n",
    "I will explore linear and polynomial regression below.\n",
    "\n",
    "* Linear is a commonly used predictive analysis for continuous growth which may be suitable for the generation of power as the line grows, at a glance, in a straight-ish line.\n",
    "* Polynomial is a form of linear regression and is useful where one variable is dependent on another.  That is the case in this scenario- windspeed affects the power generated."
   ]
  },
  {
   "cell_type": "code",
   "execution_count": 8,
   "metadata": {},
   "outputs": [
    {
     "data": {
      "text/plain": [
       "LinearRegression()"
      ]
     },
     "execution_count": 8,
     "metadata": {},
     "output_type": "execute_result"
    }
   ],
   "source": [
    "#Adapted from Machine Learning Tutorial Python - 7: Training and Testing Data\n",
    "#https://www.youtube.com/watch?v=fwY9Qv96DJY\n",
    "from sklearn.model_selection import train_test_split\n",
    "#Split the data set observations into 70 % train 30% test\n",
    "X_train, X_test, y_train, y_test = train_test_split(X, y, test_size = 0.3)\n",
    "#len(y_test)\n",
    "from sklearn.linear_model import LinearRegression\n",
    "lin_reg=LinearRegression()\n",
    "#fitting the linear regression model to the dataset\n",
    "lin_reg.fit(X_train, y_train)"
   ]
  },
  {
   "cell_type": "code",
   "execution_count": 9,
   "metadata": {},
   "outputs": [],
   "source": [
    "#fitting the polynomial regression model to the dataset\n",
    "from sklearn.preprocessing import PolynomialFeatures\n",
    "from sklearn import model_selection\n",
    "\n",
    "#poly_reg=PolynomialFeatures(degree=4)\n",
    "#X_poly=poly_reg.fit_transform(X)\n",
    "#poly_reg.fit(X_poly,y)\n",
    "#polyreg=LinearRegression()\n",
    "#polyreg.fit(X_poly,y)\n",
    "\n",
    "\n",
    "poly_reg=PolynomialFeatures(degree=4)\n",
    "#fit_transform() is equivalent to apply fit() and then transform()\n",
    "X_trainpoly=poly_reg.fit_transform(X_train)\n",
    "polyreg=LinearRegression()\n",
    "polyreg.fit(X_trainpoly, y_train)\n",
    "\n",
    "X_test_poly = poly_reg.fit_transform(X_test)"
   ]
  },
  {
   "cell_type": "markdown",
   "metadata": {},
   "source": [
    "#### Analyse the accuracy using sklearn features\n",
    "<a id='score_id'></a>"
   ]
  },
  {
   "cell_type": "markdown",
   "metadata": {},
   "source": [
    "I've called score and intercept functions on the data to score the models that I have created.\n",
    "\n",
    "sklearn's score() function returns the coefficient of determination R^2 of the prediction.\n",
    "\n",
    "The coefficient of determination also known as the R-squared value is used to evaluate the fit of a linear model.\n",
    "\n",
    "There are probably lots of unknown factors affecting the measurement, for example, A Clifton et al 2013 carried out indepth research to conclude that : \n",
    ">The power output from the turbine is not a linear function of wind speed, it is a complex non-linear function of hub height, wind speed, turbulence intensity and rotor disk shear.\n",
    "\n",
    "R-square value measures how much of the variance in $y$ (the power generated) is determined by $x$ (windspeed).\n",
    "\n",
    "R is a value between 0 and 1, with one being the best result when the lines fit well with the data set.\n",
    "\n",
    "The results show that the polynomial regression is a better fit for the data."
   ]
  },
  {
   "cell_type": "code",
   "execution_count": 10,
   "metadata": {},
   "outputs": [
    {
     "name": "stdout",
     "output_type": "stream",
     "text": [
      "The linear regression score out of 1.0 is:\n",
      " 0.885690971944992\n",
      "The polynomial regression score out of 1.0 is:\n",
      " 0.9793781568512705\n"
     ]
    }
   ],
   "source": [
    "r = lin_reg.score(X_test,y_test)\n",
    "print (\"The linear regression score out of 1.0 is:\\n\",(r))\n",
    "polyr = polyreg.score(X_test_poly,y_test)#find out the r value, how well the lines fits the data set\n",
    "print (\"The polynomial regression score out of 1.0 is:\\n\",(polyr))\n"
   ]
  },
  {
   "cell_type": "code",
   "execution_count": 11,
   "metadata": {},
   "outputs": [
    {
     "name": "stdout",
     "output_type": "stream",
     "text": [
      "The linear regression intercepts are:\n",
      " [-21.984303285100438, 5.766565764917426]\n",
      "The polynomial regression intercepts are:\n",
      " [[14.549090678772437, 5.766565764917426]]\n"
     ]
    }
   ],
   "source": [
    "p = [lin_reg.intercept_, lin_reg.coef_[0]]\n",
    "polyp =[[polyreg.intercept_, lin_reg.coef_[0]]]\n",
    "print (\"The linear regression intercepts are:\\n\",(p))\n",
    "print (\"The polynomial regression intercepts are:\\n\",(polyp))\n"
   ]
  },
  {
   "cell_type": "markdown",
   "metadata": {},
   "source": [
    "#### Plot and Visualise Model Outputs\n",
    "<a id='plot_id'></a>"
   ]
  },
  {
   "cell_type": "code",
   "execution_count": 12,
   "metadata": {},
   "outputs": [
    {
     "data": {
      "text/plain": [
       "Text(0.5, 0.98, 'Power Production')"
      ]
     },
     "execution_count": 12,
     "metadata": {},
     "output_type": "execute_result"
    },
    {
     "data": {
      "image/png": "[encoded data removed]",
      "text/plain": [
       "<Figure size 432x288 with 2 Axes>"
      ]
     },
     "metadata": {
      "needs_background": "light"
     },
     "output_type": "display_data"
    }
   ],
   "source": [
    "#Visualising the linear regression model results\n",
    "plt.subplot(1,2,1)\n",
    "plt.scatter(X,y,color='seagreen')\n",
    "plt.plot(X,lin_reg.predict(X),color='darkgrey')\n",
    "plt.title('Linear Regression')\n",
    "plt.xlabel('Power')\n",
    "plt.ylabel('Speed')\n",
    "\n",
    "#Visualising the polynomial regression model results\n",
    "plt.subplot(1,2,2)#2 is passed in so that this subplot will appear as the second one\n",
    "X_grid=numpy.arange(min(X),max(X),0.1)\n",
    "X_grid=X_grid.reshape((len(X_grid),1))\n",
    "plt.scatter(X,y,color='seagreen')\n",
    "plt.plot(X,polyreg.predict(poly_reg.fit_transform(X)),color='darkgrey')\n",
    "plt.title('Polynomial Regression')\n",
    "plt.xlabel('Power')\n",
    "plt.ylabel('Speed')\n",
    "plt.tight_layout()\n",
    "plt.subplots_adjust(top=0.88)\n",
    "plt.suptitle('Power Production')"
   ]
  },
  {
   "cell_type": "markdown",
   "metadata": {},
   "source": [
    "#### Predict\n",
    "<a id='predict_id'></a>\n",
    "After the model is created, view predictions by using the predict() function.<br>"
   ]
  },
  {
   "cell_type": "code",
   "execution_count": 27,
   "metadata": {},
   "outputs": [
    {
     "name": "stdout",
     "output_type": "stream",
     "text": [
      "Predict the result with linear regression model\n",
      " When speed is 8.5 the power produced is: [27.03150572]\n",
      "Predict the result with polynomial regression model\n",
      " When speed is 8.5 the power produced is: [14.64407223]\n"
     ]
    }
   ],
   "source": [
    "print (\"Predict the result with linear regression model\\n When speed is 8.5 the power produced is:\",\n",
    "       (lin_reg.predict( ([ [8.5] ]) )))\n",
    "print (\"Predict the result with polynomial regression model\\n When speed is 8.5 the power produced is:\",\n",
    "       ( polyreg.predict( poly_reg.fit_transform(([ [8.5] ]) )) ))"
   ]
  },
  {
   "cell_type": "markdown",
   "metadata": {},
   "source": [
    "#### Saving the model: Serialisation and Deserialisation using sklearn’s joblib\n",
    "<a id='pickle_id'></a>"
   ]
  },
  {
   "cell_type": "markdown",
   "metadata": {},
   "source": [
    "Serialisation is the process of translating the model state into a format that can be stored or transmitted and reconstructed later.\n",
    "\n",
    "Persist is a similar term in this context which refers to having it available for future use without having to retrain.\n",
    "Deserialization refers to loading the model back into the workspace when it is required."
   ]
  },
  {
   "cell_type": "code",
   "execution_count": 14,
   "metadata": {},
   "outputs": [],
   "source": [
    "import joblib\n",
    "#serialisation of the linear regression model\n",
    "joblib.dump(lin_reg, 'model1.pkl')\n",
    "#serialisation of the polynomial regression model\n",
    "joblib.dump(polyreg, 'model2.pkl')\n",
    "#deserialisation x2\n",
    "model = joblib.load('model1.pkl')\n",
    "polymodel = joblib.load('model2.pkl')\n",
    "#You’re now ready to use Flask to serve persisted model.\n",
    "#first,check that the pickling worked"
   ]
  },
  {
   "cell_type": "code",
   "execution_count": 26,
   "metadata": {},
   "outputs": [
    {
     "name": "stdout",
     "output_type": "stream",
     "text": [
      "Predict the result with persisted linear regression model\n",
      " When speed is 8.5 the power produced is: [27.03150572]\n"
     ]
    }
   ],
   "source": [
    "print (\"Predict the result with persisted linear regression model\\n When speed is 8.5 the power produced is:\",\n",
    "(model.predict( ([ [8.5] ]) )))"
   ]
  },
  {
   "cell_type": "code",
   "execution_count": 28,
   "metadata": {},
   "outputs": [
    {
     "name": "stdout",
     "output_type": "stream",
     "text": [
      "Predict the result with persisted polynomial model\n",
      " When speed is 8.5 the power produced is: [14.64407223]\n"
     ]
    }
   ],
   "source": [
    "print (\"Predict the result with persisted polynomial model\\n When speed is 8.5 the power produced is:\",\n",
    "( polymodel.predict( poly_reg.fit_transform(([ [8.5] ]) )) ))"
   ]
  },
  {
   "cell_type": "code",
   "execution_count": null,
   "metadata": {},
   "outputs": [],
   "source": [
    "Next Steps:\n",
    "Creating an API from a machine learning model using Flask<br>\n",
    "For serving your model with Flask, you will do the following two things:\n",
    "\n",
    "1. Load the already persisted model into memory when the application starts,\n",
    "2. Create an API endpoint that takes input variables, transforms them into the appropriate format, and returns predictions."
   ]
  },
  {
   "cell_type": "code",
   "execution_count": null,
   "metadata": {},
   "outputs": [],
   "source": []
  },
  {
   "cell_type": "markdown",
   "metadata": {},
   "source": [
    "## References <a id='references_id'></a>\n",
    "\n",
    "A Clifton et al (2013) Using machine learning to predict wind turbine power output [Online] Available: https://iopscience.iop.org/article/10.1088/1748-9326/8/2/024009. [Accessed: December 12, 2020].<br>\n",
    "\n",
    "Ayush Pant (2019)Introduction to Linear Regression and Polynomial Regression [Online] Available: https://towardsdatascience.com/introduction-to-linear-regression-and-polynomial-regression-f8adc96f31cb. [Accessed: December 12, 2020].\n",
    "\n",
    "Brownlee,Jason (2020). How to Use Polynomial Feature Transforms for Machine Learning [Online] Available: https://machinelearningmastery.com/polynomial-features-transforms-for-machine-learning/ [Accessed: December 17, 2020]\n",
    "\n",
    "J.M.K.C. Donev et al. (2020). Energy Education - Wind power [Online]. Available: https://energyeducation.ca/encyclopedia/Wind_power. [Accessed: December 12, 2020].\n",
    "\n",
    "Machine Learning Tutorial Python - 7: Training and Testing Data [Online]/ Available: https://www.youtube.com/watch?v=fwY9Qv96DJY. [Accessed: December 12, 2020].\n",
    "\n",
    "MCLOUGHLIN, IAN 2020. Machine Learning and Statistics - Video Lectures [Online] Available from: https://learnonline.gmit.ie/\n",
    "\n",
    "Polynomial regression using scikit-learn [Online] Available: https://iq.opengenus.org/polynomial-regression-using-scikit-learn/ . [Accessed: December 12, 2020].\n",
    "\n",
    "Python Pickle Tutorial datacamp.com https://www.datacamp.com/community/tutorials/pickle-python-tutorial [Accessed: December 17, 2020]\n",
    "\n",
    "Sayak Paul (2018) Turning Machine Learning Models into APIs in Python https://www.datacamp.com/community/tutorials/machine-learning-models-api-python [Accessed: December 15, 2020]"
   ]
  },
  {
   "cell_type": "code",
   "execution_count": null,
   "metadata": {},
   "outputs": [],
   "source": [
    "#### End."
   ]
  }
 ],
 "metadata": {
  "kernelspec": {
   "display_name": "Python 3",
   "language": "python",
   "name": "python3"
  },
  "language_info": {
   "codemirror_mode": {
    "name": "ipython",
    "version": 3
   },
   "file_extension": ".py",
   "mimetype": "text/x-python",
   "name": "python",
   "nbconvert_exporter": "python",
   "pygments_lexer": "ipython3",
   "version": "3.8.5"
  }
 },
 "nbformat": 4,
 "nbformat_minor": 4
}

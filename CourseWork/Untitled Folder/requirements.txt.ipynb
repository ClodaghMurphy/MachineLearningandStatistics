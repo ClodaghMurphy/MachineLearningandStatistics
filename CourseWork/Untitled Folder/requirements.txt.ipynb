{
 "cells": [
  {
   "cell_type": "code",
   "execution_count": null,
   "metadata": {},
   "outputs": [],
   "source": [
    "click==7.1.2\n",
    "Flask==1.1.2\n",
    "itsdangerous==1.1.0\n",
    "Jinja2==2.11.2\n",
    "MarkupSafe==1.1.1\n",
    "numpy==1.19.0\n",
    "Werkzeug==1.0.1"
   ]
  }
 ],
 "metadata": {
  "kernelspec": {
   "display_name": "Python 3",
   "language": "python",
   "name": "python3"
  },
  "language_info": {
   "codemirror_mode": {
    "name": "ipython",
    "version": 3
   },
   "file_extension": ".py",
   "mimetype": "text/x-python",
   "name": "python",
   "nbconvert_exporter": "python",
   "pygments_lexer": "ipython3",
   "version": "3.8.3"
  }
 },
 "nbformat": 4,
 "nbformat_minor": 4
}

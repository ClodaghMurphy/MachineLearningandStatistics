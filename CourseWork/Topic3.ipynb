{
 "cells": [
  {
   "cell_type": "markdown",
   "metadata": {},
   "source": [
    "jupyter-teaching-notebooks Ian McLoughlin Teaching Resource"
   ]
  },
  {
   "cell_type": "code",
   "execution_count": 1,
   "metadata": {},
   "outputs": [],
   "source": [
    "### About functions"
   ]
  },
  {
   "cell_type": "code",
   "execution_count": 9,
   "metadata": {},
   "outputs": [],
   "source": [
    "def square(n):\n",
    "    ans = n * n\n",
    "    return ans"
   ]
  },
  {
   "cell_type": "code",
   "execution_count": 10,
   "metadata": {},
   "outputs": [
    {
     "data": {
      "text/plain": [
       "16"
      ]
     },
     "execution_count": 10,
     "metadata": {},
     "output_type": "execute_result"
    }
   ],
   "source": [
    "square(4)"
   ]
  },
  {
   "cell_type": "code",
   "execution_count": 11,
   "metadata": {},
   "outputs": [],
   "source": [
    "def power(n, m):\n",
    "    ans = 1\n",
    "    for i in range(m):\n",
    "        ans = ans * n\n",
    "    return ans"
   ]
  },
  {
   "cell_type": "code",
   "execution_count": 12,
   "metadata": {},
   "outputs": [
    {
     "data": {
      "text/plain": [
       "16"
      ]
     },
     "execution_count": 12,
     "metadata": {},
     "output_type": "execute_result"
    }
   ],
   "source": [
    "power(4, 2)"
   ]
  },
  {
   "cell_type": "code",
   "execution_count": 13,
   "metadata": {},
   "outputs": [],
   "source": [
    "def square(n):\n",
    "    return power(n, 2)"
   ]
  },
  {
   "cell_type": "code",
   "execution_count": 14,
   "metadata": {},
   "outputs": [
    {
     "data": {
      "text/plain": [
       "16"
      ]
     },
     "execution_count": 14,
     "metadata": {},
     "output_type": "execute_result"
    }
   ],
   "source": [
    "square(4)"
   ]
  },
  {
   "cell_type": "markdown",
   "metadata": {},
   "source": [
    "### Map"
   ]
  },
  {
   "cell_type": "markdown",
   "metadata": {},
   "source": [
    "Map takes in a list and a function.  The function is applied to all the elements in the list.  the list containing all the elements in an order is returned."
   ]
  },
  {
   "cell_type": "code",
   "execution_count": 15,
   "metadata": {},
   "outputs": [],
   "source": [
    "# Create a list of numbers.\n",
    "numbers = list(range(10))"
   ]
  },
  {
   "cell_type": "code",
   "execution_count": 16,
   "metadata": {},
   "outputs": [
    {
     "data": {
      "text/plain": [
       "[0, 1, 2, 3, 4, 5, 6, 7, 8, 9]"
      ]
     },
     "execution_count": 16,
     "metadata": {},
     "output_type": "execute_result"
    }
   ],
   "source": [
    "numbers"
   ]
  },
  {
   "cell_type": "code",
   "execution_count": 17,
   "metadata": {},
   "outputs": [],
   "source": [
    "# Apply f to all numbers.\n",
    "def mapall(f, l):\n",
    "    return [f(i) for i in l]"
   ]
  },
  {
   "cell_type": "code",
   "execution_count": 18,
   "metadata": {},
   "outputs": [
    {
     "data": {
      "text/plain": [
       "[0, 1, 4, 9, 16, 25, 36, 49, 64, 81]"
      ]
     },
     "execution_count": 18,
     "metadata": {},
     "output_type": "execute_result"
    }
   ],
   "source": [
    "# Apply square function (from above) to numbers list.\n",
    "mapall(square, numbers)"
   ]
  },
  {
   "cell_type": "code",
   "execution_count": 19,
   "metadata": {},
   "outputs": [
    {
     "data": {
      "text/plain": [
       "['0', '1', '2', '3', '4', '5', '6', '7', '8', '9']"
      ]
     },
     "execution_count": 19,
     "metadata": {},
     "output_type": "execute_result"
    }
   ],
   "source": [
    "# Apply str() function to numbers.\n",
    "mapall(str, numbers)"
   ]
  },
  {
   "cell_type": "code",
   "execution_count": 20,
   "metadata": {},
   "outputs": [
    {
     "data": {
      "text/plain": [
       "[-5, -4, -3, -2, -1, 0, 1, 2, 3, 4]"
      ]
     },
     "execution_count": 20,
     "metadata": {},
     "output_type": "execute_result"
    }
   ],
   "source": [
    "mapall(lambda x: x - 5, numbers)"
   ]
  },
  {
   "cell_type": "markdown",
   "metadata": {},
   "source": [
    "anonymous functions are disposable you only need it once"
   ]
  },
  {
   "cell_type": "markdown",
   "metadata": {},
   "source": [
    "the concept of \"embarrassingly parallel\"!"
   ]
  },
  {
   "cell_type": "markdown",
   "metadata": {},
   "source": [
    "### Reduce\n"
   ]
  },
  {
   "cell_type": "markdown",
   "metadata": {},
   "source": [
    "the idea behind reduce - take a list and combining them in a particular way."
   ]
  },
  {
   "cell_type": "code",
   "execution_count": 21,
   "metadata": {},
   "outputs": [],
   "source": [
    "# Take a list and reduce it to a number.\n",
    "# Output will be ...f(f(f(l[0], l[1]), l[2]), l[3]), ...\n",
    "def reduceall(f, l):\n",
    "    #the arguments are a function and a list (f and l)\n",
    "    #the idea is to combine the elements of l using f!\n",
    "    # Start with the first element as answer.\n",
    "    ans = l[0]\n",
    "    # Loop through the other elements.\n",
    "    for x in l[1:]:\n",
    "        # Apply f to current answer and next list element.\n",
    "        ans = f(ans, x)\n",
    "    return ans"
   ]
  },
  {
   "cell_type": "code",
   "execution_count": null,
   "metadata": {},
   "outputs": [],
   "source": []
  },
  {
   "cell_type": "code",
   "execution_count": 22,
   "metadata": {},
   "outputs": [],
   "source": [
    "# Imperative programming languages...it is more common these days e.g. java, python,C,F, D, perl, go, rust\n",
    "# they all think it terms of there are your variable, there is the data and these are statements to manipulate them\n",
    "\n",
    "#languages with a history in ML, statistics, data\n",
    "#In that area it is historically based in functional language.\n",
    "#Ian reckons in the real world there is no distinction between data and functions - they are the same thing\n",
    "def plus(x, y):\n",
    "    \"\"\"Replacing an operator with a function.\"\"\"\n",
    "    return x + y"
   ]
  },
  {
   "cell_type": "code",
   "execution_count": 23,
   "metadata": {},
   "outputs": [
    {
     "data": {
      "text/plain": [
       "[0, 1, 2, 3, 4, 5, 6, 7, 8, 9]"
      ]
     },
     "execution_count": 23,
     "metadata": {},
     "output_type": "execute_result"
    }
   ],
   "source": [
    "numbers"
   ]
  },
  {
   "cell_type": "code",
   "execution_count": 24,
   "metadata": {},
   "outputs": [
    {
     "data": {
      "text/plain": [
       "45"
      ]
     },
     "execution_count": 24,
     "metadata": {},
     "output_type": "execute_result"
    }
   ],
   "source": [
    "# Add all elements of numbers.\n",
    "reduceall(plus, numbers)\n",
    "#the first two elements are added together 0+1=1, that is added to next element 1+2=3 and on and on\n",
    "#1+2+3+4+5+6+7+8+9=45\n",
    "#then the list is reduced to a single value\n",
    "#the plus function is not being called, we are calling reduce all and sending it the function plus as data!\n",
    "#there aren't round brackets after plus - that is the difference"
   ]
  },
  {
   "cell_type": "code",
   "execution_count": 25,
   "metadata": {},
   "outputs": [
    {
     "data": {
      "text/plain": [
       "0.0"
      ]
     },
     "execution_count": 25,
     "metadata": {},
     "output_type": "execute_result"
    }
   ],
   "source": [
    "reduceall(plus, mapall(lambda x: x - (sum(numbers) / len(numbers)), numbers))\n",
    "#if map is used here it maps the list of number 0-9 to the lambda function\n",
    "#each element x : subtract the sum of numbers from the len of the numbers from x\n",
    "#the average of the list when added together is 0"
   ]
  },
  {
   "cell_type": "code",
   "execution_count": 26,
   "metadata": {},
   "outputs": [
    {
     "data": {
      "text/plain": [
       "[0, 1, 2, 3, 4, 5, 6, 7, 8, 9]"
      ]
     },
     "execution_count": 26,
     "metadata": {},
     "output_type": "execute_result"
    }
   ],
   "source": [
    "numbers"
   ]
  },
  {
   "cell_type": "markdown",
   "metadata": {},
   "source": [
    "There may not be as clean a distinction between the ideas of DATA and FUNCTIONS - is what Ian is trying to get across here. \n",
    "\n",
    "The data and the instructions used to manipulate it.\n",
    " \n",
    " The plus operator is really like a function. That is what he did above with def plus.\n",
    " def plus(x, y):\n",
    "    \"\"\"Replacing an operator with a function.\"\"\"\n",
    "    return x + y\n",
    "\n",
    "He says + is like a unit of independent code.\n",
    "Could you send plus (+) into the reduceall function?\n",
    "No you can't see below.\n",
    "It's interesting but a bit over my head.\n",
    "What is the difference between a function and an operator?\n",
    "\n",
    "The built in sum function not designed to be passed in as an argument in this context either.\n",
    "It expects a list not two elements, so a syntax error received below.\n",
    "\n",
    "Other programming languages are designed to be passed around.  they make no distinction between functions and data.\n",
    "They are functional programming languages! \n",
    "Everything is a function. (but in practise they also have the idea of lists) \n",
    "\n",
    "Operators too can be passed in those languages.  \n",
    "where functions are first class objects but really everything is \"fair game\" to be manipulated as data, treated the same way.\n"
   ]
  },
  {
   "cell_type": "code",
   "execution_count": 28,
   "metadata": {},
   "outputs": [],
   "source": [
    "# A functional programming language would let you do this:\n",
    "# Uncomment for an error:\n",
    "#reduceall(+, numbers)"
   ]
  },
  {
   "cell_type": "code",
   "execution_count": null,
   "metadata": {},
   "outputs": [],
   "source": [
    "# Or this...\n",
    "# Uncomment for an error:\n",
    "# reduceall(sum, numbers)"
   ]
  },
  {
   "cell_type": "code",
   "execution_count": null,
   "metadata": {},
   "outputs": [],
   "source": [
    "### Data as functions"
   ]
  },
  {
   "cell_type": "code",
   "execution_count": null,
   "metadata": {},
   "outputs": [],
   "source": [
    "def two():\n",
    "    return 2"
   ]
  },
  {
   "cell_type": "markdown",
   "metadata": {},
   "source": [
    "Not only can you treat functions as data, you can also treat data as if it is a function.  Define a function called 2 that just returns two. It acts like it is data. As if he has written the numberal 2.\n",
    "Not efficient code (lots of overhead)"
   ]
  },
  {
   "cell_type": "code",
   "execution_count": null,
   "metadata": {},
   "outputs": [],
   "source": [
    "two() + two()"
   ]
  },
  {
   "cell_type": "code",
   "execution_count": null,
   "metadata": {},
   "outputs": [],
   "source": [
    "def four():\n",
    "    return two() + two()"
   ]
  },
  {
   "cell_type": "code",
   "execution_count": null,
   "metadata": {},
   "outputs": [],
   "source": [
    "four()"
   ]
  },
  {
   "cell_type": "code",
   "execution_count": null,
   "metadata": {},
   "outputs": [],
   "source": [
    "4 + four()"
   ]
  },
  {
   "cell_type": "code",
   "execution_count": null,
   "metadata": {},
   "outputs": [],
   "source": [
    "def four_the_func():\n",
    "    return four"
   ]
  },
  {
   "cell_type": "code",
   "execution_count": null,
   "metadata": {},
   "outputs": [],
   "source": [
    "four_the_func()"
   ]
  },
  {
   "cell_type": "code",
   "execution_count": null,
   "metadata": {},
   "outputs": [],
   "source": [
    "# Uncomment for an error:\n",
    "# four_the_func() + four_the_func()"
   ]
  },
  {
   "cell_type": "code",
   "execution_count": null,
   "metadata": {},
   "outputs": [],
   "source": []
  },
  {
   "cell_type": "markdown",
   "metadata": {},
   "source": [
    "## Two views of computing"
   ]
  },
  {
   "cell_type": "markdown",
   "metadata": {},
   "source": [
    "Turing's view\n",
    "\n",
    "Can a computer \"do\" mathematics?  No.\n",
    "\n",
    "He was talking about humans at the time - 1930s.\n",
    "\n",
    "State tables precursor to programmes using symbols. Moving from one state to another."
   ]
  },
  {
   "cell_type": "markdown",
   "metadata": {},
   "source": [
    "Church's view (or John McCarthy)\n",
    "\n",
    "He proved the same hypothesis.\n",
    "\n",
    "The lambda as anonymous symbol was used orginally by him.\n",
    "Lambda calculus."
   ]
  },
  {
   "cell_type": "markdown",
   "metadata": {},
   "source": [
    "Everything that you can do on a computer is encapsulated in their ideas. \n",
    "\n",
    "There is no distinction between data and functions - says  Ian."
   ]
  },
  {
   "cell_type": "code",
   "execution_count": 4,
   "metadata": {},
   "outputs": [],
   "source": [
    "import sys"
   ]
  },
  {
   "cell_type": "code",
   "execution_count": 6,
   "metadata": {},
   "outputs": [
    {
     "name": "stdout",
     "output_type": "stream",
     "text": [
      "01001101 01011010 10010000 00000000 "
     ]
    }
   ],
   "source": [
    "#to open microsoft word with python 9by right clicking on the app, file location twice)\n",
    "#outputs the first four bytes of this huge executable file\n",
    "with open(r\"C:\\Program Files (x86)\\Microsoft Office\\root\\Office16\\WINWORD.EXE\", \"rb\") as f:\n",
    "    for i in range(4):\n",
    "        byte = f.read(1)\n",
    "        ibyte = int.from_bytes(byte, byteorder=sys.byteorder)\n",
    "        print(f\"{ibyte:>08b}\", end=\" \")"
   ]
  },
  {
   "cell_type": "code",
   "execution_count": null,
   "metadata": {},
   "outputs": [],
   "source": [
    "##these instructions to display first 4 bytes of a word doc\n",
    "with open(r\"C:\\Users\\Ian\\Desktop\\Hello.docx\", \"rb\") as f:\n",
    "    for i in range(4):\n",
    "        byte = f.read(1)\n",
    "        ibyte = int.from_bytes(byte, byteorder=sys.byteorder)\n",
    "        print(f\"{ibyte:>08b}\", end=\" \")"
   ]
  },
  {
   "cell_type": "markdown",
   "metadata": {},
   "source": [
    "The point is this;\n",
    "\n",
    "word docs containing data require executable files to make sense of them.\n",
    "\n",
    "But on a granular level they are not that different."
   ]
  }
 ],
 "metadata": {
  "kernelspec": {
   "display_name": "Python 3",
   "language": "python",
   "name": "python3"
  },
  "language_info": {
   "codemirror_mode": {
    "name": "ipython",
    "version": 3
   },
   "file_extension": ".py",
   "mimetype": "text/x-python",
   "name": "python",
   "nbconvert_exporter": "python",
   "pygments_lexer": "ipython3",
   "version": "3.8.3"
  }
 },
 "nbformat": 4,
 "nbformat_minor": 4
}

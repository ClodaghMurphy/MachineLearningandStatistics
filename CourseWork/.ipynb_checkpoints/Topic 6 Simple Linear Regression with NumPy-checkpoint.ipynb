{
 "cells": [
  {
   "cell_type": "markdown",
   "metadata": {},
   "source": [
    "\n",
    "In school, students are taught to draw lines like the following.\n",
    "\n",
    "$$ y = 2 x + 1$$\n",
    "They're taught to pick two values for $x$ and calculate the corresponding values for $y$ using the equation. Then they draw a set of axes, plot the points, and then draw a line extending through the two dots on their axes."
   ]
  },
  {
   "cell_type": "code",
   "execution_count": null,
   "metadata": {},
   "outputs": [],
   "source": [
    "# Import matplotlib.\n",
    "import matplotlib.pyplot as plt"
   ]
  },
  {
   "cell_type": "code",
   "execution_count": null,
   "metadata": {},
   "outputs": [],
   "source": [
    "# Draw some axes.\n",
    "plt.plot([-1, 10], [0, 0], 'k-')\n",
    "plt.plot([0, 0], [-1, 10], 'k-')\n",
    "\n",
    "# Plot the red, blue and green lines.\n",
    "plt.plot([1, 1], [-1, 3], 'b:')\n",
    "plt.plot([-1, 1], [3, 3], 'r:')\n",
    "\n",
    "# Plot the two points (1,3) and (2,5).\n",
    "plt.plot([1, 2], [3, 5], 'ko')\n",
    "# Join them with an (extending) green lines.\n",
    "plt.plot([-1, 10], [-1, 21], 'g-')\n",
    "\n",
    "# Set some reasonable plot limits.\n",
    "plt.xlim([-1, 10])\n",
    "plt.ylim([-1, 10])\n",
    "\n",
    "# Show the plot.\n",
    "plt.show()"
   ]
  },
  {
   "cell_type": "code",
   "execution_count": null,
   "metadata": {},
   "outputs": [],
   "source": [
    "Simple linear regression is about the opposite problem - what if you have some points and are looking for the equation? It's easy when the points are perfectly on a line already, but usually real-world data has some noise. The data might still look roughly linear, but aren't exactly so."
   ]
  },
  {
   "cell_type": "code",
   "execution_count": null,
   "metadata": {},
   "outputs": [],
   "source": [
    "Example (contrived and simulated)"
   ]
  },
  {
   "cell_type": "markdown",
   "metadata": {},
   "source": [
    "\n",
    "Scenario\n",
    "Suppose you are trying to weigh your suitcase to avoid an airline's extra charges. You don't have a weighing scales, but you do have a spring and some gym-style weights of masses 7KG, 14KG and 21KG. You attach the spring to the wall hook, and mark where the bottom of it hangs. You then hang the 7KG weight on the end and mark where the bottom of the spring is. You repeat this with the 14KG weight and the 21KG weight. Finally, you place your case hanging on the spring, and the spring hangs down halfway between the 7KG mark and the 14KG mark. Is your case over the 10KG limit set by the airline?\n",
    "\n",
    "Hypothesis\n",
    "When you look at the marks on the wall, it seems that the 0KG, 7KG, 14KG and 21KG marks are evenly spaced. You wonder if that means your case weighs 10.5KG. That is, you wonder if there is a linear relationship between the distance the spring's hook is from its resting position, and the mass on the end of it.\n",
    "\n",
    "Experiment\n",
    "You decide to experiment. You buy some new weights - a 1KG, a 2KG, a 3Kg, all the way up to 20KG. You place them each in turn on the spring and measure the distance the spring moves from the resting position. You tabulate the data and plot them.\n",
    "\n",
    "Analysis\n",
    "Here we'll import the Python libraries we need for or investigations below"
   ]
  },
  {
   "cell_type": "code",
   "execution_count": null,
   "metadata": {},
   "outputs": [],
   "source": [
    "\n",
    "# Make matplotlib show interactive plots in the notebook.\n",
    "%matplotlib inline\n"
   ]
  },
  {
   "cell_type": "code",
   "execution_count": null,
   "metadata": {},
   "outputs": [],
   "source": [
    "# numpy efficiently deals with numerical multi-dimensional arrays.\n",
    "import numpy as np\n",
    "\n",
    "# matplotlib is a plotting library, and pyplot is its easy-to-use module.\n",
    "import matplotlib.pyplot as plt\n",
    "\n",
    "# This just sets the default plot size to be bigger.\n",
    "plt.rcParams['figure.figsize'] = (8, 6)"
   ]
  },
  {
   "cell_type": "code",
   "execution_count": null,
   "metadata": {},
   "outputs": [],
   "source": [
    "Ignore the next couple of lines where I fake up some data. I'll use the fact that I faked the data to explain some results later. Just pretend that w is an array containing the weight values and d are the corresponding distance measurements."
   ]
  },
  {
   "cell_type": "code",
   "execution_count": null,
   "metadata": {},
   "outputs": [],
   "source": [
    "w = np.arange(0.0, 21.0, 1.0)\n",
    "d = 5.0 * w + 10.0 + np.random.normal(0.0, 5.0, w.size)"
   ]
  },
  {
   "cell_type": "code",
   "execution_count": null,
   "metadata": {},
   "outputs": [],
   "source": [
    "\n",
    "# Let's have a look at w.\n",
    "w"
   ]
  },
  {
   "cell_type": "code",
   "execution_count": null,
   "metadata": {},
   "outputs": [],
   "source": [
    "# Let's have a look at d.\n",
    "d"
   ]
  },
  {
   "cell_type": "code",
   "execution_count": null,
   "metadata": {},
   "outputs": [],
   "source": [
    "# Look at the data from the experiment\n",
    "# Create the plot.\n",
    "\n",
    "plt.plot(w, d, 'k.')\n",
    "\n",
    "# Set some properties for the plot.\n",
    "plt.xlabel('Weight (KG)')\n",
    "plt.ylabel('Distance (CM)')\n",
    "\n",
    "# Show the plot.\n",
    "plt.show()"
   ]
  },
  {
   "cell_type": "code",
   "execution_count": null,
   "metadata": {},
   "outputs": [],
   "source": [
    "\n",
    "Model\n",
    "It looks like the data might indeed be linear. The points don't exactly fit on a straight line, but they are not far off it. We might put that down to some other factors, such as the air density, or errors, such as in our tape measure. Then we can go ahead and see what would be the best line to fit the data.\n",
    "\n",
    "Straight lines\n",
    "All straight lines can be expressed in the form $y = mx + c$. The number $m$ is the slope of the line. The slope is how much $y$ increases by when $x$ is increased by 1.0. The number $c$ is the y-intercept of the line. It's the value of $y$ when $x$ is 0.\n",
    "\n",
    "Fitting the model\n",
    "To fit a straight line to the data, we just must pick values for $m$ and $c$. These are called the parameters of the model, and we want to pick the best values possible for the parameters. That is, the best parameter values given the data observed. Below we show various lines plotted over the data, with different values for $m$ and $c$."
   ]
  },
  {
   "cell_type": "code",
   "execution_count": null,
   "metadata": {},
   "outputs": [],
   "source": [
    "# Plot w versus d with black dots.\n",
    "plt.plot(w, d, 'k.', label=\"Data\")\n",
    "\n",
    "# Overlay some lines on the plot.\n",
    "x = np.arange(0.0, 21.0, 1.0)\n",
    "plt.plot(x, 5.0 * x + 10.0, 'r-', label=r\"$5x + 10$\")\n",
    "plt.plot(x, 6.0 * x +  5.0, 'g-', label=r\"$6x +  5$\")\n",
    "plt.plot(x, 5.0 * x + 15.0, 'b-', label=r\"$5x + 15$\")\n",
    "\n",
    "# Add a legend.\n",
    "plt.legend()\n",
    "\n",
    "# Add axis labels.\n",
    "plt.xlabel('Weight (KG)')\n",
    "plt.ylabel('Distance (CM)')\n",
    "\n",
    "# Show the plot.\n",
    "plt.show()"
   ]
  },
  {
   "cell_type": "code",
   "execution_count": null,
   "metadata": {},
   "outputs": [],
   "source": [
    "Calculating the cost\n",
    "You can see that each of these lines roughly fits the data. Which one is best, and is there another line that is better than all three? Is there a \"best\" line?\n",
    "\n",
    "It depends how you define the word best. Luckily, everyone seems to have settled on what the best means. The best line is the one that minimises the following calculated value.\n",
    "\n",
    "$$ \\sum_i (y_i - mx_i - c)^2 $$\n",
    "Here $(x_i, y_i)$ is the $i^{th}$ point in the data set and $\\sum_i$ means to sum over all points. The values of $m$ and $c$ are to be determined. We usually denote the above as $Cost(m, c)$.\n",
    "\n",
    "Where does the above calculation come from? It's easy to explain the part in the brackets $(y_i - mx_i - c)$. The corresponding value to $x_i$ in the dataset is $y_i$. These are the measured values. The value $m x_i + c$ is what the model says $y_i$ should have been. The difference between the value that was observed ($y_i$) and the value that the model gives ($m x_i + c$), is $y_i - mx_i - c$.\n",
    "\n",
    "Why square that value? Well note that the value could be positive or negative, and you sum over all of these values. If we allow the values to be positive or negative, then the positive could cancel the negatives. So, the natural thing to do is to take the absolute value $\\mid y_i - m x_i - c \\mid$. Well it turns out that absolute values are a pain to deal with, and instead it was decided to just square the quantity instead, as the square of a number is always positive. There are pros and cons to using the square instead of the absolute value, but the square is used. This is usually called least squares fitting."
   ]
  },
  {
   "cell_type": "code",
   "execution_count": null,
   "metadata": {},
   "outputs": [],
   "source": [
    "# Calculate the cost of the lines above for the data above.\n",
    "cost = lambda m,c: np.sum([(d[i] - m * w[i] - c)**2 for i in range(w.size)])\n",
    "\n",
    "print(\"Cost with m = %5.2f and c = %5.2f: %8.2f\" % (5.0, 10.0, cost(5.0, 10.0)))\n",
    "print(\"Cost with m = %5.2f and c = %5.2f: %8.2f\" % (6.0,  5.0, cost(6.0,  5.0)))\n",
    "print(\"Cost with m = %5.2f and c = %5.2f: %8.2f\" % (5.0, 15.0, cost(5.0, 15.0)))"
   ]
  },
  {
   "cell_type": "code",
   "execution_count": null,
   "metadata": {},
   "outputs": [],
   "source": [
    "Cost with m =  5.00 and c = 10.00:   364.91\n",
    "Cost with m =  6.00 and c =  5.00:  1911.26\n",
    "Cost with m =  5.00 and c = 15.00:   784.03\n",
    "Minimising the cost\n",
    "We want to calculate values of $m$ and $c$ that give the lowest value for the cost value above. For our given data set we can plot the cost value/function. Recall that the cost is:\n",
    "\n",
    "$$ Cost(m, c) = \\sum_i (y_i - mx_i - c)^2 $$\n",
    "This is a function of two variables, $m$ and $c$, so a plot of it is three dimensional. See the Advanced section below for the plot.\n",
    "\n",
    "In the case of fitting a two-dimensional line to a few data points, we can easily calculate exactly the best values of $m$ and $c$. Some of the details are discussed in the Advanced section, as they involve calculus, but the resulting code is straight-forward. We first calculate the mean (average) values of our $x$ values and that of our $y$ values. Then we subtract the mean of $x$ from each of the $x$ values, and the mean of $y$ from each of the $y$ values. Then we take the dot product of the new $x$ values and the new $y$ values and divide it by the dot product of the new $x$ values with themselves. That gives us $m$, and we use $m$ to calculate $c$.\n",
    "\n",
    "Remember that in our dataset $x$ is called $w$ (for weight) and $y$ is called $d$ (for distance). We calculate $m$ and $c$ below."
   ]
  },
  {
   "cell_type": "code",
   "execution_count": null,
   "metadata": {},
   "outputs": [],
   "source": [
    "# Calculate the best values for m and c.\n",
    "\n",
    "# First calculate the means (a.k.a. averages) of w and d.\n",
    "w_avg = np.mean(w)\n",
    "d_avg = np.mean(d)\n",
    "\n",
    "# Subtract means from w and d.\n",
    "w_zero = w - w_avg\n",
    "d_zero = d - d_avg\n",
    "\n",
    "# The best m is found by the following calculation.\n",
    "m = np.sum(w_zero * d_zero) / np.sum(w_zero * w_zero)\n",
    "# Use m from above to calculate the best c.\n",
    "c = d_avg - m * w_avg\n",
    "\n",
    "print(\"m is %8.6f and c is %6.6f.\" % (m, c))"
   ]
  },
  {
   "cell_type": "code",
   "execution_count": null,
   "metadata": {},
   "outputs": [],
   "source": [
    "#Note that numpy has a function that will perform this calculation for us, called polyfit. It can be used to fit lines in many dimensions.\n",
    "np.polyfit(w, d, 1)"
   ]
  },
  {
   "cell_type": "code",
   "execution_count": null,
   "metadata": {},
   "outputs": [],
   "source": [
    "Best fit line¶\n",
    "So, the best values for $m$ and $c$ given our data and using least squares fitting are about $4.95$ for $m$ and about $11.13$ for $c$. We plot this line on top of the data below."
   ]
  },
  {
   "cell_type": "code",
   "execution_count": null,
   "metadata": {},
   "outputs": [],
   "source": [
    "# Plot the best fit line.\n",
    "plt.plot(w, d, 'k.', label='Original data')\n",
    "plt.plot(w, m * w + c, 'b-', label='Best fit line')\n",
    "\n",
    "# Add axis labels and a legend.\n",
    "plt.xlabel('Weight (KG)')\n",
    "plt.ylabel('Distance (CM)')\n",
    "plt.legend()\n",
    "\n",
    "# Show the plot.\n",
    "plt.show()"
   ]
  },
  {
   "cell_type": "code",
   "execution_count": null,
   "metadata": {},
   "outputs": [],
   "source": [
    "Note that the $Cost$ of the best $m$ and best $c$ is not zero in this case."
   ]
  },
  {
   "cell_type": "code",
   "execution_count": null,
   "metadata": {},
   "outputs": [],
   "source": [
    "print(\"Cost with m = %5.2f and c = %5.2f: %8.2f\" % (m, c, cost(m, c)))\n"
   ]
  },
  {
   "cell_type": "code",
   "execution_count": 1,
   "metadata": {},
   "outputs": [
    {
     "ename": "SyntaxError",
     "evalue": "invalid character in identifier (<ipython-input-1-1e5deb318402>, line 1)",
     "output_type": "error",
     "traceback": [
      "\u001b[1;36m  File \u001b[1;32m\"<ipython-input-1-1e5deb318402>\"\u001b[1;36m, line \u001b[1;32m1\u001b[0m\n\u001b[1;33m    Summary¶\u001b[0m\n\u001b[1;37m           ^\u001b[0m\n\u001b[1;31mSyntaxError\u001b[0m\u001b[1;31m:\u001b[0m invalid character in identifier\n"
     ]
    }
   ],
   "source": [
    "Summary¶\n",
    "In this notebook we:\n",
    "\n",
    "Investigated the data.\n",
    "Picked a model.\n",
    "Picked a cost function.\n",
    "Estimated the model parameter values that minimised our cost function.\n",
    "Advanced\n",
    "In the following sections we cover some of the more advanced concepts involved in fitting the line.\n",
    "\n",
    "Simulating data\n",
    "Earlier in the notebook we glossed over something important: we didn't actually do the weighing and measuring - we faked the data. A better term for this is simulation, which is an important tool in research, especially when testing methods such as simple linear regression.\n",
    "\n",
    "We ran the following two commands to do this:\n",
    "\n",
    "w = np.arange(0.0, 21.0, 1.0)\n",
    "d = 5.0 * w + 10.0 + np.random.normal(0.0, 5.0, w.size)\n",
    "The first command creates a numpy array containing all values between 1.0 and 21.0 (including 1.0 but not including 21.0) in steps of 1.0."
   ]
  },
  {
   "cell_type": "code",
   "execution_count": null,
   "metadata": {},
   "outputs": [],
   "source": [
    "np.arange(0.0, 21.0, 1.0)"
   ]
  },
  {
   "cell_type": "code",
   "execution_count": null,
   "metadata": {},
   "outputs": [],
   "source": [
    "# The second command is more complex. First it takes the values in the w array, multiplies each by 5.0 and then adds 10.0.\n",
    "5.0 * w + 10.0"
   ]
  },
  {
   "cell_type": "code",
   "execution_count": null,
   "metadata": {},
   "outputs": [],
   "source": [
    "np.random.normal(0.0, 5.0, w.size)"
   ]
  },
  {
   "cell_type": "code",
   "execution_count": null,
   "metadata": {},
   "outputs": [],
   "source": [
    "#The normal distribution follows a bell shaped curve. The curve is centred on the mean (0.0 in this case) and its general width is determined by the standard deviation (5.0 in this case).\n",
    "# Plot the normal distrution.\n",
    "normpdf = lambda mu, s, x: (1.0 / (2.0 * np.pi * s**2)) * np.exp(-((x - mu)**2)/(2 * s**2))\n",
    "\n",
    "x = np.linspace(-20.0, 20.0, 100)\n",
    "y = normpdf(0.0, 5.0, x)\n",
    "plt.plot(x, y)\n",
    "\n",
    "plt.show()"
   ]
  },
  {
   "cell_type": "code",
   "execution_count": null,
   "metadata": {},
   "outputs": [],
   "source": [
    "\n",
    "The idea here is to add a little bit of randomness to the measurements of the distance. The random values are entered around 0.0, with a greater than 99% chance they're within the range -15.0 to 15.0. The normal distribution is used because of the Central Limit Theorem which basically states that when a bunch of random effects happen together the outcome looks roughly like the normal distribution. (Don't quote me on that!)\n",
    "\n",
    "Plotting the cost function\n",
    "We can plot the cost function for a given set of data points. Recall that the cost function involves two variables: $m$ and $c$, and that it looks like this:\n",
    "\n",
    "$$ Cost(m,c) = \\sum_i (y_i - mx_i - c)^2 $$\n",
    "To plot a function of two variables we need a 3D plot. It can be difficult to get the viewing angle right in 3D plots, but below you can just about make out that there is a low point on the graph around the $(m, c) = (\\approx 5.0, \\approx 10.0)$ point."
   ]
  },
  {
   "cell_type": "code",
   "execution_count": null,
   "metadata": {},
   "outputs": [],
   "source": [
    "# This code is a little bit involved - don't worry about it.\n",
    "# Just look at the plot below.\n",
    "\n",
    "from mpl_toolkits.mplot3d import Axes3D\n",
    "\n",
    "# Ask pyplot a 3D set of axes.\n",
    "ax = plt.figure().gca(projection='3d')\n",
    "\n",
    "# Make data.\n",
    "mvals = np.linspace(4.5, 5.5, 100)\n",
    "cvals = np.linspace(0.0, 20.0, 100)\n",
    "\n",
    "# Fill the grid.\n",
    "mvals, cvals = np.meshgrid(mvals, cvals)\n",
    "\n",
    "# Flatten the meshes for convenience.\n",
    "mflat = np.ravel(mvals)\n",
    "cflat = np.ravel(cvals)\n",
    "\n",
    "# Calculate the cost of each point on the grid.\n",
    "C = [np.sum([(d[i] - m * w[i] - c)**2 for i in range(w.size)]) for m, c in zip(mflat, cflat)]\n",
    "C = np.array(C).reshape(mvals.shape)\n",
    "\n",
    "# Plot the surface.\n",
    "surf = ax.plot_surface(mvals, cvals, C)\n",
    "\n",
    "# Set the axis labels.\n",
    "ax.set_xlabel('$m$', fontsize=16)\n",
    "ax.set_ylabel('$c$', fontsize=16)\n",
    "ax.set_zlabel('$Cost$', fontsize=16)\n",
    "\n",
    "# Show the plot.\n",
    "plt.show()"
   ]
  },
  {
   "cell_type": "code",
   "execution_count": null,
   "metadata": {},
   "outputs": [],
   "source": [
    "\n",
    "Coefficient of determination\n",
    "Earlier we used a cost function to determine the best line to fit the data. Usually the data do not perfectly fit on the best fit line, and so the cost is greater than 0. A quantity closely related to the cost is the coefficient of determination, also known as the R-squared value. The purpose of the R-squared value is to measure how much of the variance in $y$ is determined by $x$.\n",
    "\n",
    "For instance, in our example the main thing that affects the distance the spring is hanging down is the weight on the end. It's not the only thing that affects it though. The room temperature and density of the air at the time of measurment probably affect it a little. The age of the spring, and how many times it has been stretched previously probably also have a small affect. There are probably lots of unknown factors affecting the measurment.\n",
    "\n",
    "The R-squared value estimates how much of the changes in the $y$ value is due to the changes in the $x$ value compared to all of the other factors affecting the $y$ value. It is calculated as follows:\n",
    "\n",
    "$$ R^2 = 1 - \\frac{\\sum_i (y_i - m x_i - c)^2}{\\sum_i (y_i - \\bar{y})^2} $$\n",
    "Note that sometimes the Pearson correlation coefficient is used instead of the R-squared value. You can just square the Pearson coefficient to get the R-squred value."
   ]
  },
  {
   "cell_type": "code",
   "execution_count": null,
   "metadata": {},
   "outputs": [],
   "source": [
    "# Calculate the R-squared value for our data set.\n",
    "rsq = 1.0 - (np.sum((d - m * w - c)**2)/np.sum((d - d_avg)**2))\n",
    "\n",
    "print(\"The R-squared value is %6.4f\" % rsq)"
   ]
  },
  {
   "cell_type": "code",
   "execution_count": null,
   "metadata": {},
   "outputs": [],
   "source": [
    "# The same value using numpy.\n",
    "np.corrcoef(w, d)[0][1]**2\n"
   ]
  },
  {
   "cell_type": "markdown",
   "metadata": {},
   "source": [
    "The minimisation calculations\n",
    "Earlier we used the following calculation to calculate $m$ and $c$ for the line of best fit. The code was:\n",
    "\n",
    "w_zero = w - np.mean(w)\n",
    "d_zero = d - np.mean(d)\n",
    "\n",
    "m = np.sum(w_zero * d_zero) / np.sum(w_zero * w_zero)\n",
    "c = np.mean(d) - m * np.mean(w)\n",
    "In mathematical notation we write this as:\n",
    "\n",
    "$$ m = \\frac{\\sum_i (x_i - \\bar{x}) (y_i - \\bar{y})}{\\sum_i (x_i - \\bar{x})^2} \\qquad \\textrm{and} \\qquad c = \\bar{y} - m \\bar{x} $$\n",
    "where $\\bar{x}$ is the mean of $x$ and $\\bar{y}$ that of $y$.\n",
    "\n",
    "Where did these equations come from? They were derived using calculus. We'll give a brief overview of it here, but feel free to gloss over this section if it's not for you. If you can understand the first part, where we calculate the partial derivatives, then great!\n",
    "\n",
    "The calculations look complex, but if you know basic differentiation, including the chain rule, you can easily derive them. First, we differentiate the cost function with respect to $m$ while treating $c$ as a constant, called a partial derivative. We write this as $\\frac{\\partial m}{ \\partial Cost}$, using $\\delta$ as opposed to $d$ to signify that we are treating the other variable as a constant. We then do the same with respect to $c$ while treating $m$ as a constant. We set both equal to zero, and then solve them as two simultaneous equations in two variables.\n",
    "\n",
    "Calculate the partial derivatives\n",
    "$$\n",
    "\\begin{align}\n",
    "Cost(m, c)                       &amp;= \\sum_i (y_i - mx_i - c)^2      \\\\[1cm]\n",
    "\\frac{\\partial Cost}{\\partial m} &amp;= \\sum 2(y_i - m x_i -c)(-x_i) \\\\\n",
    "                                 &amp;= -2 \\sum x_i (y_i - m x_i -c) \\\\[0.5cm]\n",
    "\\frac{\\partial Cost}{\\partial c} &amp; = \\sum 2(y_i - m x_i -c)(-1) \\\\\n",
    "                                 &amp; = -2 \\sum (y_i - m x_i -c)   \\\\\n",
    "\\end{align}\n",
    "$$\n",
    "Set to zero\n",
    "$$\n",
    "\\begin{align}\n",
    "&amp; \\frac{\\partial Cost}{\\partial m}                         = 0 \\\\[0.2cm]\n",
    "&amp; \\Rightarrow -2 \\sum x_i (y_i - m x_i -c)                 = 0 \\\\\n",
    "&amp; \\Rightarrow \\sum (x_i y_i - m x_i x_i - x_i c)           = 0 \\\\\n",
    "&amp; \\Rightarrow \\sum x_i y_i - \\sum_i m x_i x_i - \\sum x_i c = 0 \\\\\n",
    "&amp; \\Rightarrow m \\sum x_i x_i                               = \\sum x_i y_i - c \\sum x_i \\\\[0.2cm]\n",
    "&amp; \\Rightarrow m                                            = \\frac{\\sum x_i y_i - c \\sum x_i}{\\sum x_i x_i} \\\\[0.5cm]\n",
    "&amp; \\frac{\\partial Cost}{\\partial c}               = 0 \\\\[0.2cm]\n",
    "&amp; \\Rightarrow -2 \\sum (y_i - m x_i - c)          = 0 \\\\\n",
    "&amp; \\Rightarrow \\sum y_i - \\sum_i m x_i - \\sum c   = 0 \\\\\n",
    "&amp; \\Rightarrow \\sum y_i - m \\sum_i x_i            = c \\sum 1 \\\\\n",
    "&amp; \\Rightarrow c = \\frac{\\sum y_i - m \\sum x_i}{\\sum 1} \\\\\n",
    "&amp; \\Rightarrow c = \\frac{\\sum y_i}{\\sum 1} - m \\frac{\\sum x_i}{\\sum 1} \\\\[0.2cm]\n",
    "&amp; \\Rightarrow c = \\bar{y} - m \\bar{x} \\\\\n",
    "\\end{align}\n",
    "$$\n",
    "Solve the simultaneous equations\n",
    "Here we let $n$ be the length of $x$, which is also the length of $y$.\n",
    "\n",
    "$$\n",
    "\\begin{align}\n",
    "&amp; m = \\frac{\\sum_i x_i y_i - c \\sum_i x_i}{\\sum_i x_i x_i} \\\\[0.2cm]\n",
    "&amp; \\Rightarrow m = \\frac{\\sum x_i y_i - (\\bar{y} - m \\bar{x}) \\sum x_i}{\\sum x_i x_i} \\\\\n",
    "&amp; \\Rightarrow m \\sum x_i x_i = \\sum x_i y_i - \\bar{y} \\sum x_i + m \\bar{x} \\sum x_i \\\\\n",
    "&amp; \\Rightarrow m \\sum x_i x_i - m \\bar{x} \\sum x_i = \\sum x_i y_i - \\bar{y} \\sum x_i \\\\[0.3cm]\n",
    "&amp; \\Rightarrow m = \\frac{\\sum x_i y_i - \\bar{y} \\sum x_i}{\\sum x_i x_i - \\bar{x} \\sum x_i} \\\\[0.2cm]\n",
    "&amp; \\Rightarrow m = \\frac{\\sum (x_i y_i) - n \\bar{y} \\bar{x}}{\\sum (x_i x_i) - n \\bar{x} \\bar{x}} \\\\\n",
    "&amp; \\Rightarrow m = \\frac{\\sum (x_i y_i) - n \\bar{y} \\bar{x} - n \\bar{y} \\bar{x} + n \\bar{y} \\bar{x}}{\\sum (x_i x_i) - n \\bar{x} \\bar{x} - n \\bar{x} \\bar{x} + n \\bar{x} \\bar{x}} \\\\\n",
    "&amp; \\Rightarrow m = \\frac{\\sum (x_i y_i) - \\sum y_i \\bar{x} - \\sum \\bar{y} x_i + n \\bar{y} \\bar{x}}{\\sum (x_i x_i) - \\sum x_i \\bar{x} - \\sum \\bar{x} x_i + n \\bar{x} \\bar{x}} \\\\\n",
    "&amp; \\Rightarrow m = \\frac{\\sum_i (x_i - \\bar{x}) (y_i - \\bar{y})}{\\sum_i (x_i - \\bar{x})^2} \\\\\n",
    "\\end{align}\n",
    "$$\n",
    "\n",
    "\n",
    "Using sklearn neural networks"
   ]
  },
  {
   "cell_type": "code",
   "execution_count": null,
   "metadata": {},
   "outputs": [],
   "source": [
    "import sklearn.neural_network as sknn\n",
    "\n",
    "# Expects a 2D array of inputs.\n",
    "w2d = w.reshape(-1, 1)\n",
    "\n",
    "# Train the neural network.\n",
    "regr = sknn.MLPRegressor(max_iter=10000).fit(w2d, d)\n",
    "\n",
    "# Show the predictions.\n",
    "np.array([d, regr.predict(w2d)]).T"
   ]
  },
  {
   "cell_type": "code",
   "execution_count": null,
   "metadata": {},
   "outputs": [],
   "source": [
    "# The score.\n",
    "regr.score(w2d, d)"
   ]
  },
  {
   "cell_type": "code",
   "execution_count": null,
   "metadata": {},
   "outputs": [],
   "source": []
  },
  {
   "cell_type": "code",
   "execution_count": null,
   "metadata": {},
   "outputs": [],
   "source": []
  }
 ],
 "metadata": {
  "kernelspec": {
   "display_name": "Python 3",
   "language": "python",
   "name": "python3"
  },
  "language_info": {
   "codemirror_mode": {
    "name": "ipython",
    "version": 3
   },
   "file_extension": ".py",
   "mimetype": "text/x-python",
   "name": "python",
   "nbconvert_exporter": "python",
   "pygments_lexer": "ipython3",
   "version": "3.8.3"
  }
 },
 "nbformat": 4,
 "nbformat_minor": 4
}

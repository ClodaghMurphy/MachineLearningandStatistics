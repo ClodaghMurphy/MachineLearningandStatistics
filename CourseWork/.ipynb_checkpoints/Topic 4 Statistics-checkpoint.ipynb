{
 "cells": [
  {
   "cell_type": "markdown",
   "metadata": {},
   "source": [
    "### t-Tests 18th October"
   ]
  },
  {
   "cell_type": "code",
   "execution_count": null,
   "metadata": {},
   "outputs": [],
   "source": [
    "A t test is a statistical test.\n",
    "It looks for differences between two sets of numbers, compares the distributions.\n",
    "\n",
    "See also the wikipedia page for t test originally attributed to the person with pyseudonom \"Student\""
   ]
  },
  {
   "cell_type": "markdown",
   "metadata": {},
   "source": [
    "#### Packages"
   ]
  },
  {
   "cell_type": "code",
   "execution_count": 1,
   "metadata": {},
   "outputs": [],
   "source": [
    "import numpy as np #efficent numerical arrays,lists of lists of numbers\n",
    "import pandas as pd #excel for python, good for spreadsheets\n",
    "import statsmodels.stats.weightstats as stat #extra stats package\n",
    "import scipy.stats as ss#similar to above,more functionality with scipy though\n",
    "import matplotlib.pyplot as plt#basic plots\n",
    "import seaborn as sns#higher level plots\n",
    "\n",
    "plt.style.use(\"fivethirtyeight\")#reference to Nate Silver"
   ]
  },
  {
   "cell_type": "code",
   "execution_count": null,
   "metadata": {},
   "outputs": [],
   "source": [
    "Simulate Data Values"
   ]
  },
  {
   "cell_type": "code",
   "execution_count": null,
   "metadata": {},
   "outputs": [],
   "source": [
    "m_a, s_a, m_b, s_b = 1.0, 0.4, 2.0, 0.4\n",
    "N = 40\n",
    "\n",
    "a = np.random.normal(loc=m_a, scale=s_a, size=N)\n",
    "b = np.random.normal(loc=m_b, scale=s_b, size=N)\n",
    "\n",
    "df = pd.DataFrame({'Category': ['A'] * len(a) + ['B'] * len(b), 'Value': np.hstack([a,b])})\n",
    "\n",
    "df"
   ]
  },
  {
   "cell_type": "code",
   "execution_count": null,
   "metadata": {},
   "outputs": [],
   "source": [
    "Plot Data"
   ]
  },
  {
   "cell_type": "code",
   "execution_count": null,
   "metadata": {},
   "outputs": [],
   "source": [
    "sns.catplot(x='Category', y='Value', jitter=False, data=df);"
   ]
  },
  {
   "cell_type": "code",
   "execution_count": null,
   "metadata": {},
   "outputs": [],
   "source": [
    "t_Test"
   ]
  },
  {
   "cell_type": "code",
   "execution_count": null,
   "metadata": {},
   "outputs": [],
   "source": [
    "# The scipy.stats version.\n",
    "t_ss, p_ss = ss.ttest_ind(a, b)\n",
    "print(f\"P_scipy: {p_ss:0.2f}\")"
   ]
  },
  {
   "cell_type": "code",
   "execution_count": null,
   "metadata": {},
   "outputs": [],
   "source": [
    "# test statistic, pvalue of the t-test, degrees of freedom used in the t-test\n",
    "t, p, d = stat.ttest_ind(a, b)\n",
    "print(f\"P: {p:0.2f}\")"
   ]
  },
  {
   "cell_type": "code",
   "execution_count": null,
   "metadata": {},
   "outputs": [],
   "source": [
    "Visualisation"
   ]
  },
  {
   "cell_type": "code",
   "execution_count": null,
   "metadata": {},
   "outputs": [],
   "source": [
    "x = np.linspace(-2.0, 4.0, 1000)\n",
    "\n",
    "y_a = ss.norm.pdf(x, m_a, s_a)\n",
    "y_b = ss.norm.pdf(x, m_b, s_b)\n",
    "\n",
    "fig, ax = plt.subplots(figsize=(10,6))\n",
    "\n",
    "ax.plot(x, y_a)\n",
    "ax.plot(x, y_b)\n",
    "\n",
    "plt.show()"
   ]
  },
  {
   "cell_type": "code",
   "execution_count": null,
   "metadata": {},
   "outputs": [],
   "source": [
    "x_t = np.linspace(-4.0, 4.0, 1000)\n",
    "t = ss.t.pdf(x_t, d)\n",
    "tf = pd.DataFrame({'x': x_t, 't': t})\n",
    "\n",
    "tcrit = abs(ss.t.ppf(0.025, d))\n",
    "one = tf[tf['x'] >= tcrit]\n",
    "two = tf[tf['x'] <= -tcrit]\n",
    "\n",
    "fig, ax = plt.subplots(figsize=(10,6))\n",
    "\n",
    "ax.plot(x_t, t)\n",
    "ax.fill_between(one['x'], one['t'], 0, facecolor=\"red\")\n",
    "ax.fill_between(two['x'], two['t'], 0, facecolor=\"red\")\n",
    "\n",
    "plt.show()"
   ]
  },
  {
   "cell_type": "code",
   "execution_count": null,
   "metadata": {},
   "outputs": [],
   "source": [
    "Type I errors - false positives"
   ]
  },
  {
   "cell_type": "code",
   "execution_count": null,
   "metadata": {},
   "outputs": [],
   "source": [
    "trials = 10000\n",
    "N = 100\n",
    "m_a, m_b, s = 2.0, 2.0, 0.3\n",
    "rejects = 0\n",
    "\n",
    "for i in range(trials):\n",
    "    a = np.random.normal(loc=m_a, scale=s, size=N)\n",
    "    b = np.random.normal(loc=m_b, scale=s, size=N)\n",
    "    if ss.ttest_ind(a, b)[1] <= 0.05:\n",
    "        rejects = rejects + 1\n",
    "\n",
    "typei = 100.0 * (rejects / trials)\n",
    "print(f\"{typei:0.2f}%\")"
   ]
  },
  {
   "cell_type": "code",
   "execution_count": null,
   "metadata": {},
   "outputs": [],
   "source": [
    "Paired Samples"
   ]
  },
  {
   "cell_type": "code",
   "execution_count": null,
   "metadata": {},
   "outputs": [],
   "source": [
    "\n",
    "References for this section:\n",
    "\n",
    "Vincent Arel-Bundock's R datasets list\n",
    "\n",
    "t-test: Comparing Group Means"
   ]
  },
  {
   "cell_type": "code",
   "execution_count": null,
   "metadata": {},
   "outputs": [],
   "source": [
    "dfsleep = pd.read_csv(\"https://vincentarelbundock.github.io/Rdatasets/csv/datasets/sleep.csv\")\n",
    "dfsleep"
   ]
  },
  {
   "cell_type": "code",
   "execution_count": null,
   "metadata": {},
   "outputs": [],
   "source": [
    "drugA = dfsleep[dfsleep[\"group\"] == 1]\n",
    "drugA = drugA.sort_values(\"ID\")\n",
    "drugA = drugA[\"extra\"].to_numpy()\n",
    "drugA"
   ]
  },
  {
   "cell_type": "code",
   "execution_count": null,
   "metadata": {},
   "outputs": [],
   "source": [
    "drugB = dfsleep[dfsleep[\"group\"] == 2]\n",
    "drugB = drugB.sort_values(\"ID\")\n",
    "drugB = drugB[\"extra\"].to_numpy()\n",
    "drugB"
   ]
  },
  {
   "cell_type": "code",
   "execution_count": null,
   "metadata": {},
   "outputs": [],
   "source": [
    "ss.ttest_rel(drugA, drugB)"
   ]
  },
  {
   "cell_type": "code",
   "execution_count": null,
   "metadata": {},
   "outputs": [],
   "source": [
    "ss.ttest_1samp(drugB - drugA, 0)"
   ]
  },
  {
   "cell_type": "code",
   "execution_count": null,
   "metadata": {},
   "outputs": [],
   "source": [
    "stat.DescrStatsW(drugB - drugA).ttest_mean(0)"
   ]
  }
 ],
 "metadata": {
  "kernelspec": {
   "display_name": "Python 3",
   "language": "python",
   "name": "python3"
  },
  "language_info": {
   "codemirror_mode": {
    "name": "ipython",
    "version": 3
   },
   "file_extension": ".py",
   "mimetype": "text/x-python",
   "name": "python",
   "nbconvert_exporter": "python",
   "pygments_lexer": "ipython3",
   "version": "3.8.3"
  }
 },
 "nbformat": 4,
 "nbformat_minor": 4
}
